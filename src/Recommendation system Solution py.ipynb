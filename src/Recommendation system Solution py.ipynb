{
 "cells": [
  {
   "cell_type": "code",
   "execution_count": 1,
   "metadata": {},
   "outputs": [],
   "source": [
    "import os\n",
    "import numpy as np  \n",
    "import pandas as pd\n",
    "import matplotlib.pyplot as plt\n",
    "import seaborn as sns"
   ]
  },
  {
   "cell_type": "code",
   "execution_count": 2,
   "metadata": {},
   "outputs": [
    {
     "data": {
      "text/html": [
       "<div>\n",
       "<style scoped>\n",
       "    .dataframe tbody tr th:only-of-type {\n",
       "        vertical-align: middle;\n",
       "    }\n",
       "\n",
       "    .dataframe tbody tr th {\n",
       "        vertical-align: top;\n",
       "    }\n",
       "\n",
       "    .dataframe thead th {\n",
       "        text-align: right;\n",
       "    }\n",
       "</style>\n",
       "<table border=\"1\" class=\"dataframe\">\n",
       "  <thead>\n",
       "    <tr style=\"text-align: right;\">\n",
       "      <th></th>\n",
       "      <th>userid</th>\n",
       "      <th>productid</th>\n",
       "      <th>rating</th>\n",
       "      <th>timestamp</th>\n",
       "    </tr>\n",
       "  </thead>\n",
       "  <tbody>\n",
       "    <tr>\n",
       "      <td>0</td>\n",
       "      <td>AKM1MP6P0OYPR</td>\n",
       "      <td>0132793040</td>\n",
       "      <td>5.0</td>\n",
       "      <td>1365811200</td>\n",
       "    </tr>\n",
       "    <tr>\n",
       "      <td>1</td>\n",
       "      <td>A2CX7LUOHB2NDG</td>\n",
       "      <td>0321732944</td>\n",
       "      <td>5.0</td>\n",
       "      <td>1341100800</td>\n",
       "    </tr>\n",
       "    <tr>\n",
       "      <td>2</td>\n",
       "      <td>A2NWSAGRHCP8N5</td>\n",
       "      <td>0439886341</td>\n",
       "      <td>1.0</td>\n",
       "      <td>1367193600</td>\n",
       "    </tr>\n",
       "    <tr>\n",
       "      <td>3</td>\n",
       "      <td>A2WNBOD3WNDNKT</td>\n",
       "      <td>0439886341</td>\n",
       "      <td>3.0</td>\n",
       "      <td>1374451200</td>\n",
       "    </tr>\n",
       "    <tr>\n",
       "      <td>4</td>\n",
       "      <td>A1GI0U4ZRJA8WN</td>\n",
       "      <td>0439886341</td>\n",
       "      <td>1.0</td>\n",
       "      <td>1334707200</td>\n",
       "    </tr>\n",
       "  </tbody>\n",
       "</table>\n",
       "</div>"
      ],
      "text/plain": [
       "           userid   productid  rating   timestamp\n",
       "0   AKM1MP6P0OYPR  0132793040     5.0  1365811200\n",
       "1  A2CX7LUOHB2NDG  0321732944     5.0  1341100800\n",
       "2  A2NWSAGRHCP8N5  0439886341     1.0  1367193600\n",
       "3  A2WNBOD3WNDNKT  0439886341     3.0  1374451200\n",
       "4  A1GI0U4ZRJA8WN  0439886341     1.0  1334707200"
      ]
     },
     "execution_count": 2,
     "metadata": {},
     "output_type": "execute_result"
    }
   ],
   "source": [
    "ratings = pd.read_csv(\"ratings_Electronics.csv\", names=['userid', 'productid', 'rating', 'timestamp'])  \n",
    "ratings.head() "
   ]
  },
  {
   "cell_type": "code",
   "execution_count": 3,
   "metadata": {},
   "outputs": [
    {
     "data": {
      "text/plain": [
       "(7824482, 4)"
      ]
     },
     "execution_count": 3,
     "metadata": {},
     "output_type": "execute_result"
    }
   ],
   "source": [
    "ratings.shape"
   ]
  },
  {
   "cell_type": "code",
   "execution_count": 4,
   "metadata": {},
   "outputs": [
    {
     "name": "stdout",
     "output_type": "stream",
     "text": [
      "Number of missing values across columns: \n",
      " userid       0\n",
      "productid    0\n",
      "rating       0\n",
      "timestamp    0\n",
      "dtype: int64\n"
     ]
    }
   ],
   "source": [
    "#Check for missing values\n",
    "print('Number of missing values across columns: \\n',ratings.isnull().sum())"
   ]
  },
  {
   "cell_type": "code",
   "execution_count": 5,
   "metadata": {},
   "outputs": [
    {
     "data": {
      "text/plain": [
       "userid        object\n",
       "productid     object\n",
       "rating       float64\n",
       "timestamp      int64\n",
       "dtype: object"
      ]
     },
     "execution_count": 5,
     "metadata": {},
     "output_type": "execute_result"
    }
   ],
   "source": [
    "ratings.dtypes"
   ]
  },
  {
   "cell_type": "code",
   "execution_count": 6,
   "metadata": {},
   "outputs": [
    {
     "name": "stdout",
     "output_type": "stream",
     "text": [
      "<class 'pandas.core.frame.DataFrame'>\n",
      "RangeIndex: 7824482 entries, 0 to 7824481\n",
      "Data columns (total 4 columns):\n",
      "userid       object\n",
      "productid    object\n",
      "rating       float64\n",
      "timestamp    int64\n",
      "dtypes: float64(1), int64(1), object(2)\n",
      "memory usage: 238.8+ MB\n"
     ]
    }
   ],
   "source": [
    "ratings.info()"
   ]
  },
  {
   "cell_type": "code",
   "execution_count": 7,
   "metadata": {},
   "outputs": [
    {
     "name": "stdout",
     "output_type": "stream",
     "text": [
      "Minimum rating is: 1\n",
      "Maximum rating is: 5\n"
     ]
    }
   ],
   "source": [
    "#Find the minimum and maximum ratings\n",
    "print('Minimum rating is: %d' %(ratings.rating.min()))\n",
    "print('Maximum rating is: %d' %(ratings.rating.max()))"
   ]
  },
  {
   "cell_type": "code",
   "execution_count": 8,
   "metadata": {},
   "outputs": [
    {
     "name": "stderr",
     "output_type": "stream",
     "text": [
      "/opt/anaconda3/lib/python3.7/site-packages/seaborn/categorical.py:3666: UserWarning: The `factorplot` function has been renamed to `catplot`. The original name will be removed in a future release. Please update your code. Note that the default `kind` in `factorplot` (`'point'`) has changed `'strip'` in `catplot`.\n",
      "  warnings.warn(msg)\n"
     ]
    },
    {
     "data": {
      "image/png": "[encoded data removed]",
      "text/plain": [
       "<Figure size 720x360 with 1 Axes>"
      ]
     },
     "metadata": {},
     "output_type": "display_data"
    }
   ],
   "source": [
    "# Check the distribution of the rating\n",
    "with sns.axes_style('white'):\n",
    "    g = sns.factorplot(\"rating\", data=ratings, aspect=2.0,kind='count')\n",
    "    g.set_ylabels(\"Total number of ratings in the dataset\")"
   ]
  },
  {
   "cell_type": "code",
   "execution_count": 9,
   "metadata": {},
   "outputs": [
    {
     "name": "stdout",
     "output_type": "stream",
     "text": [
      "Total data \n",
      "--------------------------------------------------\n",
      "\n",
      "Total no of ratings : 7824482\n",
      "Total No of Users   : 4201696\n",
      "Total No of products  : 476002\n"
     ]
    }
   ],
   "source": [
    "print(\"Total data \")\n",
    "print(\"-\"*50)\n",
    "print(\"\\nTotal no of ratings :\",ratings.shape[0])\n",
    "print(\"Total No of Users   :\", len(np.unique(ratings.userid)))\n",
    "print(\"Total No of products  :\", len(np.unique(ratings.productid)))"
   ]
  },
  {
   "cell_type": "code",
   "execution_count": 10,
   "metadata": {},
   "outputs": [],
   "source": [
    "# We can Drop the Timestamp column as we do not have much use of it\n",
    "\n",
    "ratings.drop(['timestamp'], axis=1,inplace=True)"
   ]
  },
  {
   "cell_type": "code",
   "execution_count": 11,
   "metadata": {},
   "outputs": [
    {
     "data": {
      "text/plain": [
       "userid\n",
       "A5JLAU2ARJ0BO     520\n",
       "ADLVFFE4VBT8      501\n",
       "A3OXHLG6DIBRW8    498\n",
       "A6FIAB28IS79      431\n",
       "A680RUE1FDO8B     406\n",
       "Name: rating, dtype: int64"
      ]
     },
     "execution_count": 11,
     "metadata": {},
     "output_type": "execute_result"
    }
   ],
   "source": [
    "#let's Analyse rating given by user \n",
    "\n",
    "no_of_rated_products_per_user = ratings.groupby(by='userid')['rating'].count().sort_values(ascending=False)\n",
    "\n",
    "no_of_rated_products_per_user.head()\n"
   ]
  },
  {
   "cell_type": "code",
   "execution_count": 12,
   "metadata": {},
   "outputs": [
    {
     "data": {
      "text/plain": [
       "count    4.201696e+06\n",
       "mean     1.862220e+00\n",
       "std      2.885110e+00\n",
       "min      1.000000e+00\n",
       "25%      1.000000e+00\n",
       "50%      1.000000e+00\n",
       "75%      2.000000e+00\n",
       "max      5.200000e+02\n",
       "Name: rating, dtype: float64"
      ]
     },
     "execution_count": 12,
     "metadata": {},
     "output_type": "execute_result"
    }
   ],
   "source": [
    "no_of_rated_products_per_user.describe()"
   ]
  },
  {
   "cell_type": "code",
   "execution_count": 13,
   "metadata": {},
   "outputs": [],
   "source": [
    "quantiles = no_of_rated_products_per_user.quantile(np.arange(0,1.01,0.01), interpolation='higher')"
   ]
  },
  {
   "cell_type": "code",
   "execution_count": 14,
   "metadata": {},
   "outputs": [
    {
     "data": {
      "image/png": "[encoded data removed]",
      "text/plain": [
       "<Figure size 720x720 with 1 Axes>"
      ]
     },
     "metadata": {
      "needs_background": "light"
     },
     "output_type": "display_data"
    }
   ],
   "source": [
    "## quantiles calculations\n",
    "plt.figure(figsize=(10,10))\n",
    "plt.title(\"Quantiles and their Values\")\n",
    "quantiles.plot()\n",
    "plt.scatter(x=quantiles.index[::5], y=quantiles.values[::5], c='orange', label=\"quantiles with 0.05 intervals\")\n",
    "plt.scatter(x=quantiles.index[::25], y=quantiles.values[::25], c='m', label = \"quantiles with 0.25 intervals\")\n",
    "plt.ylabel('No of ratings by user')\n",
    "plt.xlabel('Value at the quantile')\n",
    "plt.legend(loc='best')\n",
    "plt.show()"
   ]
  },
  {
   "cell_type": "code",
   "execution_count": 15,
   "metadata": {},
   "outputs": [
    {
     "name": "stdout",
     "output_type": "stream",
     "text": [
      "Number of rated product by users only who has given 50 or more number of ratings : 1540\n",
      "\n"
     ]
    }
   ],
   "source": [
    "print('Number of rated product by users only who has given 50 or more number of ratings : {}\\n'.format(sum(no_of_rated_products_per_user >= 50)) )"
   ]
  },
  {
   "cell_type": "code",
   "execution_count": 16,
   "metadata": {},
   "outputs": [],
   "source": [
    "# creating new dataframe which contains users who has given 50 or more ratings\n",
    "\n",
    "new_df=ratings.groupby(\"productid\").filter(lambda x:x['rating'].count() >=50)\n"
   ]
  },
  {
   "cell_type": "code",
   "execution_count": 17,
   "metadata": {},
   "outputs": [
    {
     "data": {
      "image/png": "[encoded data removed]",
      "text/plain": [
       "<Figure size 576x288 with 1 Axes>"
      ]
     },
     "metadata": {
      "needs_background": "light"
     },
     "output_type": "display_data"
    }
   ],
   "source": [
    "no_of_ratings_per_product = new_df.groupby(by='productid')['rating'].count().sort_values(ascending=False)\n",
    "\n",
    "fig = plt.figure(figsize=plt.figaspect(.5))\n",
    "ax = plt.gca()\n",
    "plt.plot(no_of_ratings_per_product.values)\n",
    "plt.title('# RATINGS per Product')\n",
    "plt.xlabel('Product')\n",
    "plt.ylabel('No of ratings per product')\n",
    "ax.set_xticklabels([])\n",
    "\n",
    "plt.show()\n"
   ]
  },
  {
   "cell_type": "code",
   "execution_count": 18,
   "metadata": {},
   "outputs": [
    {
     "data": {
      "text/plain": [
       "productid\n",
       "0972683275    4.470980\n",
       "1400501466    3.560000\n",
       "1400501520    4.243902\n",
       "1400501776    3.884892\n",
       "1400532620    3.684211\n",
       "Name: rating, dtype: float64"
      ]
     },
     "execution_count": 18,
     "metadata": {},
     "output_type": "execute_result"
    }
   ],
   "source": [
    "#Average rating of the product \n",
    "\n",
    "new_df.groupby('productid')['rating'].mean().head()"
   ]
  },
  {
   "cell_type": "code",
   "execution_count": 19,
   "metadata": {},
   "outputs": [
    {
     "data": {
      "text/plain": [
       "productid\n",
       "B002E6R7NG    4.980392\n",
       "B004I763AW    4.966667\n",
       "B003J9QQWU    4.964286\n",
       "B0043ZLFXE    4.955556\n",
       "B000TMFYBO    4.953125\n",
       "Name: rating, dtype: float64"
      ]
     },
     "execution_count": 19,
     "metadata": {},
     "output_type": "execute_result"
    }
   ],
   "source": [
    "new_df.groupby('productid')['rating'].mean().sort_values(ascending=False).head()"
   ]
  },
  {
   "cell_type": "code",
   "execution_count": 20,
   "metadata": {},
   "outputs": [
    {
     "data": {
      "text/plain": [
       "productid\n",
       "B0074BW614    18244\n",
       "B00DR0PDNE    16454\n",
       "B007WTAJTO    14172\n",
       "B0019EHU8G    12285\n",
       "B006GWO5WK    12226\n",
       "Name: rating, dtype: int64"
      ]
     },
     "execution_count": 20,
     "metadata": {},
     "output_type": "execute_result"
    }
   ],
   "source": [
    "#Total no of rating for product\n",
    "\n",
    "new_df.groupby('productid')['rating'].count().sort_values(ascending=False).head()\n"
   ]
  },
  {
   "cell_type": "code",
   "execution_count": 21,
   "metadata": {},
   "outputs": [],
   "source": [
    "ratings_mean_count = pd.DataFrame(new_df.groupby('productid')['rating'].mean())"
   ]
  },
  {
   "cell_type": "code",
   "execution_count": 22,
   "metadata": {},
   "outputs": [],
   "source": [
    "ratings_mean_count['rating_counts'] = pd.DataFrame(new_df.groupby('productid')['rating'].count())"
   ]
  },
  {
   "cell_type": "code",
   "execution_count": 23,
   "metadata": {},
   "outputs": [
    {
     "data": {
      "text/html": [
       "<div>\n",
       "<style scoped>\n",
       "    .dataframe tbody tr th:only-of-type {\n",
       "        vertical-align: middle;\n",
       "    }\n",
       "\n",
       "    .dataframe tbody tr th {\n",
       "        vertical-align: top;\n",
       "    }\n",
       "\n",
       "    .dataframe thead th {\n",
       "        text-align: right;\n",
       "    }\n",
       "</style>\n",
       "<table border=\"1\" class=\"dataframe\">\n",
       "  <thead>\n",
       "    <tr style=\"text-align: right;\">\n",
       "      <th></th>\n",
       "      <th>rating</th>\n",
       "      <th>rating_counts</th>\n",
       "    </tr>\n",
       "    <tr>\n",
       "      <th>productid</th>\n",
       "      <th></th>\n",
       "      <th></th>\n",
       "    </tr>\n",
       "  </thead>\n",
       "  <tbody>\n",
       "    <tr>\n",
       "      <td>0972683275</td>\n",
       "      <td>4.470980</td>\n",
       "      <td>1051</td>\n",
       "    </tr>\n",
       "    <tr>\n",
       "      <td>1400501466</td>\n",
       "      <td>3.560000</td>\n",
       "      <td>250</td>\n",
       "    </tr>\n",
       "    <tr>\n",
       "      <td>1400501520</td>\n",
       "      <td>4.243902</td>\n",
       "      <td>82</td>\n",
       "    </tr>\n",
       "    <tr>\n",
       "      <td>1400501776</td>\n",
       "      <td>3.884892</td>\n",
       "      <td>139</td>\n",
       "    </tr>\n",
       "    <tr>\n",
       "      <td>1400532620</td>\n",
       "      <td>3.684211</td>\n",
       "      <td>171</td>\n",
       "    </tr>\n",
       "  </tbody>\n",
       "</table>\n",
       "</div>"
      ],
      "text/plain": [
       "              rating  rating_counts\n",
       "productid                          \n",
       "0972683275  4.470980           1051\n",
       "1400501466  3.560000            250\n",
       "1400501520  4.243902             82\n",
       "1400501776  3.884892            139\n",
       "1400532620  3.684211            171"
      ]
     },
     "execution_count": 23,
     "metadata": {},
     "output_type": "execute_result"
    }
   ],
   "source": [
    "ratings_mean_count.head()"
   ]
  },
  {
   "cell_type": "code",
   "execution_count": 24,
   "metadata": {},
   "outputs": [
    {
     "data": {
      "text/plain": [
       "18244"
      ]
     },
     "execution_count": 24,
     "metadata": {},
     "output_type": "execute_result"
    }
   ],
   "source": [
    "ratings_mean_count['rating_counts'].max()"
   ]
  },
  {
   "cell_type": "code",
   "execution_count": 25,
   "metadata": {},
   "outputs": [
    {
     "data": {
      "text/plain": [
       "<matplotlib.axes._subplots.AxesSubplot at 0x1a1e9a4610>"
      ]
     },
     "execution_count": 25,
     "metadata": {},
     "output_type": "execute_result"
    },
    {
     "data": {
      "image/png": "[encoded data removed]",
      "text/plain": [
       "<Figure size 576x432 with 1 Axes>"
      ]
     },
     "metadata": {
      "needs_background": "light"
     },
     "output_type": "display_data"
    }
   ],
   "source": [
    "plt.figure(figsize=(8,6))\n",
    "plt.rcParams['patch.force_edgecolor'] = True\n",
    "ratings_mean_count['rating_counts'].hist(bins=50)"
   ]
  },
  {
   "cell_type": "code",
   "execution_count": 26,
   "metadata": {},
   "outputs": [
    {
     "data": {
      "text/plain": [
       "<matplotlib.axes._subplots.AxesSubplot at 0x1a1d8ab310>"
      ]
     },
     "execution_count": 26,
     "metadata": {},
     "output_type": "execute_result"
    },
    {
     "data": {
      "image/png": "[encoded data removed]",
      "text/plain": [
       "<Figure size 576x432 with 1 Axes>"
      ]
     },
     "metadata": {
      "needs_background": "light"
     },
     "output_type": "display_data"
    }
   ],
   "source": [
    "plt.figure(figsize=(8,6))\n",
    "plt.rcParams['patch.force_edgecolor'] = True\n",
    "ratings_mean_count['rating'].hist(bins=50)"
   ]
  },
  {
   "cell_type": "code",
   "execution_count": 27,
   "metadata": {},
   "outputs": [
    {
     "data": {
      "text/plain": [
       "<seaborn.axisgrid.JointGrid at 0x1a1d8ab350>"
      ]
     },
     "execution_count": 27,
     "metadata": {},
     "output_type": "execute_result"
    },
    {
     "data": {
      "text/plain": [
       "<Figure size 576x432 with 0 Axes>"
      ]
     },
     "metadata": {},
     "output_type": "display_data"
    },
    {
     "data": {
      "image/png": "[encoded data removed]",
      "text/plain": [
       "<Figure size 432x432 with 3 Axes>"
      ]
     },
     "metadata": {
      "needs_background": "light"
     },
     "output_type": "display_data"
    }
   ],
   "source": [
    "plt.figure(figsize=(8,6))\n",
    "plt.rcParams['patch.force_edgecolor'] = True\n",
    "sns.jointplot(x='rating', y='rating_counts', data=ratings_mean_count, alpha=0.4)"
   ]
  },
  {
   "cell_type": "code",
   "execution_count": 28,
   "metadata": {},
   "outputs": [
    {
     "data": {
      "text/plain": [
       "<matplotlib.axes._subplots.AxesSubplot at 0x1a2012c690>"
      ]
     },
     "execution_count": 28,
     "metadata": {},
     "output_type": "execute_result"
    },
    {
     "data": {
      "image/png": "[encoded data removed]",
      "text/plain": [
       "<Figure size 432x288 with 1 Axes>"
      ]
     },
     "metadata": {
      "needs_background": "light"
     },
     "output_type": "display_data"
    }
   ],
   "source": [
    "## Popularity Recommender\n",
    "popular_products = pd.DataFrame(new_df.groupby('productid')['rating'].count())\n",
    "most_popular = popular_products.sort_values('rating', ascending=False)\n",
    "most_popular.head(30).plot(kind = \"bar\")"
   ]
  },
  {
   "cell_type": "code",
   "execution_count": 29,
   "metadata": {},
   "outputs": [],
   "source": [
    "### Collaberative filtering (Item-Item recommedation)"
   ]
  },
  {
   "cell_type": "code",
   "execution_count": 30,
   "metadata": {},
   "outputs": [],
   "source": [
    "from surprise import KNNWithMeans\n",
    "from surprise import Dataset\n",
    "from surprise import accuracy\n",
    "from surprise import Reader\n",
    "import os\n",
    "from surprise.model_selection import train_test_split"
   ]
  },
  {
   "cell_type": "code",
   "execution_count": 31,
   "metadata": {},
   "outputs": [],
   "source": [
    "#Reading the dataset\n",
    "reader = Reader(rating_scale=(1, 5))\n",
    "data = Dataset.load_from_df(new_df,reader)"
   ]
  },
  {
   "cell_type": "code",
   "execution_count": 32,
   "metadata": {},
   "outputs": [],
   "source": [
    "#Splitting the dataset\n",
    "trainset, testset = train_test_split(data, test_size=0.3,random_state=10)"
   ]
  },
  {
   "cell_type": "code",
   "execution_count": 33,
   "metadata": {},
   "outputs": [
    {
     "name": "stdout",
     "output_type": "stream",
     "text": [
      "Estimating biases using als...\n",
      "Computing the pearson_baseline similarity matrix...\n",
      "Done computing similarity matrix.\n"
     ]
    },
    {
     "data": {
      "text/plain": [
       "<surprise.prediction_algorithms.knns.KNNWithMeans at 0x1aeef17d90>"
      ]
     },
     "execution_count": 33,
     "metadata": {},
     "output_type": "execute_result"
    }
   ],
   "source": [
    "# Use user_based true/false to switch between user-based or item-based collaborative filtering\n",
    "algo = KNNWithMeans(k=5, sim_options={'name': 'pearson_baseline', 'user_based': False})\n",
    "algo.fit(trainset)"
   ]
  },
  {
   "cell_type": "code",
   "execution_count": 34,
   "metadata": {},
   "outputs": [],
   "source": [
    "# run the trained model against the testset\n",
    "test_pred = algo.test(testset)"
   ]
  },
  {
   "cell_type": "code",
   "execution_count": 35,
   "metadata": {},
   "outputs": [
    {
     "data": {
      "text/plain": [
       "[Prediction(uid='A3VURW93K8J9EZ', iid='B001DUQU0A', r_ui=5.0, est=4.122448979591836, details={'actual_k': 0, 'was_impossible': False}),\n",
       " Prediction(uid='A1X5EZN73CXAEA', iid='B008R6OPJQ', r_ui=5.0, est=4.8008872864826335, details={'actual_k': 4, 'was_impossible': False}),\n",
       " Prediction(uid='A2XRRKO9JFOU1X', iid='B001URUQ7Y', r_ui=4.0, est=4.062666084355236, details={'was_impossible': True, 'reason': 'User and/or item is unkown.'}),\n",
       " Prediction(uid='A57QKCO2MWP2O', iid='B002UXQKFY', r_ui=5.0, est=4.062666084355236, details={'was_impossible': True, 'reason': 'User and/or item is unkown.'}),\n",
       " Prediction(uid='A2701472A9TBLL', iid='B005FMKJ1I', r_ui=2.0, est=4.062666084355236, details={'was_impossible': True, 'reason': 'User and/or item is unkown.'}),\n",
       " Prediction(uid='ATOU63RU2ZZ2Y', iid='B006U1YVZ8', r_ui=4.0, est=4.052303860523039, details={'actual_k': 0, 'was_impossible': False}),\n",
       " Prediction(uid='A16JVX4D0OG2KY', iid='B003VWYBC2', r_ui=2.0, est=3.6745562130177514, details={'actual_k': 0, 'was_impossible': False}),\n",
       " Prediction(uid='A3CXI61DYHFF1I', iid='B001NJO6AC', r_ui=5.0, est=4.286063569682152, details={'actual_k': 0, 'was_impossible': False}),\n",
       " Prediction(uid='A121Y18LAY5RUH', iid='B002BH3I9U', r_ui=4.0, est=3.8051181102362204, details={'actual_k': 0, 'was_impossible': False}),\n",
       " Prediction(uid='A3DXZ230HKNRM0', iid='B004QK7HI8', r_ui=5.0, est=4.062666084355236, details={'was_impossible': True, 'reason': 'User and/or item is unkown.'}),\n",
       " Prediction(uid='A3L936V0WCXG3L', iid='B00DQZNPAS', r_ui=3.0, est=4.062666084355236, details={'was_impossible': True, 'reason': 'User and/or item is unkown.'}),\n",
       " Prediction(uid='A27DXCP99TSXIK', iid='B00908BMVE', r_ui=5.0, est=4.062666084355236, details={'was_impossible': True, 'reason': 'User and/or item is unkown.'}),\n",
       " Prediction(uid='A2MM3XFJPKF5O7', iid='B003OC6LWM', r_ui=4.0, est=4.062666084355236, details={'was_impossible': True, 'reason': 'User and/or item is unkown.'}),\n",
       " Prediction(uid='A3K916RIGZ5R93', iid='B000I5LACO', r_ui=5.0, est=4.209677419354839, details={'actual_k': 0, 'was_impossible': False}),\n",
       " Prediction(uid='A1GDZKZ0OJ1F8R', iid='B003ISY34U', r_ui=4.0, est=4.062666084355236, details={'was_impossible': True, 'reason': 'User and/or item is unkown.'}),\n",
       " Prediction(uid='A2JSV6SQ84I6P3', iid='B005ONMDYE', r_ui=5.0, est=4.062666084355236, details={'was_impossible': True, 'reason': 'User and/or item is unkown.'}),\n",
       " Prediction(uid='A2B1Y5I8EVL9CK', iid='B0098O8VK0', r_ui=5.0, est=4.062666084355236, details={'was_impossible': True, 'reason': 'User and/or item is unkown.'}),\n",
       " Prediction(uid='A3RHLI2M1PW1RA', iid='B00123WZWK', r_ui=5.0, est=4.512605042016807, details={'actual_k': 0, 'was_impossible': False}),\n",
       " Prediction(uid='AH4BKW4C815J9', iid='B0074703CM', r_ui=1.0, est=4.062666084355236, details={'was_impossible': True, 'reason': 'User and/or item is unkown.'}),\n",
       " Prediction(uid='A2MFNIZ23FQIA3', iid='B0009VU7BW', r_ui=3.0, est=4.062666084355236, details={'was_impossible': True, 'reason': 'User and/or item is unkown.'}),\n",
       " Prediction(uid='A18RQT2T3WT3N4', iid='B005DLDO4U', r_ui=5.0, est=5, details={'actual_k': 1, 'was_impossible': False}),\n",
       " Prediction(uid='A32D9GU2HZ4ZYH', iid='B0000C73CQ', r_ui=5.0, est=4.062666084355236, details={'was_impossible': True, 'reason': 'User and/or item is unkown.'}),\n",
       " Prediction(uid='A3JRJ92SAJUALK', iid='B0000665V6', r_ui=3.0, est=3.811503811503812, details={'actual_k': 1, 'was_impossible': False}),\n",
       " Prediction(uid='A3DB7OCN288Y3H', iid='B001TZUS98', r_ui=5.0, est=4.062666084355236, details={'was_impossible': True, 'reason': 'User and/or item is unkown.'}),\n",
       " Prediction(uid='ADAI3QWOHTWUJ', iid='B002S53LJ2', r_ui=5.0, est=4.550913102095845, details={'actual_k': 1, 'was_impossible': False}),\n",
       " Prediction(uid='A43HCLEKH4BFJ', iid='B00B5J73J6', r_ui=4.0, est=4.278169014084507, details={'actual_k': 0, 'was_impossible': False}),\n",
       " Prediction(uid='AVOXALNNRRCLU', iid='B002SSC8H0', r_ui=5.0, est=4.062666084355236, details={'was_impossible': True, 'reason': 'User and/or item is unkown.'}),\n",
       " Prediction(uid='A144OR2ELHO9H1', iid='B004R7P28W', r_ui=1.0, est=4.062666084355236, details={'was_impossible': True, 'reason': 'User and/or item is unkown.'}),\n",
       " Prediction(uid='A23WFSRJAJM21M', iid='B00CKK9FWC', r_ui=4.0, est=4.6440677966101696, details={'actual_k': 0, 'was_impossible': False}),\n",
       " Prediction(uid='A14TQ6M7CC8APW', iid='B004V3KCIM', r_ui=4.0, est=4.062666084355236, details={'was_impossible': True, 'reason': 'User and/or item is unkown.'}),\n",
       " Prediction(uid='A13LBO3Z7RHK79', iid='B006MVX5B2', r_ui=5.0, est=4.062666084355236, details={'was_impossible': True, 'reason': 'User and/or item is unkown.'}),\n",
       " Prediction(uid='AULRSXCP1NF6B', iid='B005IQRMN4', r_ui=5.0, est=4.083969465648855, details={'actual_k': 0, 'was_impossible': False}),\n",
       " Prediction(uid='AOEA51B0TMVYM', iid='B0075Z2SMG', r_ui=5.0, est=4.062666084355236, details={'was_impossible': True, 'reason': 'User and/or item is unkown.'}),\n",
       " Prediction(uid='A2UJELKJV8RZLZ', iid='B007RH5GZI', r_ui=5.0, est=4.062666084355236, details={'was_impossible': True, 'reason': 'User and/or item is unkown.'}),\n",
       " Prediction(uid='ANSKSPEEAKY7S', iid='B006QOWGC4', r_ui=3.0, est=3.5208333333333335, details={'actual_k': 0, 'was_impossible': False}),\n",
       " Prediction(uid='A1N1DXQGCLJHXK', iid='B003E8GQ62', r_ui=1.0, est=3.6489795918367345, details={'actual_k': 0, 'was_impossible': False}),\n",
       " Prediction(uid='A1B2A65Y7UN49J', iid='B000HDJT4S', r_ui=5.0, est=4.406880189798339, details={'actual_k': 0, 'was_impossible': False}),\n",
       " Prediction(uid='A2R35TRRJYQ387', iid='B006GWO5WK', r_ui=5.0, est=4.062666084355236, details={'was_impossible': True, 'reason': 'User and/or item is unkown.'}),\n",
       " Prediction(uid='A346WER5FVA297', iid='B008GGH4FY', r_ui=5.0, est=4.462535568027818, details={'actual_k': 2, 'was_impossible': False}),\n",
       " Prediction(uid='A97ONNJDNA6EU', iid='B008KBGAT6', r_ui=4.0, est=3.358490566037736, details={'actual_k': 0, 'was_impossible': False}),\n",
       " Prediction(uid='A3NYZB4V55CZIM', iid='B005HMKKH4', r_ui=5.0, est=4.313872629270067, details={'actual_k': 5, 'was_impossible': False}),\n",
       " Prediction(uid='A21PLQ3251JVSX', iid='B007ZKQ9XA', r_ui=5.0, est=4.363636363636363, details={'actual_k': 0, 'was_impossible': False}),\n",
       " Prediction(uid='A2B7BR66CZUQ89', iid='B001C4ETU0', r_ui=2.0, est=4.062666084355236, details={'was_impossible': True, 'reason': 'User and/or item is unkown.'}),\n",
       " Prediction(uid='A2RY07PCE8MQ44', iid='B0040X4PV8', r_ui=5.0, est=4.062666084355236, details={'was_impossible': True, 'reason': 'User and/or item is unkown.'}),\n",
       " Prediction(uid='A1N3XDTMYO5NJ5', iid='B00B7JLZQQ', r_ui=5.0, est=4.387096774193548, details={'actual_k': 0, 'was_impossible': False}),\n",
       " Prediction(uid='A213YZI7O2YFUK', iid='B00AJHDZSI', r_ui=5.0, est=4.502328288707799, details={'actual_k': 0, 'was_impossible': False}),\n",
       " Prediction(uid='AB2AA0RON5L20', iid='B001QE03GK', r_ui=1.0, est=3.4761904761904763, details={'actual_k': 0, 'was_impossible': False}),\n",
       " Prediction(uid='A18UGTO3RTZSOO', iid='B00006I53X', r_ui=5.0, est=4.062666084355236, details={'was_impossible': True, 'reason': 'User and/or item is unkown.'}),\n",
       " Prediction(uid='A3O775G7GLLCOE', iid='B00004ZC8Y', r_ui=4.0, est=4.185258964143427, details={'actual_k': 0, 'was_impossible': False}),\n",
       " Prediction(uid='A1X3UIBYOTGK9A', iid='B00829THH8', r_ui=5.0, est=4.062666084355236, details={'was_impossible': True, 'reason': 'User and/or item is unkown.'}),\n",
       " Prediction(uid='A33UXISVYTQGT1', iid='B001PKEJZQ', r_ui=3.0, est=4.040983606557377, details={'actual_k': 0, 'was_impossible': False}),\n",
       " Prediction(uid='A2V4ZLFYQ9IEUK', iid='B007WTAJTO', r_ui=5.0, est=4.18141760053888, details={'actual_k': 2, 'was_impossible': False}),\n",
       " Prediction(uid='AOAM0OV8LXVZB', iid='B000BTL0OA', r_ui=4.0, est=4.062666084355236, details={'was_impossible': True, 'reason': 'User and/or item is unkown.'}),\n",
       " Prediction(uid='AP7BY27ZMR6YB', iid='B001PA94NS', r_ui=5.0, est=4.650749211086545, details={'actual_k': 1, 'was_impossible': False}),\n",
       " Prediction(uid='A2WN09BUX4AGQC', iid='B0015AARJI', r_ui=1.0, est=4.062666084355236, details={'was_impossible': True, 'reason': 'User and/or item is unkown.'}),\n",
       " Prediction(uid='AGSUESD8HZC88', iid='B0000BZYPD', r_ui=5.0, est=5, details={'actual_k': 1, 'was_impossible': False}),\n",
       " Prediction(uid='A335RS5O80RITT', iid='B006LW0W5Y', r_ui=5.0, est=4.621212121212121, details={'actual_k': 0, 'was_impossible': False}),\n",
       " Prediction(uid='A3CKTJRHGM7X03', iid='B007YUISHQ', r_ui=5.0, est=4.525373134328358, details={'actual_k': 0, 'was_impossible': False}),\n",
       " Prediction(uid='A3FH2H55MGDARV', iid='B0046B2QF6', r_ui=4.0, est=4.519607843137255, details={'actual_k': 0, 'was_impossible': False}),\n",
       " Prediction(uid='A1JMGWXHNWQAIA', iid='B0007POE6O', r_ui=5.0, est=4.062666084355236, details={'was_impossible': True, 'reason': 'User and/or item is unkown.'}),\n",
       " Prediction(uid='AR84F8MU3GPJU', iid='B0041LYY6K', r_ui=5.0, est=4.062666084355236, details={'was_impossible': True, 'reason': 'User and/or item is unkown.'}),\n",
       " Prediction(uid='A2GL70AZ8MWXI3', iid='B0006OCEFY', r_ui=3.0, est=3.942528735632184, details={'actual_k': 0, 'was_impossible': False}),\n",
       " Prediction(uid='AEKPKY70JMOMZ', iid='1400532620', r_ui=5.0, est=4.062666084355236, details={'was_impossible': True, 'reason': 'User and/or item is unkown.'}),\n",
       " Prediction(uid='A1CUQYYIJSH1TH', iid='B005FYNSPK', r_ui=5.0, est=4.448721994319975, details={'actual_k': 0, 'was_impossible': False}),\n",
       " Prediction(uid='A3KHYHSZNHRJJG', iid='B003D8GAA0', r_ui=1.0, est=3.084583083383323, details={'actual_k': 0, 'was_impossible': False}),\n",
       " Prediction(uid='ALYDMXC5P4MUN', iid='B002Y6CJJ8', r_ui=5.0, est=5, details={'actual_k': 1, 'was_impossible': False}),\n",
       " Prediction(uid='A3DNSON1K8IV5Q', iid='B0054YQO5C', r_ui=4.0, est=3.63943661971831, details={'actual_k': 0, 'was_impossible': False}),\n",
       " Prediction(uid='A15T9G38F589KM', iid='B0045XV2CI', r_ui=4.0, est=4.777332423673887, details={'actual_k': 1, 'was_impossible': False}),\n",
       " Prediction(uid='A30IP3E4MDQ36', iid='B0012Z4QXO', r_ui=5.0, est=3.675, details={'actual_k': 0, 'was_impossible': False}),\n",
       " Prediction(uid='AI8ZH4BBVJZ1T', iid='B001TH76JQ', r_ui=5.0, est=4.062666084355236, details={'was_impossible': True, 'reason': 'User and/or item is unkown.'}),\n",
       " Prediction(uid='AHWYLZRPH6UMT', iid='B000DZH4D8', r_ui=2.0, est=4.011494252873563, details={'actual_k': 0, 'was_impossible': False}),\n",
       " Prediction(uid='A323GDZ3HC7EUD', iid='B0096YORV4', r_ui=5.0, est=3.4427480916030535, details={'actual_k': 0, 'was_impossible': False}),\n",
       " Prediction(uid='A5J36WLNC7FQQ', iid='B003DZ166Q', r_ui=5.0, est=4.062666084355236, details={'was_impossible': True, 'reason': 'User and/or item is unkown.'}),\n",
       " Prediction(uid='AS8OQUNTQ07OS', iid='B005CLHOM4', r_ui=5.0, est=4.062666084355236, details={'was_impossible': True, 'reason': 'User and/or item is unkown.'}),\n",
       " Prediction(uid='AM7SICYR0VWUK', iid='B001O9X9EU', r_ui=4.0, est=4.179916317991632, details={'actual_k': 0, 'was_impossible': False}),\n",
       " Prediction(uid='A1SZYK8K0WPF0H', iid='B0012S4APK', r_ui=4.0, est=2.748580127780956, details={'actual_k': 1, 'was_impossible': False}),\n",
       " Prediction(uid='A3VQTONR685S54', iid='B000T5AQHS', r_ui=5.0, est=3.9714285714285715, details={'actual_k': 0, 'was_impossible': False}),\n",
       " Prediction(uid='A3OFGZ3LC6SV86', iid='B0052ADPSW', r_ui=5.0, est=4.542857142857143, details={'actual_k': 0, 'was_impossible': False}),\n",
       " Prediction(uid='A1690697ADNHSO', iid='B007SXJ13E', r_ui=2.0, est=4.577519379844961, details={'actual_k': 0, 'was_impossible': False}),\n",
       " Prediction(uid='A3PAL6WNZG3Q3P', iid='B008GVM9K4', r_ui=1.0, est=4.062666084355236, details={'was_impossible': True, 'reason': 'User and/or item is unkown.'}),\n",
       " Prediction(uid='A200NJBQCOBVEE', iid='B005GGTTZ0', r_ui=5.0, est=4.568783068783069, details={'actual_k': 0, 'was_impossible': False}),\n",
       " Prediction(uid='A2U2L4K9TVK3YI', iid='B00COEBCXY', r_ui=5.0, est=4.062666084355236, details={'was_impossible': True, 'reason': 'User and/or item is unkown.'}),\n",
       " Prediction(uid='A283EVZV4ACLGI', iid='B000CS7U1C', r_ui=5.0, est=4.062666084355236, details={'was_impossible': True, 'reason': 'User and/or item is unkown.'}),\n",
       " Prediction(uid='A2SL084I3DMSQ9', iid='B000G31SRU', r_ui=5.0, est=4.062666084355236, details={'was_impossible': True, 'reason': 'User and/or item is unkown.'}),\n",
       " Prediction(uid='A284N120PZIYQS', iid='B00EPIWXYY', r_ui=4.0, est=4.062666084355236, details={'was_impossible': True, 'reason': 'User and/or item is unkown.'}),\n",
       " Prediction(uid='A1TYQPWAZHJ0Y', iid='B001R1X6OS', r_ui=4.0, est=4.424657534246576, details={'actual_k': 0, 'was_impossible': False}),\n",
       " Prediction(uid='A3LRSTCLUUFYOI', iid='B000CRFOMK', r_ui=5.0, est=4.930335257076328, details={'actual_k': 1, 'was_impossible': False}),\n",
       " Prediction(uid='A24WJULX7UOLFB', iid='B000PCF7A6', r_ui=4.0, est=4.066433566433567, details={'actual_k': 0, 'was_impossible': False}),\n",
       " Prediction(uid='A3839LDHHGXAWK', iid='B004HYG9V4', r_ui=5.0, est=4.062666084355236, details={'was_impossible': True, 'reason': 'User and/or item is unkown.'}),\n",
       " Prediction(uid='AYEBJYXKUF10T', iid='B008I636D6', r_ui=5.0, est=4.062666084355236, details={'was_impossible': True, 'reason': 'User and/or item is unkown.'}),\n",
       " Prediction(uid='AA71MQ3FJV5VX', iid='B0015TJNEY', r_ui=3.0, est=3.8701231418083357, details={'actual_k': 1, 'was_impossible': False}),\n",
       " Prediction(uid='A3ONEBIOH94IYM', iid='B007FELOZO', r_ui=1.0, est=4.062666084355236, details={'was_impossible': True, 'reason': 'User and/or item is unkown.'}),\n",
       " Prediction(uid='A1QCJRCAVE9RJG', iid='B000EXU4YK', r_ui=5.0, est=4.304029304029304, details={'actual_k': 0, 'was_impossible': False}),\n",
       " Prediction(uid='AWO7I8YIL4WM3', iid='B0035LD0EY', r_ui=5.0, est=4.268041237113402, details={'actual_k': 0, 'was_impossible': False}),\n",
       " Prediction(uid='A2Y3TB6MSBZCK9', iid='B005QX7KYU', r_ui=2.0, est=3.9368, details={'actual_k': 0, 'was_impossible': False}),\n",
       " Prediction(uid='A1KOKTOCAY044T', iid='B005OFFH5Y', r_ui=5.0, est=4.062666084355236, details={'was_impossible': True, 'reason': 'User and/or item is unkown.'}),\n",
       " Prediction(uid='A2MYBS68TNDAIC', iid='B0075SUIOS', r_ui=5.0, est=4.062666084355236, details={'was_impossible': True, 'reason': 'User and/or item is unkown.'}),\n",
       " Prediction(uid='A100DXACJSEGX9', iid='B0077V88V8', r_ui=5.0, est=4.062666084355236, details={'was_impossible': True, 'reason': 'User and/or item is unkown.'}),\n",
       " Prediction(uid='A2143PM2HZPRYH', iid='B007IV7KRU', r_ui=5.0, est=4.062666084355236, details={'was_impossible': True, 'reason': 'User and/or item is unkown.'}),\n",
       " Prediction(uid='AK6TZQSVC80M9', iid='B007IO7DZQ', r_ui=4.0, est=4.062666084355236, details={'was_impossible': True, 'reason': 'User and/or item is unkown.'}),\n",
       " Prediction(uid='A19UGB9MGERO6C', iid='B000093UDQ', r_ui=1.0, est=4.062666084355236, details={'was_impossible': True, 'reason': 'User and/or item is unkown.'}),\n",
       " Prediction(uid='A3CYQ2X9RNH83K', iid='B002TNRTSC', r_ui=5.0, est=4.062666084355236, details={'was_impossible': True, 'reason': 'User and/or item is unkown.'}),\n",
       " Prediction(uid='A1ON7EVP2NVK7G', iid='B00D02AHEO', r_ui=3.0, est=4.062666084355236, details={'was_impossible': True, 'reason': 'User and/or item is unkown.'}),\n",
       " Prediction(uid='A1TN9VND4Y50HU', iid='B00F3SISYO', r_ui=5.0, est=4.385206532180596, details={'actual_k': 0, 'was_impossible': False}),\n",
       " Prediction(uid='A3H8Z2O76KYESK', iid='B007SNM046', r_ui=4.0, est=4.524193548387097, details={'actual_k': 0, 'was_impossible': False}),\n",
       " Prediction(uid='A15YAXLG9L6PYY', iid='B001F51G0W', r_ui=5.0, est=4.062666084355236, details={'was_impossible': True, 'reason': 'User and/or item is unkown.'}),\n",
       " Prediction(uid='A1BVUZU1H3VT8Z', iid='B00906DHLE', r_ui=4.0, est=4.445945945945946, details={'actual_k': 0, 'was_impossible': False}),\n",
       " Prediction(uid='A3D5GYJK2J8A77', iid='B0002OZXGU', r_ui=5.0, est=4.062666084355236, details={'was_impossible': True, 'reason': 'User and/or item is unkown.'}),\n",
       " Prediction(uid='A1FKAMZL7SOF9P', iid='B005C8RTTU', r_ui=5.0, est=4.062666084355236, details={'was_impossible': True, 'reason': 'User and/or item is unkown.'}),\n",
       " Prediction(uid='A2Y4NKDOH1D9DR', iid='B000NM8DI6', r_ui=1.0, est=4.203703703703703, details={'actual_k': 0, 'was_impossible': False}),\n",
       " Prediction(uid='A1EMMC8Q979N2F', iid='B002AR5XIK', r_ui=5.0, est=3.8367875647668392, details={'actual_k': 0, 'was_impossible': False}),\n",
       " Prediction(uid='A3NS9ANANOKMK0', iid='B0058TUZT4', r_ui=5.0, est=4.753632366265964, details={'actual_k': 1, 'was_impossible': False}),\n",
       " Prediction(uid='A2V4LLHYR8W0R9', iid='B004ZX2NU8', r_ui=1.0, est=2.813953488372093, details={'actual_k': 0, 'was_impossible': False}),\n",
       " Prediction(uid='A10RGF7YMGL0Z3', iid='B00HQ883QW', r_ui=4.0, est=3.960526315789474, details={'actual_k': 0, 'was_impossible': False}),\n",
       " Prediction(uid='A102FXSFK7RP8G', iid='B00372YKMM', r_ui=5.0, est=4.062666084355236, details={'was_impossible': True, 'reason': 'User and/or item is unkown.'}),\n",
       " Prediction(uid='A2HWF7R5KXX04F', iid='B001DJ64D4', r_ui=4.0, est=4.190082644628099, details={'actual_k': 0, 'was_impossible': False}),\n",
       " Prediction(uid='A18BOLFX2QOJZK', iid='B002HWWDAY', r_ui=4.0, est=3.559322033898305, details={'actual_k': 0, 'was_impossible': False}),\n",
       " Prediction(uid='A2RTGRAV2N0XMN', iid='B004FJV8EE', r_ui=5.0, est=4.062666084355236, details={'was_impossible': True, 'reason': 'User and/or item is unkown.'}),\n",
       " Prediction(uid='A2P3QAX4OKVB3P', iid='B004VF4D9E', r_ui=1.0, est=4.062666084355236, details={'was_impossible': True, 'reason': 'User and/or item is unkown.'}),\n",
       " Prediction(uid='A39NL7S6298FCG', iid='B004RDWVUS', r_ui=5.0, est=4.062666084355236, details={'was_impossible': True, 'reason': 'User and/or item is unkown.'}),\n",
       " Prediction(uid='A10K1K0KGBLGBL', iid='B007BYLO4E', r_ui=3.0, est=4.062666084355236, details={'was_impossible': True, 'reason': 'User and/or item is unkown.'}),\n",
       " Prediction(uid='AE9XWO38T5JA0', iid='B00BWHILCY', r_ui=4.0, est=4.062666084355236, details={'was_impossible': True, 'reason': 'User and/or item is unkown.'}),\n",
       " Prediction(uid='A2P6P7CG18HH95', iid='B001DTCPBO', r_ui=1.0, est=3.9740259740259742, details={'actual_k': 0, 'was_impossible': False}),\n",
       " Prediction(uid='A64YQC0KQOL7F', iid='B0048HUNSK', r_ui=4.0, est=4.062666084355236, details={'was_impossible': True, 'reason': 'User and/or item is unkown.'}),\n",
       " Prediction(uid='A2RUMH0QJFEHB5', iid='B003VWU79I', r_ui=5.0, est=2.9957446808510637, details={'actual_k': 0, 'was_impossible': False}),\n",
       " Prediction(uid='A1BK57D1C22U1C', iid='B002VH3FQG', r_ui=5.0, est=4.062666084355236, details={'was_impossible': True, 'reason': 'User and/or item is unkown.'}),\n",
       " Prediction(uid='A3VK16RLLG8WLL', iid='B004PNZFZ8', r_ui=5.0, est=4.0128, details={'actual_k': 0, 'was_impossible': False}),\n",
       " Prediction(uid='ARXSCIU3S2AD3', iid='B004GIZ61K', r_ui=2.0, est=4.062666084355236, details={'was_impossible': True, 'reason': 'User and/or item is unkown.'}),\n",
       " Prediction(uid='A1VJA0W9UUTBDR', iid='B000A6PPOK', r_ui=5.0, est=4.062666084355236, details={'was_impossible': True, 'reason': 'User and/or item is unkown.'}),\n",
       " Prediction(uid='A2ZKAZXVVFIS6W', iid='B004L08DCM', r_ui=5.0, est=4.062666084355236, details={'was_impossible': True, 'reason': 'User and/or item is unkown.'}),\n",
       " Prediction(uid='AYJAF82UOUIEE', iid='B00CRXZPA8', r_ui=5.0, est=3.7818181818181817, details={'actual_k': 0, 'was_impossible': False}),\n",
       " Prediction(uid='A2WY8MIQ18B9FX', iid='B00GODG3X0', r_ui=5.0, est=4.062666084355236, details={'was_impossible': True, 'reason': 'User and/or item is unkown.'}),\n",
       " Prediction(uid='A1E99516K1R495', iid='B004QK7HI8', r_ui=1.0, est=4.062666084355236, details={'was_impossible': True, 'reason': 'User and/or item is unkown.'}),\n",
       " Prediction(uid='A3A84REDQWW7EG', iid='B006ZW4IVE', r_ui=5.0, est=4.062666084355236, details={'was_impossible': True, 'reason': 'User and/or item is unkown.'}),\n",
       " Prediction(uid='A1O6DIMRSN0ZL0', iid='B0069ZFYCY', r_ui=5.0, est=2.1220319634703197, details={'actual_k': 1, 'was_impossible': False}),\n",
       " Prediction(uid='A38C07AQ0EUCVD', iid='B00542NI58', r_ui=3.0, est=4.062666084355236, details={'was_impossible': True, 'reason': 'User and/or item is unkown.'}),\n",
       " Prediction(uid='AGE7A9DGJOQSX', iid='B006R2N8VS', r_ui=2.0, est=4.056091148115688, details={'actual_k': 0, 'was_impossible': False}),\n",
       " Prediction(uid='A259GW0WX9RRV7', iid='B001CZKSWW', r_ui=3.0, est=3.318840579710145, details={'actual_k': 0, 'was_impossible': False}),\n",
       " Prediction(uid='A1WILI3LXPA5L8', iid='B003V0NXBO', r_ui=1.0, est=4.062666084355236, details={'was_impossible': True, 'reason': 'User and/or item is unkown.'}),\n",
       " Prediction(uid='A30OS3RBR592DE', iid='B009W8YQ6K', r_ui=4.0, est=4.062666084355236, details={'was_impossible': True, 'reason': 'User and/or item is unkown.'}),\n",
       " Prediction(uid='A25PMX37BG3MNJ', iid='B0017H4EBG', r_ui=5.0, est=4.062666084355236, details={'was_impossible': True, 'reason': 'User and/or item is unkown.'}),\n",
       " Prediction(uid='A9B0AGEKRKTQB', iid='B009AOFNU4', r_ui=5.0, est=3.0789473684210527, details={'actual_k': 0, 'was_impossible': False}),\n",
       " Prediction(uid='A1SXKZ1B1NNXMU', iid='B000VY2BC0', r_ui=2.0, est=4.062666084355236, details={'was_impossible': True, 'reason': 'User and/or item is unkown.'}),\n",
       " Prediction(uid='A2JFRS9G18MFQK', iid='B00005K47X', r_ui=5.0, est=4.062666084355236, details={'was_impossible': True, 'reason': 'User and/or item is unkown.'}),\n",
       " Prediction(uid='A2AHCV7CFNE98U', iid='B004ZP756S', r_ui=2.0, est=4.062666084355236, details={'was_impossible': True, 'reason': 'User and/or item is unkown.'}),\n",
       " Prediction(uid='A3SMPSF43TEMTR', iid='B00CYLU0SK', r_ui=3.0, est=4.062666084355236, details={'was_impossible': True, 'reason': 'User and/or item is unkown.'}),\n",
       " Prediction(uid='AUSZOABAZRYSG', iid='B0064I1NRG', r_ui=5.0, est=4.434782608695652, details={'actual_k': 0, 'was_impossible': False}),\n",
       " Prediction(uid='A16XIKVJVHRSKI', iid='B008XG1N72', r_ui=4.0, est=4.062666084355236, details={'was_impossible': True, 'reason': 'User and/or item is unkown.'}),\n",
       " Prediction(uid='A2TIP4VC49OPW0', iid='B0001FTVEK', r_ui=5.0, est=4.062666084355236, details={'was_impossible': True, 'reason': 'User and/or item is unkown.'}),\n",
       " Prediction(uid='A1TPSPX6KZQ7RW', iid='B004SK6OOO', r_ui=1.0, est=4.062666084355236, details={'was_impossible': True, 'reason': 'User and/or item is unkown.'}),\n",
       " Prediction(uid='A3A1IY8E7YP1WO', iid='B00006RVPW', r_ui=5.0, est=5, details={'actual_k': 2, 'was_impossible': False}),\n",
       " Prediction(uid='A1HVXANR2ZYH15', iid='B008U6PQA0', r_ui=5.0, est=4.062666084355236, details={'was_impossible': True, 'reason': 'User and/or item is unkown.'}),\n",
       " Prediction(uid='A24DX4QTGWGAGP', iid='B00CU8CJSQ', r_ui=5.0, est=4.181818181818182, details={'actual_k': 0, 'was_impossible': False}),\n",
       " Prediction(uid='A2QBS7LE6211OT', iid='B00FEE7B1I', r_ui=4.0, est=4.062666084355236, details={'was_impossible': True, 'reason': 'User and/or item is unkown.'}),\n",
       " Prediction(uid='A2H7EU7ABHL5G7', iid='B00012EYNG', r_ui=4.0, est=4.556701030927835, details={'actual_k': 0, 'was_impossible': False}),\n",
       " Prediction(uid='A3S6LY8INDMMJX', iid='B004E6326A', r_ui=4.0, est=4.04, details={'actual_k': 0, 'was_impossible': False}),\n",
       " Prediction(uid='A19W225UJ4B4PM', iid='B009SYZ8OC', r_ui=2.0, est=4.062666084355236, details={'was_impossible': True, 'reason': 'User and/or item is unkown.'}),\n",
       " Prediction(uid='AAB1RSERHRHJJ', iid='B004RKQM8I', r_ui=3.0, est=4.062666084355236, details={'was_impossible': True, 'reason': 'User and/or item is unkown.'}),\n",
       " Prediction(uid='A3IWSCI3KCL041', iid='B002DMKPQ2', r_ui=5.0, est=3.972972972972973, details={'actual_k': 0, 'was_impossible': False}),\n",
       " Prediction(uid='A2Y9M4G527Z4LX', iid='B004FLL5BS', r_ui=3.0, est=3.5988538681948423, details={'actual_k': 0, 'was_impossible': False}),\n",
       " Prediction(uid='A1BTNYAR9KVQG6', iid='B000NUYW92', r_ui=3.0, est=4.161147902869757, details={'actual_k': 0, 'was_impossible': False}),\n",
       " Prediction(uid='A2IXBQZIV6VJGO', iid='B004ISSZ84', r_ui=5.0, est=4.062666084355236, details={'was_impossible': True, 'reason': 'User and/or item is unkown.'}),\n",
       " Prediction(uid='A2L7KJGADRIILV', iid='B0037U95U6', r_ui=5.0, est=4.233333333333333, details={'actual_k': 0, 'was_impossible': False}),\n",
       " Prediction(uid='A3CJ0JQPDP867P', iid='B004E8WZXY', r_ui=5.0, est=4.062666084355236, details={'was_impossible': True, 'reason': 'User and/or item is unkown.'}),\n",
       " Prediction(uid='A1E1LEVQ9VQNK', iid='B008X9Z528', r_ui=5.0, est=4.176969066294089, details={'actual_k': 3, 'was_impossible': False}),\n",
       " Prediction(uid='AIJLO4ICU35Y2', iid='B0072KN5ZS', r_ui=4.0, est=4.062666084355236, details={'was_impossible': True, 'reason': 'User and/or item is unkown.'}),\n",
       " Prediction(uid='A1JOL6OZRAHLFB', iid='B0041GKBXU', r_ui=5.0, est=4.062666084355236, details={'was_impossible': True, 'reason': 'User and/or item is unkown.'}),\n",
       " Prediction(uid='AG2EJD9JQ6V3L', iid='B007B60SCG', r_ui=5.0, est=4.062666084355236, details={'was_impossible': True, 'reason': 'User and/or item is unkown.'}),\n",
       " Prediction(uid='A3N8OFMMP1YP94', iid='B007F9XHBI', r_ui=2.0, est=4.062666084355236, details={'was_impossible': True, 'reason': 'User and/or item is unkown.'}),\n",
       " Prediction(uid='A18O5F0HY5IYB1', iid='B001E1Y5O6', r_ui=5.0, est=4.715238095238095, details={'actual_k': 0, 'was_impossible': False}),\n",
       " Prediction(uid='A3DCELULBS8RA0', iid='B003U8HTMG', r_ui=5.0, est=3.138817480719794, details={'actual_k': 0, 'was_impossible': False}),\n",
       " Prediction(uid='A2MDMKECBGLDIR', iid='B0041RRNBM', r_ui=5.0, est=4.368421052631579, details={'actual_k': 0, 'was_impossible': False}),\n",
       " Prediction(uid='A2EIPMEPKIYBJ4', iid='B000EOPQ7E', r_ui=5.0, est=4.062666084355236, details={'was_impossible': True, 'reason': 'User and/or item is unkown.'}),\n",
       " Prediction(uid='A37SQXKJF2FHPP', iid='B003XM1WE0', r_ui=4.0, est=4.062666084355236, details={'was_impossible': True, 'reason': 'User and/or item is unkown.'}),\n",
       " Prediction(uid='A3MCB0FM6T2DBH', iid='B006FQQQDI', r_ui=5.0, est=3.4280575539568345, details={'actual_k': 0, 'was_impossible': False}),\n",
       " Prediction(uid='A2OC5KTAUX8P1J', iid='B00007EDM8', r_ui=4.0, est=4.062666084355236, details={'was_impossible': True, 'reason': 'User and/or item is unkown.'}),\n",
       " Prediction(uid='AJRGRPE8622OO', iid='B0099QZ2BI', r_ui=5.0, est=4.062666084355236, details={'was_impossible': True, 'reason': 'User and/or item is unkown.'}),\n",
       " Prediction(uid='A3DF0RQNNEU4IF', iid='B00951ULKO', r_ui=4.0, est=4.062666084355236, details={'was_impossible': True, 'reason': 'User and/or item is unkown.'}),\n",
       " Prediction(uid='ANYAHV4DV7WIQ', iid='B004S7Q8CA', r_ui=2.0, est=1.6608097701718032, details={'actual_k': 2, 'was_impossible': False}),\n",
       " Prediction(uid='A21XHHR8OUNB3E', iid='B001F0K748', r_ui=5.0, est=4.062666084355236, details={'was_impossible': True, 'reason': 'User and/or item is unkown.'}),\n",
       " Prediction(uid='A2JUSL7HEN35W5', iid='B005ONMDYE', r_ui=5.0, est=4.062666084355236, details={'was_impossible': True, 'reason': 'User and/or item is unkown.'}),\n",
       " Prediction(uid='A2Z7S8B5U4PAKJ', iid='B001UEBN42', r_ui=4.0, est=4.2926709296606, details={'actual_k': 0, 'was_impossible': False}),\n",
       " Prediction(uid='A13VDCPV0SQW0P', iid='B0087NZ31S', r_ui=5.0, est=4.062666084355236, details={'was_impossible': True, 'reason': 'User and/or item is unkown.'}),\n",
       " Prediction(uid='A1QFYVXKHT4FJM', iid='B00080CM30', r_ui=5.0, est=4.848484848484849, details={'actual_k': 0, 'was_impossible': False}),\n",
       " Prediction(uid='A1TTG8SEJ4QNWU', iid='B006W8U2MU', r_ui=5.0, est=4.489048187972919, details={'actual_k': 0, 'was_impossible': False}),\n",
       " Prediction(uid='A3TIVOS7ZLJ2HV', iid='B008L1MIWI', r_ui=5.0, est=4.062666084355236, details={'was_impossible': True, 'reason': 'User and/or item is unkown.'}),\n",
       " Prediction(uid='A10VO2S17V3KC4', iid='B003HFCDLY', r_ui=5.0, est=4.996470428841144, details={'actual_k': 3, 'was_impossible': False}),\n",
       " Prediction(uid='A3AMWAWAKRR1M1', iid='B006L404KU', r_ui=5.0, est=4.062666084355236, details={'was_impossible': True, 'reason': 'User and/or item is unkown.'}),\n",
       " Prediction(uid='ATVYABSTW0LIE', iid='B001S2RCXW', r_ui=4.0, est=3.88821752265861, details={'actual_k': 0, 'was_impossible': False}),\n",
       " Prediction(uid='A2FR45VO8OPGGA', iid='B003OC6LWM', r_ui=5.0, est=3.8194690265486724, details={'actual_k': 0, 'was_impossible': False}),\n",
       " Prediction(uid='A3E67RZ6K0FE83', iid='B0047T79VS', r_ui=5.0, est=4.062666084355236, details={'was_impossible': True, 'reason': 'User and/or item is unkown.'}),\n",
       " Prediction(uid='A367YEM5W237K6', iid='B009PJHD3Y', r_ui=4.0, est=4.062666084355236, details={'was_impossible': True, 'reason': 'User and/or item is unkown.'}),\n",
       " Prediction(uid='A2F2KWW7IMZIRJ', iid='B005QFH86S', r_ui=5.0, est=4.062666084355236, details={'was_impossible': True, 'reason': 'User and/or item is unkown.'}),\n",
       " Prediction(uid='A2CJZ74AE6C7TB', iid='B007WTAJTO', r_ui=1.0, est=4.4292944630023285, details={'actual_k': 0, 'was_impossible': False}),\n",
       " Prediction(uid='A3CYLXCQ6DHU7Y', iid='B00E362W9O', r_ui=4.0, est=4.354771784232365, details={'actual_k': 0, 'was_impossible': False}),\n",
       " Prediction(uid='APTLMVR9J0FZS', iid='B003G29OHE', r_ui=5.0, est=4.230769230769231, details={'actual_k': 0, 'was_impossible': False}),\n",
       " Prediction(uid='AIPROCSR27ZA1', iid='B000FNDWLQ', r_ui=4.0, est=3.4939024390243905, details={'actual_k': 0, 'was_impossible': False}),\n",
       " Prediction(uid='A2NGBJIU89EJKE', iid='B004WIUDGM', r_ui=5.0, est=4.062666084355236, details={'was_impossible': True, 'reason': 'User and/or item is unkown.'}),\n",
       " Prediction(uid='A2D45ZF2E3819G', iid='B000U6AHZW', r_ui=5.0, est=4.214953271028038, details={'actual_k': 0, 'was_impossible': False}),\n",
       " Prediction(uid='A2L0507RX7CHYI', iid='B0058E0WO2', r_ui=5.0, est=3.2857142857142856, details={'actual_k': 0, 'was_impossible': False}),\n",
       " Prediction(uid='A5L947TKRQCUI', iid='B00ATM1NAU', r_ui=4.0, est=4.062666084355236, details={'was_impossible': True, 'reason': 'User and/or item is unkown.'}),\n",
       " Prediction(uid='AV9GZP9UV2I6V', iid='B0046BTK14', r_ui=5.0, est=4.062666084355236, details={'was_impossible': True, 'reason': 'User and/or item is unkown.'}),\n",
       " Prediction(uid='A3AJ34XURXZAX3', iid='B0001FTVEK', r_ui=4.0, est=4.062666084355236, details={'was_impossible': True, 'reason': 'User and/or item is unkown.'}),\n",
       " Prediction(uid='A13TL7ALGWBMS9', iid='B000K9DHZG', r_ui=5.0, est=4.474820143884892, details={'actual_k': 0, 'was_impossible': False}),\n",
       " Prediction(uid='AEFPMBA521EV1', iid='B00AGH81M6', r_ui=5.0, est=4.062666084355236, details={'was_impossible': True, 'reason': 'User and/or item is unkown.'}),\n",
       " Prediction(uid='AGMFCKPT2KWSA', iid='B004W8ICGK', r_ui=4.0, est=4.062666084355236, details={'was_impossible': True, 'reason': 'User and/or item is unkown.'}),\n",
       " Prediction(uid='A297KG1YAE7T4P', iid='B001TVAU0E', r_ui=5.0, est=3.466321243523316, details={'actual_k': 0, 'was_impossible': False}),\n",
       " Prediction(uid='ALUIHV16XNKL0', iid='B003HFCDLY', r_ui=5.0, est=4.062666084355236, details={'was_impossible': True, 'reason': 'User and/or item is unkown.'}),\n",
       " Prediction(uid='A145P0XKH8H89W', iid='B003B2N9CA', r_ui=5.0, est=4.062666084355236, details={'was_impossible': True, 'reason': 'User and/or item is unkown.'}),\n",
       " Prediction(uid='AEU1RM8H16ZZO', iid='B000VX6XL6', r_ui=5.0, est=4.726877801391675, details={'actual_k': 1, 'was_impossible': False}),\n",
       " Prediction(uid='A1DEUQXSLXAA3H', iid='B004LSNF04', r_ui=5.0, est=3.2772951796968144, details={'actual_k': 1, 'was_impossible': False}),\n",
       " Prediction(uid='A2NNUGN9Z1YGJ2', iid='B0044TXDSE', r_ui=5.0, est=4.062666084355236, details={'was_impossible': True, 'reason': 'User and/or item is unkown.'}),\n",
       " Prediction(uid='A2ZWBVD1GWY7RD', iid='B00008VWOJ', r_ui=4.0, est=4.062666084355236, details={'was_impossible': True, 'reason': 'User and/or item is unkown.'}),\n",
       " Prediction(uid='A1OXBFBI8APIXF', iid='B008LTBITY', r_ui=5.0, est=4.062666084355236, details={'was_impossible': True, 'reason': 'User and/or item is unkown.'}),\n",
       " Prediction(uid='A1UF4FSRINGQ4Y', iid='B00333F2YU', r_ui=4.0, est=3.6091370558375635, details={'actual_k': 0, 'was_impossible': False}),\n",
       " Prediction(uid='A2YFS3AYX720ZX', iid='B00ATE7W7G', r_ui=3.0, est=4.870974595842957, details={'actual_k': 1, 'was_impossible': False}),\n",
       " Prediction(uid='A1FFIVHVEZ5JW4', iid='B00198DM2K', r_ui=4.0, est=3.949367088607595, details={'actual_k': 0, 'was_impossible': False}),\n",
       " Prediction(uid='AFQ8PFNRMJDOB', iid='B000067RVJ', r_ui=5.0, est=3.9302325581395348, details={'actual_k': 0, 'was_impossible': False}),\n",
       " Prediction(uid='A22CW0ZHY3NJH8', iid='B0082E9K7U', r_ui=4.0, est=5, details={'actual_k': 5, 'was_impossible': False}),\n",
       " Prediction(uid='A2KA0MUO70XET7', iid='B000VG802I', r_ui=1.0, est=4.062666084355236, details={'was_impossible': True, 'reason': 'User and/or item is unkown.'}),\n",
       " Prediction(uid='A10NQ5Q4IKVTBZ', iid='B009613MVS', r_ui=5.0, est=4.062666084355236, details={'was_impossible': True, 'reason': 'User and/or item is unkown.'}),\n",
       " Prediction(uid='AEVN4NTXM33SU', iid='B001IOHAVO', r_ui=5.0, est=4.062666084355236, details={'was_impossible': True, 'reason': 'User and/or item is unkown.'}),\n",
       " Prediction(uid='A25DG3JAQWA5G9', iid='B00B46XUQU', r_ui=5.0, est=4.7247293404508035, details={'actual_k': 1, 'was_impossible': False}),\n",
       " Prediction(uid='A3FY1E8FKG4JX', iid='B00008SCFL', r_ui=1.0, est=4.062666084355236, details={'was_impossible': True, 'reason': 'User and/or item is unkown.'}),\n",
       " Prediction(uid='A2DSB3556MW53N', iid='B002X3VEIE', r_ui=4.0, est=3.1744186046511627, details={'actual_k': 0, 'was_impossible': False}),\n",
       " Prediction(uid='AG23XARIEOTF4', iid='B000X3FAJU', r_ui=3.0, est=3.964391691394659, details={'actual_k': 0, 'was_impossible': False}),\n",
       " Prediction(uid='A2BF3P5MCUTXVY', iid='B0072MZ63A', r_ui=5.0, est=4.062666084355236, details={'was_impossible': True, 'reason': 'User and/or item is unkown.'}),\n",
       " Prediction(uid='A2U2RI4WUAVOLJ', iid='B003Y6NP72', r_ui=5.0, est=3.7708333333333335, details={'actual_k': 0, 'was_impossible': False}),\n",
       " Prediction(uid='A26WSGLA7P16VC', iid='B005DIBHA6', r_ui=5.0, est=4.062666084355236, details={'was_impossible': True, 'reason': 'User and/or item is unkown.'}),\n",
       " Prediction(uid='AKM73XLAOX9T6', iid='B007IMPMW4', r_ui=5.0, est=4.88468299340264, details={'actual_k': 1, 'was_impossible': False}),\n",
       " Prediction(uid='A3F3TU566F1Y7N', iid='B001OI2YZQ', r_ui=5.0, est=4.062666084355236, details={'was_impossible': True, 'reason': 'User and/or item is unkown.'}),\n",
       " Prediction(uid='A20J9ETUCFPB19', iid='B00DZTVST0', r_ui=3.0, est=4.462585034013605, details={'actual_k': 0, 'was_impossible': False}),\n",
       " Prediction(uid='A14FXJ2UOFVBOR', iid='B003ELYQGG', r_ui=5.0, est=4.062666084355236, details={'was_impossible': True, 'reason': 'User and/or item is unkown.'}),\n",
       " Prediction(uid='A1XJENUDBAT7D4', iid='B00B7K11MI', r_ui=4.0, est=3.92, details={'actual_k': 0, 'was_impossible': False}),\n",
       " Prediction(uid='A324Y0QX1SKGB8', iid='B00007KDVI', r_ui=5.0, est=3.6135458167330676, details={'actual_k': 0, 'was_impossible': False}),\n",
       " Prediction(uid='AJGRPDTP3MVUT', iid='B005QUQP7G', r_ui=4.0, est=3.735, details={'actual_k': 0, 'was_impossible': False}),\n",
       " Prediction(uid='AYGWALM3AFJQE', iid='B009NUK6S4', r_ui=5.0, est=4.16751269035533, details={'actual_k': 0, 'was_impossible': False}),\n",
       " Prediction(uid='A34YRFBM4C43M9', iid='B003LZYXYU', r_ui=5.0, est=4.179372197309417, details={'actual_k': 0, 'was_impossible': False}),\n",
       " Prediction(uid='AKJUD1R248QW9', iid='B0017VRGXU', r_ui=5.0, est=4.062666084355236, details={'was_impossible': True, 'reason': 'User and/or item is unkown.'}),\n",
       " Prediction(uid='A7Q87LMD05JXF', iid='B000089GN3', r_ui=5.0, est=4.062666084355236, details={'was_impossible': True, 'reason': 'User and/or item is unkown.'}),\n",
       " Prediction(uid='A2ODE3IIQ2SOSE', iid='B00310PJM0', r_ui=5.0, est=4.062666084355236, details={'was_impossible': True, 'reason': 'User and/or item is unkown.'}),\n",
       " Prediction(uid='A3L91PJGW50C6Z', iid='B001EUG3II', r_ui=4.0, est=4.064220183486238, details={'actual_k': 0, 'was_impossible': False}),\n",
       " Prediction(uid='A3K8XPVDFSEOT7', iid='B003VWZE7S', r_ui=5.0, est=3.057046979865772, details={'actual_k': 0, 'was_impossible': False}),\n",
       " Prediction(uid='A20D2GOF4N13P6', iid='B005FYNSPK', r_ui=2.0, est=4.954502341140784, details={'actual_k': 1, 'was_impossible': False}),\n",
       " Prediction(uid='A25TYT5W6OOIYM', iid='B005X1Y7I2', r_ui=5.0, est=4.062666084355236, details={'was_impossible': True, 'reason': 'User and/or item is unkown.'}),\n",
       " Prediction(uid='A22NH180RFXYWP', iid='B003GF34SG', r_ui=1.0, est=3.7314285714285713, details={'actual_k': 0, 'was_impossible': False}),\n",
       " Prediction(uid='ANF3NF0U9BY0E', iid='B007HSKSP0', r_ui=5.0, est=4.062666084355236, details={'was_impossible': True, 'reason': 'User and/or item is unkown.'}),\n",
       " Prediction(uid='A1QK1YGIGR3PN', iid='B0016BQS12', r_ui=5.0, est=4.093406593406593, details={'actual_k': 0, 'was_impossible': False}),\n",
       " Prediction(uid='A2RJE5J7PKWT1', iid='B0039BPG1A', r_ui=4.0, est=4.402721088435374, details={'actual_k': 0, 'was_impossible': False}),\n",
       " Prediction(uid='A1QVKLKCRI4TO2', iid='B0053NBLFW', r_ui=5.0, est=3.900879566982409, details={'actual_k': 0, 'was_impossible': False}),\n",
       " Prediction(uid='A33J1ZLSO3VA8O', iid='B00153T624', r_ui=5.0, est=4.062666084355236, details={'was_impossible': True, 'reason': 'User and/or item is unkown.'}),\n",
       " Prediction(uid='AXJRS5N172MWZ', iid='B00DR0PDNE', r_ui=4.0, est=4.062666084355236, details={'was_impossible': True, 'reason': 'User and/or item is unkown.'}),\n",
       " Prediction(uid='A3I2URZFEACANS', iid='B009ZM9R4O', r_ui=5.0, est=4.062666084355236, details={'was_impossible': True, 'reason': 'User and/or item is unkown.'}),\n",
       " Prediction(uid='A3SPG2FQ9QRY4', iid='B001DL9WDG', r_ui=5.0, est=4.062666084355236, details={'was_impossible': True, 'reason': 'User and/or item is unkown.'}),\n",
       " Prediction(uid='A10JW886YGWWCI', iid='B0002A0206', r_ui=5.0, est=3.7196969696969697, details={'actual_k': 0, 'was_impossible': False}),\n",
       " Prediction(uid='A3SV1P306KW0RX', iid='B000IKWBC2', r_ui=3.0, est=3.732899022801303, details={'actual_k': 0, 'was_impossible': False}),\n",
       " Prediction(uid='AW6V1HDX52G60', iid='B005PSLFGA', r_ui=4.0, est=4.285454545454545, details={'actual_k': 0, 'was_impossible': False}),\n",
       " Prediction(uid='A1B8P34JU1XP6O', iid='B000HMLP5A', r_ui=4.0, est=4.491935483870968, details={'actual_k': 0, 'was_impossible': False}),\n",
       " Prediction(uid='A25D9ASPIV68MU', iid='B000JMJWV2', r_ui=5.0, est=4.062666084355236, details={'was_impossible': True, 'reason': 'User and/or item is unkown.'}),\n",
       " Prediction(uid='A1BM094SJ0RVMY', iid='B00IGUUYTI', r_ui=1.0, est=4.062666084355236, details={'was_impossible': True, 'reason': 'User and/or item is unkown.'}),\n",
       " Prediction(uid='AHGLXEMSF565R', iid='B003MB0WMA', r_ui=1.0, est=4.062666084355236, details={'was_impossible': True, 'reason': 'User and/or item is unkown.'}),\n",
       " Prediction(uid='A3PFTAIXZUT7TP', iid='B006GWO5WK', r_ui=5.0, est=4.775904572481191, details={'actual_k': 1, 'was_impossible': False}),\n",
       " Prediction(uid='A6VDM8UA2XJ8Y', iid='B00006AG6C', r_ui=5.0, est=4.76, details={'actual_k': 0, 'was_impossible': False}),\n",
       " Prediction(uid='AYE5UVYUPDPFT', iid='B003F8UWUM', r_ui=1.0, est=4.062666084355236, details={'was_impossible': True, 'reason': 'User and/or item is unkown.'}),\n",
       " Prediction(uid='AK7G6DT8MTJT4', iid='B0098USX7A', r_ui=4.0, est=4.147058823529412, details={'actual_k': 0, 'was_impossible': False}),\n",
       " Prediction(uid='A35C08P4HELIMI', iid='B00001P4XH', r_ui=5.0, est=4.0033670033670035, details={'actual_k': 0, 'was_impossible': False}),\n",
       " Prediction(uid='A10KJ593LDSF8Z', iid='B003O971XI', r_ui=5.0, est=4.16, details={'actual_k': 0, 'was_impossible': False}),\n",
       " Prediction(uid='A2ILJ8Z848OLK1', iid='B00728Z9O0', r_ui=5.0, est=4.177215189873418, details={'actual_k': 0, 'was_impossible': False}),\n",
       " Prediction(uid='A2Y8G4LDB7VXDK', iid='B0002L5R78', r_ui=5.0, est=4.062666084355236, details={'was_impossible': True, 'reason': 'User and/or item is unkown.'}),\n",
       " Prediction(uid='A2QVR6DCCFMWP6', iid='B001EWEXOC', r_ui=4.0, est=3.891891891891892, details={'actual_k': 0, 'was_impossible': False}),\n",
       " Prediction(uid='AH90XY3VD993L', iid='B009USAJCC', r_ui=5.0, est=4.613496932515337, details={'actual_k': 0, 'was_impossible': False}),\n",
       " Prediction(uid='AD8SCOIL04TS3', iid='B0062IPIPQ', r_ui=4.0, est=5, details={'actual_k': 1, 'was_impossible': False}),\n",
       " Prediction(uid='A1S0QTFQN4NNWF', iid='B001XURGSK', r_ui=4.0, est=4.55, details={'actual_k': 0, 'was_impossible': False}),\n",
       " Prediction(uid='AVITB7SWJUKOQ', iid='B009JRMBVG', r_ui=5.0, est=4.062666084355236, details={'was_impossible': True, 'reason': 'User and/or item is unkown.'}),\n",
       " Prediction(uid='A1YOFGROWARS5B', iid='B001NTFATI', r_ui=4.0, est=4.336734693877551, details={'actual_k': 0, 'was_impossible': False}),\n",
       " Prediction(uid='A1OWWWO34SPFU', iid='B00DIF2BO2', r_ui=5.0, est=4.062666084355236, details={'was_impossible': True, 'reason': 'User and/or item is unkown.'}),\n",
       " Prediction(uid='A112M3CENMYYZ1', iid='B00856XDOG', r_ui=2.0, est=4.062666084355236, details={'was_impossible': True, 'reason': 'User and/or item is unkown.'}),\n",
       " Prediction(uid='A2K5TW8V1FMMMI', iid='B00004VWM3', r_ui=5.0, est=4.062666084355236, details={'was_impossible': True, 'reason': 'User and/or item is unkown.'}),\n",
       " Prediction(uid='A2YVYYJEA5UWZT', iid='B000K7ZWVK', r_ui=4.0, est=4.062666084355236, details={'was_impossible': True, 'reason': 'User and/or item is unkown.'}),\n",
       " Prediction(uid='A2J5SPLKQRG3PL', iid='B002LITI70', r_ui=1.0, est=3.6008492569002124, details={'actual_k': 0, 'was_impossible': False}),\n",
       " Prediction(uid='A3EKP613O6JNUV', iid='B00829TIEK', r_ui=5.0, est=3.8484210526315787, details={'actual_k': 0, 'was_impossible': False}),\n",
       " Prediction(uid='A2BEG9BJV1H3Y', iid='B003NSBKSW', r_ui=5.0, est=4.385714285714286, details={'actual_k': 0, 'was_impossible': False}),\n",
       " Prediction(uid='A3GRE8BR3YDALE', iid='B00BQVK2PU', r_ui=4.0, est=3.8556701030927836, details={'actual_k': 0, 'was_impossible': False}),\n",
       " Prediction(uid='A1NY1RHWCQ6H2P', iid='B003ELYQGG', r_ui=5.0, est=3.4192065646942806, details={'actual_k': 3, 'was_impossible': False}),\n",
       " Prediction(uid='A3IL4WNBMGBJRY', iid='B002UT42UI', r_ui=4.0, est=4.059490970009261, details={'actual_k': 2, 'was_impossible': False}),\n",
       " Prediction(uid='A3BC77AXYYL28U', iid='B007P4VOWC', r_ui=1.0, est=4.062666084355236, details={'was_impossible': True, 'reason': 'User and/or item is unkown.'}),\n",
       " Prediction(uid='A36LAST1AWNMMO', iid='B009S61AC4', r_ui=1.0, est=4.062666084355236, details={'was_impossible': True, 'reason': 'User and/or item is unkown.'}),\n",
       " Prediction(uid='A353JPKND3ZAYQ', iid='B0028D6R54', r_ui=4.0, est=4.097560975609756, details={'actual_k': 0, 'was_impossible': False}),\n",
       " Prediction(uid='A31KBA8LLZIDS2', iid='B000K1KTNW', r_ui=5.0, est=4.651162790697675, details={'actual_k': 0, 'was_impossible': False}),\n",
       " Prediction(uid='A199PAT926QYT5', iid='B004J3V90Y', r_ui=4.0, est=4.062666084355236, details={'was_impossible': True, 'reason': 'User and/or item is unkown.'}),\n",
       " Prediction(uid='A2P7KO9M10O4NZ', iid='B0094R2HZQ', r_ui=4.0, est=3.3448275862068964, details={'actual_k': 0, 'was_impossible': False}),\n",
       " Prediction(uid='A2T230F4K4XNPH', iid='B000092YPR', r_ui=4.0, est=4.062666084355236, details={'was_impossible': True, 'reason': 'User and/or item is unkown.'}),\n",
       " Prediction(uid='A24THDNM8ETIII', iid='B0002AHT0M', r_ui=4.0, est=3.6324626865671643, details={'actual_k': 0, 'was_impossible': False}),\n",
       " Prediction(uid='AMEV4PIQR4RC6', iid='B004RDWVUS', r_ui=5.0, est=4.947565410082917, details={'actual_k': 1, 'was_impossible': False}),\n",
       " Prediction(uid='ANAHM5389ROBM', iid='B00884BPUE', r_ui=1.0, est=4.062666084355236, details={'was_impossible': True, 'reason': 'User and/or item is unkown.'}),\n",
       " Prediction(uid='A1JTEMXLNCUZ0V', iid='B000EY5F5C', r_ui=5.0, est=4.194805194805195, details={'actual_k': 0, 'was_impossible': False}),\n",
       " Prediction(uid='A3AWW2D5GI3MBG', iid='B0061RJSWC', r_ui=5.0, est=4.062666084355236, details={'was_impossible': True, 'reason': 'User and/or item is unkown.'}),\n",
       " Prediction(uid='A51JHQZ0NEWA4', iid='B00004TVSP', r_ui=4.0, est=4.0, details={'actual_k': 0, 'was_impossible': False}),\n",
       " Prediction(uid='AJJBRFHL3PO2G', iid='B003UBGAN2', r_ui=5.0, est=4.062666084355236, details={'was_impossible': True, 'reason': 'User and/or item is unkown.'}),\n",
       " Prediction(uid='A8CKG07T51SZ2', iid='B007YKUWN4', r_ui=5.0, est=4.062666084355236, details={'was_impossible': True, 'reason': 'User and/or item is unkown.'}),\n",
       " Prediction(uid='A3DUZGP131WAT6', iid='B001GTT0VO', r_ui=5.0, est=4.446161515453639, details={'actual_k': 0, 'was_impossible': False}),\n",
       " Prediction(uid='A102YRTA0CBQ6I', iid='B001T9CTRS', r_ui=4.0, est=4.864912666927251, details={'actual_k': 1, 'was_impossible': False}),\n",
       " Prediction(uid='A2QYSHN8IH4394', iid='B006TT91TW', r_ui=5.0, est=4.062666084355236, details={'was_impossible': True, 'reason': 'User and/or item is unkown.'}),\n",
       " Prediction(uid='A1P8RS399SQMR2', iid='B00BLCLURI', r_ui=5.0, est=4.483412322274882, details={'actual_k': 0, 'was_impossible': False}),\n",
       " Prediction(uid='AJMGLQAP68M0X', iid='B008THTRVO', r_ui=1.0, est=4.062666084355236, details={'was_impossible': True, 'reason': 'User and/or item is unkown.'}),\n",
       " Prediction(uid='A1BEW34Q558WC0', iid='B002HQWN28', r_ui=3.0, est=4.062666084355236, details={'was_impossible': True, 'reason': 'User and/or item is unkown.'}),\n",
       " Prediction(uid='A3RHFO13CUAJW6', iid='B005USRBVI', r_ui=4.0, est=3.9233870967741935, details={'actual_k': 0, 'was_impossible': False}),\n",
       " Prediction(uid='A1BCLQHL721NXH', iid='B003IGNUL4', r_ui=1.0, est=4.062666084355236, details={'was_impossible': True, 'reason': 'User and/or item is unkown.'}),\n",
       " Prediction(uid='A3IHELWODV4K4U', iid='B004X237O2', r_ui=5.0, est=4.062666084355236, details={'was_impossible': True, 'reason': 'User and/or item is unkown.'}),\n",
       " Prediction(uid='A3RPX15V2U4NYX', iid='B001N82JP2', r_ui=5.0, est=4.062666084355236, details={'was_impossible': True, 'reason': 'User and/or item is unkown.'}),\n",
       " Prediction(uid='A06138192CSESOK3HW08V', iid='B005H3Q57M', r_ui=5.0, est=4.4673539518900345, details={'actual_k': 0, 'was_impossible': False}),\n",
       " Prediction(uid='A3261PWD48W7FA', iid='B001L1H0SC', r_ui=5.0, est=4.062666084355236, details={'was_impossible': True, 'reason': 'User and/or item is unkown.'}),\n",
       " Prediction(uid='A3G2DWCEQVYTH8', iid='B008CX2A2I', r_ui=1.0, est=3.2083333333333335, details={'actual_k': 0, 'was_impossible': False}),\n",
       " Prediction(uid='A2X1VCGQO61PHK', iid='B00D029NNA', r_ui=5.0, est=4.062666084355236, details={'was_impossible': True, 'reason': 'User and/or item is unkown.'}),\n",
       " Prediction(uid='A2XV03C98DFYSH', iid='B0016P5ASK', r_ui=1.0, est=3.7148014440433212, details={'actual_k': 0, 'was_impossible': False}),\n",
       " Prediction(uid='A9MWAP4CCII5I', iid='B0031MOL2C', r_ui=5.0, est=4.062666084355236, details={'was_impossible': True, 'reason': 'User and/or item is unkown.'}),\n",
       " Prediction(uid='A9BXXTZ2QNI6X', iid='B00AVZO9A6', r_ui=5.0, est=4.062666084355236, details={'was_impossible': True, 'reason': 'User and/or item is unkown.'}),\n",
       " Prediction(uid='A2Y49GW6P2WL1O', iid='B0093AN1OA', r_ui=4.0, est=4.062666084355236, details={'was_impossible': True, 'reason': 'User and/or item is unkown.'}),\n",
       " Prediction(uid='AR3YP1PMENVHA', iid='B00840353W', r_ui=5.0, est=4.062666084355236, details={'was_impossible': True, 'reason': 'User and/or item is unkown.'}),\n",
       " Prediction(uid='A3LPV7RA8ONDC5', iid='B008B488DI', r_ui=5.0, est=2.510952497818499, details={'actual_k': 1, 'was_impossible': False}),\n",
       " Prediction(uid='A2IU940D2Q742P', iid='B000NW12C0', r_ui=4.0, est=4.062666084355236, details={'was_impossible': True, 'reason': 'User and/or item is unkown.'}),\n",
       " Prediction(uid='A2P34GZC2PET54', iid='B00024VU5I', r_ui=5.0, est=4.285714285714286, details={'actual_k': 0, 'was_impossible': False}),\n",
       " Prediction(uid='A17C41CDJLTZCC', iid='B007ABIY4Q', r_ui=1.0, est=4.142857142857143, details={'actual_k': 0, 'was_impossible': False}),\n",
       " Prediction(uid='AZICFJWH9G72A', iid='B00BWF5U0M', r_ui=5.0, est=4.378839590443686, details={'actual_k': 0, 'was_impossible': False}),\n",
       " Prediction(uid='A16BQCPGB257LK', iid='B0042X8NT6', r_ui=5.0, est=4.065420560747664, details={'actual_k': 0, 'was_impossible': False}),\n",
       " Prediction(uid='A2HX9B6SMAGW9T', iid='B00D02AG7C', r_ui=4.0, est=4.0545158665581775, details={'actual_k': 0, 'was_impossible': False}),\n",
       " Prediction(uid='A2VS9D5R4YTCKQ', iid='B00DIFIM36', r_ui=1.0, est=3.475655252625457, details={'actual_k': 1, 'was_impossible': False}),\n",
       " Prediction(uid='A27IGO4RPYZDZL', iid='B002SP2X5U', r_ui=5.0, est=2.708803611738149, details={'actual_k': 0, 'was_impossible': False}),\n",
       " Prediction(uid='A1VX363KJF41WM', iid='B00ASLSQHK', r_ui=5.0, est=3.5019762845849804, details={'actual_k': 0, 'was_impossible': False}),\n",
       " Prediction(uid='A3U75S5XBX7Z9U', iid='B00GMXOCBM', r_ui=5.0, est=3.192982456140351, details={'actual_k': 0, 'was_impossible': False}),\n",
       " Prediction(uid='A2D48TRE3LEI7Z', iid='B00C321TGC', r_ui=4.0, est=4.062666084355236, details={'was_impossible': True, 'reason': 'User and/or item is unkown.'}),\n",
       " Prediction(uid='A51UFCRV0KNMY', iid='B0039NLS3I', r_ui=5.0, est=4.062666084355236, details={'was_impossible': True, 'reason': 'User and/or item is unkown.'}),\n",
       " Prediction(uid='A1VOAM6TXE0D0C', iid='B005HMO6A6', r_ui=2.0, est=4.062666084355236, details={'was_impossible': True, 'reason': 'User and/or item is unkown.'}),\n",
       " Prediction(uid='A2KJH3U91ANG20', iid='B007P4VOWC', r_ui=5.0, est=5, details={'actual_k': 1, 'was_impossible': False}),\n",
       " Prediction(uid='A2HRU90VXU0505', iid='B005KDYBIO', r_ui=4.0, est=4.062666084355236, details={'was_impossible': True, 'reason': 'User and/or item is unkown.'}),\n",
       " Prediction(uid='A2C7XG5LA489XX', iid='B007SP36ZG', r_ui=5.0, est=4.062666084355236, details={'was_impossible': True, 'reason': 'User and/or item is unkown.'}),\n",
       " Prediction(uid='A1L1PE5HEJ6Y3Z', iid='B004PEIG12', r_ui=5.0, est=4.062666084355236, details={'was_impossible': True, 'reason': 'User and/or item is unkown.'}),\n",
       " Prediction(uid='A3K40MBA0SDK2K', iid='B008AST7R6', r_ui=2.0, est=4.062666084355236, details={'was_impossible': True, 'reason': 'User and/or item is unkown.'}),\n",
       " Prediction(uid='A18ECVX2RJ7HUE', iid='B0042TS7GE', r_ui=3.0, est=3.9625, details={'actual_k': 0, 'was_impossible': False}),\n",
       " Prediction(uid='A3HEZDWJZ0V3MY', iid='B003SX0NFI', r_ui=5.0, est=4.062666084355236, details={'was_impossible': True, 'reason': 'User and/or item is unkown.'}),\n",
       " Prediction(uid='A2760KF1BBH4JC', iid='B000QSQSDO', r_ui=5.0, est=4.062666084355236, details={'was_impossible': True, 'reason': 'User and/or item is unkown.'}),\n",
       " Prediction(uid='A1UZE7QBTQS0WF', iid='B000Q85WRC', r_ui=5.0, est=4.062666084355236, details={'was_impossible': True, 'reason': 'User and/or item is unkown.'}),\n",
       " Prediction(uid='A3SU2VZZXCXZ', iid='B003ELVLKU', r_ui=5.0, est=4.062666084355236, details={'was_impossible': True, 'reason': 'User and/or item is unkown.'}),\n",
       " Prediction(uid='A1SKLBN04EH8YU', iid='B003FVU49I', r_ui=5.0, est=4.062666084355236, details={'was_impossible': True, 'reason': 'User and/or item is unkown.'}),\n",
       " Prediction(uid='AFZK0PDQP7SBV', iid='B005B28DOM', r_ui=5.0, est=4.062666084355236, details={'was_impossible': True, 'reason': 'User and/or item is unkown.'}),\n",
       " Prediction(uid='A1U1EYFLX6OI94', iid='B004G8QOJS', r_ui=1.0, est=4.062666084355236, details={'was_impossible': True, 'reason': 'User and/or item is unkown.'}),\n",
       " Prediction(uid='A1881MXNHQUV3N', iid='B0058HUQJ0', r_ui=5.0, est=4.0606060606060606, details={'actual_k': 0, 'was_impossible': False}),\n",
       " Prediction(uid='AUTF5DOK0A9RP', iid='B002O03HHM', r_ui=5.0, est=3.92, details={'actual_k': 0, 'was_impossible': False}),\n",
       " Prediction(uid='A3831R5PZV9HB6', iid='B0036MDUL0', r_ui=1.0, est=4.062666084355236, details={'was_impossible': True, 'reason': 'User and/or item is unkown.'}),\n",
       " Prediction(uid='A1QJ0372T1500L', iid='B0098F5W0Q', r_ui=5.0, est=4.062666084355236, details={'was_impossible': True, 'reason': 'User and/or item is unkown.'}),\n",
       " Prediction(uid='A2FSOHSM9X13JT', iid='B001EO6W8K', r_ui=5.0, est=4.445256487237489, details={'actual_k': 3, 'was_impossible': False}),\n",
       " Prediction(uid='A2COBJZMWV1HDD', iid='B000RZDBM2', r_ui=4.0, est=4.062666084355236, details={'was_impossible': True, 'reason': 'User and/or item is unkown.'}),\n",
       " Prediction(uid='AYFA07UVUCYRM', iid='B003B3N258', r_ui=4.0, est=4.36, details={'actual_k': 0, 'was_impossible': False}),\n",
       " Prediction(uid='AW1Y0E9GZ6GJK', iid='B007V9W7VI', r_ui=5.0, est=4.062666084355236, details={'was_impossible': True, 'reason': 'User and/or item is unkown.'}),\n",
       " Prediction(uid='A34W8F8G10GPGP', iid='B004JXVOD6', r_ui=3.0, est=4.998056764075426, details={'actual_k': 1, 'was_impossible': False}),\n",
       " Prediction(uid='A3NO7QLC4ZB69H', iid='B0016OEV7C', r_ui=5.0, est=4.439000960614793, details={'actual_k': 0, 'was_impossible': False}),\n",
       " Prediction(uid='A28K5DTEME5HZX', iid='B002OV1VJW', r_ui=4.0, est=4.062666084355236, details={'was_impossible': True, 'reason': 'User and/or item is unkown.'}),\n",
       " Prediction(uid='A2AHBT9H1TGSDY', iid='B00548QAPC', r_ui=4.0, est=4.062666084355236, details={'was_impossible': True, 'reason': 'User and/or item is unkown.'}),\n",
       " Prediction(uid='A4JF2E4TKZPNU', iid='B003LNZ1L6', r_ui=2.0, est=4.062666084355236, details={'was_impossible': True, 'reason': 'User and/or item is unkown.'}),\n",
       " Prediction(uid='A2MCC6CISJ4SBX', iid='B00ACPR3AS', r_ui=3.0, est=4.062666084355236, details={'was_impossible': True, 'reason': 'User and/or item is unkown.'}),\n",
       " Prediction(uid='A1K4RX2M3THV87', iid='B002E31136', r_ui=1.0, est=3.0555555555555554, details={'actual_k': 0, 'was_impossible': False}),\n",
       " Prediction(uid='A2BHARQIE525WG', iid='B0023B14TK', r_ui=4.0, est=4.062666084355236, details={'was_impossible': True, 'reason': 'User and/or item is unkown.'}),\n",
       " Prediction(uid='A3CHVI1LI6DR1X', iid='B00DB3SH2G', r_ui=5.0, est=4.062666084355236, details={'was_impossible': True, 'reason': 'User and/or item is unkown.'}),\n",
       " Prediction(uid='A3MTIGQLEN8XJA', iid='B00GJVF766', r_ui=2.0, est=4.062666084355236, details={'was_impossible': True, 'reason': 'User and/or item is unkown.'}),\n",
       " Prediction(uid='A3LVSATC0GE2BP', iid='B005FYNTIG', r_ui=5.0, est=4.141732283464567, details={'actual_k': 0, 'was_impossible': False}),\n",
       " Prediction(uid='A9UHZB2CQSZEQ', iid='B0002L5R78', r_ui=4.0, est=4.436309077269318, details={'actual_k': 0, 'was_impossible': False}),\n",
       " Prediction(uid='A19DLMU388VW8L', iid='B00EAXRVLY', r_ui=4.0, est=4.144578313253012, details={'actual_k': 0, 'was_impossible': False}),\n",
       " Prediction(uid='A2HQRJV2L55P52', iid='B00AI6K5JW', r_ui=5.0, est=4.062666084355236, details={'was_impossible': True, 'reason': 'User and/or item is unkown.'}),\n",
       " Prediction(uid='AR2PZLIX61N60', iid='B005G8CKEU', r_ui=1.0, est=4.062666084355236, details={'was_impossible': True, 'reason': 'User and/or item is unkown.'}),\n",
       " Prediction(uid='APC9L1E4XYYU9', iid='B0049IOPFK', r_ui=4.0, est=4.5576923076923075, details={'actual_k': 0, 'was_impossible': False}),\n",
       " Prediction(uid='A2WRDX9GT95GXB', iid='B002LARYGA', r_ui=4.0, est=4.062666084355236, details={'was_impossible': True, 'reason': 'User and/or item is unkown.'}),\n",
       " Prediction(uid='A2L2SD7R6M1P1N', iid='B007GFX0PY', r_ui=1.0, est=4.062666084355236, details={'was_impossible': True, 'reason': 'User and/or item is unkown.'}),\n",
       " Prediction(uid='AJX9A4Q19UTJU', iid='B0001D3K8A', r_ui=5.0, est=4.312766306129138, details={'actual_k': 1, 'was_impossible': False}),\n",
       " Prediction(uid='A115XCY1VCOY9T', iid='B007WAWHD4', r_ui=5.0, est=3.9270833333333335, details={'actual_k': 0, 'was_impossible': False}),\n",
       " Prediction(uid='ADE1TR42NHFPY', iid='B003QO6L32', r_ui=5.0, est=4.062666084355236, details={'was_impossible': True, 'reason': 'User and/or item is unkown.'}),\n",
       " Prediction(uid='A2LEIA0QCMWUJQ', iid='B004BBFPBS', r_ui=3.0, est=4.11214953271028, details={'actual_k': 0, 'was_impossible': False}),\n",
       " Prediction(uid='A3CJQ4NNP2B04J', iid='B008ER32W4', r_ui=4.0, est=4.062666084355236, details={'was_impossible': True, 'reason': 'User and/or item is unkown.'}),\n",
       " Prediction(uid='A1P5IE3XKHC1O2', iid='B0083X8VZW', r_ui=5.0, est=4.062666084355236, details={'was_impossible': True, 'reason': 'User and/or item is unkown.'}),\n",
       " Prediction(uid='A3V0WCE45QIU5N', iid='B00570DFYQ', r_ui=5.0, est=4.491803278688525, details={'actual_k': 0, 'was_impossible': False}),\n",
       " Prediction(uid='A1SYO2EOXJ3QA0', iid='B00AJHDZSI', r_ui=5.0, est=4.502328288707799, details={'actual_k': 0, 'was_impossible': False}),\n",
       " Prediction(uid='A2FDR7KGGWOMXH', iid='B0062IMERQ', r_ui=5.0, est=4.062666084355236, details={'was_impossible': True, 'reason': 'User and/or item is unkown.'}),\n",
       " Prediction(uid='A35EZVNQGKG3AI', iid='B00F4A8FQM', r_ui=4.0, est=4.062666084355236, details={'was_impossible': True, 'reason': 'User and/or item is unkown.'}),\n",
       " Prediction(uid='A2AEQQQGXEQYZH', iid='B00DR0PDNE', r_ui=5.0, est=3.930453752181501, details={'actual_k': 0, 'was_impossible': False}),\n",
       " Prediction(uid='A2URV0G603IX0Y', iid='B001DLTDQC', r_ui=4.0, est=4.062666084355236, details={'was_impossible': True, 'reason': 'User and/or item is unkown.'}),\n",
       " Prediction(uid='AO51EMX2DPTUF', iid='B0057OCDQS', r_ui=5.0, est=4.238235294117647, details={'actual_k': 0, 'was_impossible': False}),\n",
       " Prediction(uid='A10TVZWBU5H7F5', iid='B000MCGF1O', r_ui=2.0, est=4.062666084355236, details={'was_impossible': True, 'reason': 'User and/or item is unkown.'}),\n",
       " Prediction(uid='A1DXGPOEENVCBX', iid='B00FGMY4JA', r_ui=5.0, est=4.062666084355236, details={'was_impossible': True, 'reason': 'User and/or item is unkown.'}),\n",
       " Prediction(uid='A1GNOK6Z9UH4P0', iid='B00902SJY8', r_ui=5.0, est=3.8986486486486487, details={'actual_k': 0, 'was_impossible': False}),\n",
       " Prediction(uid='A2QFUHUMDJHZSB', iid='B001P2R1RW', r_ui=5.0, est=4.062666084355236, details={'was_impossible': True, 'reason': 'User and/or item is unkown.'}),\n",
       " Prediction(uid='AIFU7WJI65OJ9', iid='B000WI9CIG', r_ui=5.0, est=4.510067114093959, details={'actual_k': 0, 'was_impossible': False}),\n",
       " Prediction(uid='A2BC1R6WQGJ6S3', iid='B0047ZGIUK', r_ui=4.0, est=4.062666084355236, details={'was_impossible': True, 'reason': 'User and/or item is unkown.'}),\n",
       " Prediction(uid='A2M2OJVLR5K8LJ', iid='B006GWO5WK', r_ui=5.0, est=4.831701666235063, details={'actual_k': 1, 'was_impossible': False}),\n",
       " Prediction(uid='AD90ZUC84WH5T', iid='B002W5V8SE', r_ui=4.0, est=4.649673612199071, details={'actual_k': 1, 'was_impossible': False}),\n",
       " Prediction(uid='APFGJ7E099M9E', iid='B000LRMS66', r_ui=5.0, est=5, details={'actual_k': 2, 'was_impossible': False}),\n",
       " Prediction(uid='A2Q20KR8QGZVZK', iid='B00512W4Y2', r_ui=1.0, est=4.0256410256410255, details={'actual_k': 0, 'was_impossible': False}),\n",
       " Prediction(uid='ACKWE1J1BKK1K', iid='B006ZW4H4C', r_ui=4.0, est=4.062666084355236, details={'was_impossible': True, 'reason': 'User and/or item is unkown.'}),\n",
       " Prediction(uid='A26FSA9VCET89G', iid='B00A0ABQLM', r_ui=5.0, est=4.062666084355236, details={'was_impossible': True, 'reason': 'User and/or item is unkown.'}),\n",
       " Prediction(uid='ABP7KDAGSXJRW', iid='B000CKVOOY', r_ui=5.0, est=4.701318851823118, details={'actual_k': 0, 'was_impossible': False}),\n",
       " Prediction(uid='A3AQZDVKSO7U32', iid='B00007EDM8', r_ui=4.0, est=4.062666084355236, details={'was_impossible': True, 'reason': 'User and/or item is unkown.'}),\n",
       " Prediction(uid='A2YYI5TUEG1GER', iid='B0007WTHLY', r_ui=4.0, est=3.8852459016393444, details={'actual_k': 0, 'was_impossible': False}),\n",
       " Prediction(uid='A2FMK0SLCHHCW3', iid='B000BUEMOO', r_ui=1.0, est=3.79933110367893, details={'actual_k': 0, 'was_impossible': False}),\n",
       " Prediction(uid='APEU74WZ9O6TU', iid='B0054CFKQI', r_ui=2.0, est=3.9782608695652173, details={'actual_k': 0, 'was_impossible': False}),\n",
       " Prediction(uid='A2T31O1JG2CUEV', iid='B002SGATH8', r_ui=5.0, est=4.6281523250141126, details={'actual_k': 1, 'was_impossible': False}),\n",
       " Prediction(uid='ATW3PB6LO0CAZ', iid='B007T0NM2M', r_ui=3.0, est=4.062666084355236, details={'was_impossible': True, 'reason': 'User and/or item is unkown.'}),\n",
       " Prediction(uid='A38R7G4PREOMLE', iid='B000LRMR26', r_ui=5.0, est=4.726190476190476, details={'actual_k': 0, 'was_impossible': False}),\n",
       " Prediction(uid='A18I2ATMY79CUM', iid='B00668MX78', r_ui=4.0, est=4.062666084355236, details={'was_impossible': True, 'reason': 'User and/or item is unkown.'}),\n",
       " Prediction(uid='A2N0O6JWHONV74', iid='B005KSATVC', r_ui=3.0, est=4.18957345971564, details={'actual_k': 0, 'was_impossible': False}),\n",
       " Prediction(uid='A2JEI7NC94Z4PN', iid='B000NB05MO', r_ui=1.0, est=4.425742574257426, details={'actual_k': 0, 'was_impossible': False}),\n",
       " Prediction(uid='A2KKL06O3IINEW', iid='B009U7WZCA', r_ui=4.0, est=4.062666084355236, details={'was_impossible': True, 'reason': 'User and/or item is unkown.'}),\n",
       " Prediction(uid='AKSNIMDN3MTRN', iid='B00GR1I242', r_ui=5.0, est=4.062666084355236, details={'was_impossible': True, 'reason': 'User and/or item is unkown.'}),\n",
       " Prediction(uid='AHTIA2HFOF52W', iid='B0026RO82G', r_ui=1.0, est=4.062666084355236, details={'was_impossible': True, 'reason': 'User and/or item is unkown.'}),\n",
       " Prediction(uid='A1IOUFSLDRXS2D', iid='B008HK50ZA', r_ui=5.0, est=4.490196078431373, details={'actual_k': 0, 'was_impossible': False}),\n",
       " Prediction(uid='A3UWGQPYNKW2QH', iid='B000A5T7AO', r_ui=5.0, est=4.062666084355236, details={'was_impossible': True, 'reason': 'User and/or item is unkown.'}),\n",
       " Prediction(uid='A2BHVDH2BKQMPU', iid='B009LL9VDG', r_ui=5.0, est=4.028689831048773, details={'actual_k': 0, 'was_impossible': False}),\n",
       " Prediction(uid='A1H6DFOSIS4AXT', iid='B004RKVXXM', r_ui=5.0, est=4.062666084355236, details={'was_impossible': True, 'reason': 'User and/or item is unkown.'}),\n",
       " Prediction(uid='ALJP9DRKQBC8K', iid='B0035FZJM6', r_ui=4.0, est=4.062666084355236, details={'was_impossible': True, 'reason': 'User and/or item is unkown.'}),\n",
       " Prediction(uid='A1Y4QAMFF7AV5G', iid='B003DZ165W', r_ui=4.0, est=4.062666084355236, details={'was_impossible': True, 'reason': 'User and/or item is unkown.'}),\n",
       " Prediction(uid='A27RS36NG3FZRF', iid='B003ELVLKU', r_ui=5.0, est=4.062666084355236, details={'was_impossible': True, 'reason': 'User and/or item is unkown.'}),\n",
       " Prediction(uid='A3REQHF9U88LFA', iid='B00429N16A', r_ui=3.0, est=4.062666084355236, details={'was_impossible': True, 'reason': 'User and/or item is unkown.'}),\n",
       " Prediction(uid='A2L3QPAWY2V3CX', iid='B0097DFRMC', r_ui=5.0, est=4.204545454545454, details={'actual_k': 0, 'was_impossible': False}),\n",
       " Prediction(uid='A3GZ4QENCD3KLT', iid='B00ACPR3AS', r_ui=5.0, est=4.0, details={'actual_k': 0, 'was_impossible': False}),\n",
       " Prediction(uid='A36GJ17V643FF1', iid='B0058FJYUE', r_ui=1.0, est=4.062666084355236, details={'was_impossible': True, 'reason': 'User and/or item is unkown.'}),\n",
       " Prediction(uid='A3SXH43R1KXDRU', iid='B00BXF7I8I', r_ui=4.0, est=4.062666084355236, details={'was_impossible': True, 'reason': 'User and/or item is unkown.'}),\n",
       " Prediction(uid='A1RGT2DZWCHN2Y', iid='B00BWLL9N8', r_ui=5.0, est=4.062666084355236, details={'was_impossible': True, 'reason': 'User and/or item is unkown.'}),\n",
       " Prediction(uid='A1RLIQJJCN4HVP', iid='B0090D2QZU', r_ui=5.0, est=4.062666084355236, details={'was_impossible': True, 'reason': 'User and/or item is unkown.'}),\n",
       " Prediction(uid='A3P8JQGFZAOAIB', iid='B001MRX3CW', r_ui=5.0, est=4.062666084355236, details={'was_impossible': True, 'reason': 'User and/or item is unkown.'}),\n",
       " Prediction(uid='A2WEJHLAFUETMG', iid='B002BZFSYA', r_ui=2.0, est=4.062666084355236, details={'was_impossible': True, 'reason': 'User and/or item is unkown.'}),\n",
       " Prediction(uid='A37WJE7AC2OHLD', iid='B003ZBZ64Q', r_ui=5.0, est=4.062666084355236, details={'was_impossible': True, 'reason': 'User and/or item is unkown.'}),\n",
       " Prediction(uid='A1A0MBT5LKK8U9', iid='B002M3SOBU', r_ui=3.0, est=4.2368421052631575, details={'actual_k': 0, 'was_impossible': False}),\n",
       " Prediction(uid='A7115HFVS9ZR5', iid='B0077CR5RK', r_ui=4.0, est=4.062666084355236, details={'was_impossible': True, 'reason': 'User and/or item is unkown.'}),\n",
       " Prediction(uid='A2MMBEVCD7PFVY', iid='B004RKQM8I', r_ui=3.0, est=4.062666084355236, details={'was_impossible': True, 'reason': 'User and/or item is unkown.'}),\n",
       " Prediction(uid='A2TENLNSUZL0WS', iid='B0002ZW5W4', r_ui=5.0, est=4.062666084355236, details={'was_impossible': True, 'reason': 'User and/or item is unkown.'}),\n",
       " Prediction(uid='A2GVUS0ETDTJZB', iid='B008EQZ25K', r_ui=4.0, est=4.219026548672566, details={'actual_k': 0, 'was_impossible': False}),\n",
       " Prediction(uid='AY1NUCXXJ5WD5', iid='B005FMBVLA', r_ui=5.0, est=3.9047619047619047, details={'actual_k': 0, 'was_impossible': False}),\n",
       " Prediction(uid='A3N4190RZ34MCI', iid='B005QBK5V2', r_ui=4.0, est=4.062666084355236, details={'was_impossible': True, 'reason': 'User and/or item is unkown.'}),\n",
       " Prediction(uid='A1I2N7IVB36Y35', iid='B004YI7SNG', r_ui=3.0, est=4.062666084355236, details={'was_impossible': True, 'reason': 'User and/or item is unkown.'}),\n",
       " Prediction(uid='A12VH81L6HYZYP', iid='B004YIFP04', r_ui=5.0, est=4.181347150259067, details={'actual_k': 0, 'was_impossible': False}),\n",
       " Prediction(uid='A3U909X445NX3N', iid='B003RRY8ZG', r_ui=3.0, est=4.062666084355236, details={'was_impossible': True, 'reason': 'User and/or item is unkown.'}),\n",
       " Prediction(uid='APAW5Z5WFXUCL', iid='B008UQ0GHI', r_ui=5.0, est=4.062666084355236, details={'was_impossible': True, 'reason': 'User and/or item is unkown.'}),\n",
       " Prediction(uid='A1E8KY118X2DKM', iid='B00834SJNA', r_ui=4.0, est=4.062666084355236, details={'was_impossible': True, 'reason': 'User and/or item is unkown.'}),\n",
       " Prediction(uid='A1Y1LT9CAHQVAO', iid='B004LTEUDO', r_ui=4.0, est=4.683632157316368, details={'actual_k': 0, 'was_impossible': False}),\n",
       " Prediction(uid='A18XSVLR51LOG5', iid='B000HKGK8Y', r_ui=3.0, est=4.062666084355236, details={'was_impossible': True, 'reason': 'User and/or item is unkown.'}),\n",
       " Prediction(uid='AMG1JUNR7K9BO', iid='B00B25I8DS', r_ui=1.0, est=4.062666084355236, details={'was_impossible': True, 'reason': 'User and/or item is unkown.'}),\n",
       " Prediction(uid='A93DX0OO4CZF0', iid='B00BW96UIO', r_ui=5.0, est=4.627450980392157, details={'actual_k': 0, 'was_impossible': False}),\n",
       " Prediction(uid='A3LD7QVC90Z7CW', iid='B007R5YDYA', r_ui=5.0, est=4.062666084355236, details={'was_impossible': True, 'reason': 'User and/or item is unkown.'}),\n",
       " Prediction(uid='A9CK7WKQR5ALJ', iid='B004XZL980', r_ui=5.0, est=4.062666084355236, details={'was_impossible': True, 'reason': 'User and/or item is unkown.'}),\n",
       " Prediction(uid='A2KPMPU4WW9Z98', iid='B0007N55PA', r_ui=5.0, est=4.062666084355236, details={'was_impossible': True, 'reason': 'User and/or item is unkown.'}),\n",
       " Prediction(uid='A11FF217ELHRDC', iid='B00825BZUY', r_ui=5.0, est=4.062666084355236, details={'was_impossible': True, 'reason': 'User and/or item is unkown.'}),\n",
       " Prediction(uid='A1F4LCF5QHMRPP', iid='B00C2P61FO', r_ui=5.0, est=4.062666084355236, details={'was_impossible': True, 'reason': 'User and/or item is unkown.'}),\n",
       " Prediction(uid='A3GAGA790C3F90', iid='B002MAPRYU', r_ui=4.0, est=4.062666084355236, details={'was_impossible': True, 'reason': 'User and/or item is unkown.'}),\n",
       " Prediction(uid='A26UD89V1EJ0PM', iid='B00846Z34K', r_ui=4.0, est=3.9225352112676055, details={'actual_k': 0, 'was_impossible': False}),\n",
       " Prediction(uid='A1EDF2C11DNI7X', iid='B004CADY9I', r_ui=2.0, est=3.7989080982711556, details={'actual_k': 0, 'was_impossible': False}),\n",
       " Prediction(uid='A3DSPQHO4NOSBB', iid='B009S2CWX4', r_ui=5.0, est=4.54954954954955, details={'actual_k': 0, 'was_impossible': False}),\n",
       " Prediction(uid='A3LZYZJB58K09Y', iid='B0018SHJPM', r_ui=5.0, est=3.7555555555555555, details={'actual_k': 0, 'was_impossible': False}),\n",
       " Prediction(uid='ANO3PLR7O4VBF', iid='B00A35WYBA', r_ui=5.0, est=4.9437687074386725, details={'actual_k': 1, 'was_impossible': False}),\n",
       " Prediction(uid='A1MG2VA01H5FHD', iid='B001U3Y8L8', r_ui=5.0, est=4.173913043478261, details={'actual_k': 0, 'was_impossible': False}),\n",
       " Prediction(uid='A39BAXZEHDBRJ3', iid='B002HZW7CK', r_ui=5.0, est=4.062666084355236, details={'was_impossible': True, 'reason': 'User and/or item is unkown.'}),\n",
       " Prediction(uid='A1ZW3YK0P08UX6', iid='B004T1YAEI', r_ui=5.0, est=4.062666084355236, details={'was_impossible': True, 'reason': 'User and/or item is unkown.'}),\n",
       " Prediction(uid='A10BZC79VVV21R', iid='B005740O28', r_ui=5.0, est=4.488888888888889, details={'actual_k': 0, 'was_impossible': False}),\n",
       " Prediction(uid='A1TDZBBNYAM4GP', iid='B0079U1N00', r_ui=5.0, est=4.213592233009709, details={'actual_k': 0, 'was_impossible': False}),\n",
       " Prediction(uid='A39J8360AZKQQ8', iid='B002N8087C', r_ui=4.0, est=3.5157894736842104, details={'actual_k': 0, 'was_impossible': False}),\n",
       " Prediction(uid='A1QMIP5XPCW3CB', iid='B001EQ0HAW', r_ui=5.0, est=4.062666084355236, details={'was_impossible': True, 'reason': 'User and/or item is unkown.'}),\n",
       " Prediction(uid='A1MBUQ1B3TKT7M', iid='B005FVNGRI', r_ui=4.0, est=4.288646563282374, details={'actual_k': 2, 'was_impossible': False}),\n",
       " Prediction(uid='AQ5M487XCQ7CJ', iid='B00434OWDA', r_ui=5.0, est=4.062666084355236, details={'was_impossible': True, 'reason': 'User and/or item is unkown.'}),\n",
       " Prediction(uid='ANFX3K9FUU0K0', iid='B004LEAKG0', r_ui=3.0, est=4.062666084355236, details={'was_impossible': True, 'reason': 'User and/or item is unkown.'}),\n",
       " Prediction(uid='AUDPXORBKZ04Z', iid='B000AJIF4E', r_ui=5.0, est=4.062666084355236, details={'was_impossible': True, 'reason': 'User and/or item is unkown.'}),\n",
       " Prediction(uid='A3DTRLODQDQI9X', iid='B003OTXBY6', r_ui=5.0, est=4.062666084355236, details={'was_impossible': True, 'reason': 'User and/or item is unkown.'}),\n",
       " Prediction(uid='AQXWQOHDWQ1IC', iid='B001Q6DQT4', r_ui=5.0, est=4.062666084355236, details={'was_impossible': True, 'reason': 'User and/or item is unkown.'}),\n",
       " Prediction(uid='A28JBCFJ3B34V4', iid='B000EI0EB8', r_ui=5.0, est=4.574074074074074, details={'actual_k': 0, 'was_impossible': False}),\n",
       " Prediction(uid='A2H6W7QU1WZNTS', iid='B002BH3I9U', r_ui=5.0, est=4.062666084355236, details={'was_impossible': True, 'reason': 'User and/or item is unkown.'}),\n",
       " Prediction(uid='A34B9B00YQGFHW', iid='B005TI1ILS', r_ui=5.0, est=4.062666084355236, details={'was_impossible': True, 'reason': 'User and/or item is unkown.'}),\n",
       " Prediction(uid='A3HWWA76KOVXC7', iid='B009B8E9ZO', r_ui=5.0, est=4.062666084355236, details={'was_impossible': True, 'reason': 'User and/or item is unkown.'}),\n",
       " Prediction(uid='A39SEW1HZMJQZ5', iid='B001SE4YQS', r_ui=5.0, est=4.062666084355236, details={'was_impossible': True, 'reason': 'User and/or item is unkown.'}),\n",
       " Prediction(uid='AC6ZGLIP1A8IE', iid='B007R5YDYA', r_ui=5.0, est=4.062666084355236, details={'was_impossible': True, 'reason': 'User and/or item is unkown.'}),\n",
       " Prediction(uid='A1TP95SVE20GAI', iid='B004SD25SK', r_ui=5.0, est=4.062666084355236, details={'was_impossible': True, 'reason': 'User and/or item is unkown.'}),\n",
       " Prediction(uid='AO6URI25USNBS', iid='B002M3SHXA', r_ui=1.0, est=4.35582154515778, details={'actual_k': 0, 'was_impossible': False}),\n",
       " Prediction(uid='A2CKLLHHF2ZN91', iid='B003B01AHS', r_ui=5.0, est=4.062666084355236, details={'was_impossible': True, 'reason': 'User and/or item is unkown.'}),\n",
       " Prediction(uid='A2UAFC28M0OY6F', iid='B000A3XRSO', r_ui=1.0, est=4.062666084355236, details={'was_impossible': True, 'reason': 'User and/or item is unkown.'}),\n",
       " Prediction(uid='A27B9TEQQ031JQ', iid='B000UXZQ42', r_ui=1.0, est=4.062666084355236, details={'was_impossible': True, 'reason': 'User and/or item is unkown.'}),\n",
       " Prediction(uid='A1OU84BHT9HV7S', iid='B005IKJ62A', r_ui=4.0, est=4.062666084355236, details={'was_impossible': True, 'reason': 'User and/or item is unkown.'}),\n",
       " Prediction(uid='A2K4TYVRFBX0KS', iid='B004M6Z92M', r_ui=4.0, est=4.062666084355236, details={'was_impossible': True, 'reason': 'User and/or item is unkown.'}),\n",
       " Prediction(uid='A39QDBN3U856PH', iid='B000A3WS16', r_ui=5.0, est=4.062666084355236, details={'was_impossible': True, 'reason': 'User and/or item is unkown.'}),\n",
       " Prediction(uid='A2J6XWU0NEUHVO', iid='B006GWO5WK', r_ui=5.0, est=4.062666084355236, details={'was_impossible': True, 'reason': 'User and/or item is unkown.'}),\n",
       " Prediction(uid='AY6UVFUGKTYR9', iid='B003D8GAA0', r_ui=2.0, est=1.6850077118334297, details={'actual_k': 1, 'was_impossible': False}),\n",
       " Prediction(uid='A1KLPMFJG9DLFK', iid='B000QUUFRW', r_ui=1.0, est=4.062666084355236, details={'was_impossible': True, 'reason': 'User and/or item is unkown.'}),\n",
       " Prediction(uid='A8ND91ZH9RHKV', iid='B008Q7DDLM', r_ui=2.0, est=4.062666084355236, details={'was_impossible': True, 'reason': 'User and/or item is unkown.'}),\n",
       " Prediction(uid='A38X3FR7G0B6EN', iid='B002W3IXZW', r_ui=5.0, est=4.840676190047481, details={'actual_k': 4, 'was_impossible': False}),\n",
       " Prediction(uid='A2TS533S4QIR14', iid='B004M8SSZK', r_ui=2.0, est=4.062666084355236, details={'was_impossible': True, 'reason': 'User and/or item is unkown.'}),\n",
       " Prediction(uid='A3778KQLSU9F02', iid='B008IV9RR0', r_ui=5.0, est=4.170731707317073, details={'actual_k': 0, 'was_impossible': False}),\n",
       " Prediction(uid='A22TQ4H0HJKERD', iid='B001DVZXC0', r_ui=2.0, est=4.062666084355236, details={'was_impossible': True, 'reason': 'User and/or item is unkown.'}),\n",
       " Prediction(uid='A1UKO4JYN1LEHO', iid='B000T8CWFE', r_ui=3.0, est=3.9873417721518987, details={'actual_k': 0, 'was_impossible': False}),\n",
       " Prediction(uid='A2R4ODDOYWMA7Z', iid='B004WYA852', r_ui=5.0, est=4.062666084355236, details={'was_impossible': True, 'reason': 'User and/or item is unkown.'}),\n",
       " Prediction(uid='A31U3TC699Z8PD', iid='B000IJ9O8W', r_ui=3.0, est=3.76, details={'actual_k': 0, 'was_impossible': False}),\n",
       " Prediction(uid='A38FZ8TRZC61VZ', iid='B0099Z70ZK', r_ui=5.0, est=4.062666084355236, details={'was_impossible': True, 'reason': 'User and/or item is unkown.'}),\n",
       " Prediction(uid='A2DX3SN2T1H91I', iid='B004MXKSAS', r_ui=5.0, est=4.423076923076923, details={'actual_k': 0, 'was_impossible': False}),\n",
       " Prediction(uid='A1DP2E287KDC9L', iid='B00D429Y12', r_ui=4.0, est=1.774873949579832, details={'actual_k': 1, 'was_impossible': False}),\n",
       " Prediction(uid='AYD6CO2N07S1Q', iid='B00CZIQXBA', r_ui=5.0, est=4.818897637795276, details={'actual_k': 0, 'was_impossible': False}),\n",
       " Prediction(uid='A3GOV0OF2K4PQT', iid='B007LGD6HA', r_ui=3.0, est=4.423076923076923, details={'actual_k': 0, 'was_impossible': False}),\n",
       " Prediction(uid='AEDX9CHJLDT73', iid='B00C2P61FO', r_ui=2.0, est=4.062666084355236, details={'was_impossible': True, 'reason': 'User and/or item is unkown.'}),\n",
       " Prediction(uid='A2IQ5LPUCE3AP2', iid='B004LNXO28', r_ui=5.0, est=4.062666084355236, details={'was_impossible': True, 'reason': 'User and/or item is unkown.'}),\n",
       " Prediction(uid='A1S8MTWLGYQY8R', iid='B0031R7Y2G', r_ui=4.0, est=4.062666084355236, details={'was_impossible': True, 'reason': 'User and/or item is unkown.'}),\n",
       " Prediction(uid='A13LGJZ6A39BP1', iid='B0000C0XS0', r_ui=1.0, est=2.8932038834951457, details={'actual_k': 0, 'was_impossible': False}),\n",
       " Prediction(uid='A9TPYQ5N7MXDD', iid='B001GN3SGS', r_ui=2.0, est=4.062666084355236, details={'was_impossible': True, 'reason': 'User and/or item is unkown.'}),\n",
       " Prediction(uid='A3FM8FC0ISDQK9', iid='B00008KWWF', r_ui=5.0, est=4.052434456928839, details={'actual_k': 0, 'was_impossible': False}),\n",
       " Prediction(uid='AI0LOSD1QCB6V', iid='B005HSG3TC', r_ui=5.0, est=4.190149625935162, details={'actual_k': 0, 'was_impossible': False}),\n",
       " Prediction(uid='A1OZYQ4V83X8K4', iid='B00B728M5K', r_ui=5.0, est=4.367277536368789, details={'actual_k': 1, 'was_impossible': False}),\n",
       " Prediction(uid='ARJTCVHAEA6X6', iid='B008GGH4FY', r_ui=5.0, est=4.214264341312298, details={'actual_k': 3, 'was_impossible': False}),\n",
       " Prediction(uid='A27R0D9XZGAXQH', iid='B001UGMTKC', r_ui=5.0, est=3.964169381107492, details={'actual_k': 0, 'was_impossible': False}),\n",
       " Prediction(uid='AWQQ441RDJ6FS', iid='B0063PR0OK', r_ui=1.0, est=4.062666084355236, details={'was_impossible': True, 'reason': 'User and/or item is unkown.'}),\n",
       " Prediction(uid='A1JNDXTL02R9WG', iid='B00840353W', r_ui=4.0, est=4.398713826366559, details={'actual_k': 0, 'was_impossible': False}),\n",
       " Prediction(uid='A1LKNWFZL2UYWY', iid='B00413PHDM', r_ui=5.0, est=4.062666084355236, details={'was_impossible': True, 'reason': 'User and/or item is unkown.'}),\n",
       " Prediction(uid='A4YS1QTSTMP2S', iid='B00A3LQTDS', r_ui=1.0, est=3.3024055944055943, details={'actual_k': 1, 'was_impossible': False}),\n",
       " Prediction(uid='AZ10V2E7I8DI9', iid='B000OGX5AM', r_ui=5.0, est=4.062666084355236, details={'was_impossible': True, 'reason': 'User and/or item is unkown.'}),\n",
       " Prediction(uid='A1INBGBG8FTOGZ', iid='B00728ZC1K', r_ui=5.0, est=4.062666084355236, details={'was_impossible': True, 'reason': 'User and/or item is unkown.'}),\n",
       " Prediction(uid='A2XWVA64CLBE8C', iid='B000BEQLFS', r_ui=5.0, est=4.62962962962963, details={'actual_k': 0, 'was_impossible': False}),\n",
       " Prediction(uid='A2H9XXH97ZQRUA', iid='B0002XN3VS', r_ui=5.0, est=4.062666084355236, details={'was_impossible': True, 'reason': 'User and/or item is unkown.'}),\n",
       " Prediction(uid='AJP201OU6UT7Q', iid='B00426C57O', r_ui=5.0, est=4.017714791851196, details={'actual_k': 0, 'was_impossible': False}),\n",
       " Prediction(uid='A28PTF4QRC99II', iid='B00425S1H8', r_ui=5.0, est=4.599369085173501, details={'actual_k': 0, 'was_impossible': False}),\n",
       " Prediction(uid='A2NO1TXXS9T0EE', iid='B00A3YN0Z0', r_ui=1.0, est=4.062666084355236, details={'was_impossible': True, 'reason': 'User and/or item is unkown.'}),\n",
       " Prediction(uid='ARFF2OM228ZF', iid='B00BIFNTMC', r_ui=4.0, est=4.062666084355236, details={'was_impossible': True, 'reason': 'User and/or item is unkown.'}),\n",
       " Prediction(uid='A3PBHEUNU8QYGX', iid='B000EIOQBM', r_ui=5.0, est=4.125, details={'actual_k': 0, 'was_impossible': False}),\n",
       " Prediction(uid='A2LAFV10NKDZFG', iid='B007I5JT4S', r_ui=5.0, est=4.909020761711265, details={'actual_k': 1, 'was_impossible': False}),\n",
       " Prediction(uid='A1RTMOCF09RBLG', iid='B000UEH5HC', r_ui=5.0, est=4.062666084355236, details={'was_impossible': True, 'reason': 'User and/or item is unkown.'}),\n",
       " Prediction(uid='A3B41IDOL1PTW5', iid='B005LJQMCK', r_ui=5.0, est=4.693939393939394, details={'actual_k': 0, 'was_impossible': False}),\n",
       " Prediction(uid='A1O819ST58ZTMZ', iid='B0000658CH', r_ui=2.0, est=4.062666084355236, details={'was_impossible': True, 'reason': 'User and/or item is unkown.'}),\n",
       " Prediction(uid='A20OJVPNZ68NFV', iid='B008HODL7K', r_ui=5.0, est=4.231481481481482, details={'actual_k': 0, 'was_impossible': False}),\n",
       " Prediction(uid='A1RFWB48ILQLEW', iid='B001QK9I0Q', r_ui=3.0, est=4.062666084355236, details={'was_impossible': True, 'reason': 'User and/or item is unkown.'}),\n",
       " Prediction(uid='A2W6U4T24X1P5N', iid='B008CQVWN8', r_ui=1.0, est=4.062666084355236, details={'was_impossible': True, 'reason': 'User and/or item is unkown.'}),\n",
       " Prediction(uid='AX8Z8BA5SQFBG', iid='B00BGGDVOO', r_ui=5.0, est=4.370807453416149, details={'actual_k': 0, 'was_impossible': False}),\n",
       " Prediction(uid='A3BKJ7ORUXADEP', iid='B0032JRRXY', r_ui=1.0, est=3.730769230769231, details={'actual_k': 0, 'was_impossible': False}),\n",
       " Prediction(uid='A2QAEVE0XTQJ94', iid='B008194UIU', r_ui=4.0, est=4.541935483870968, details={'actual_k': 0, 'was_impossible': False}),\n",
       " Prediction(uid='A3D8SRELFS17UN', iid='B003EO1H7E', r_ui=5.0, est=4.062666084355236, details={'was_impossible': True, 'reason': 'User and/or item is unkown.'}),\n",
       " Prediction(uid='A1F3YAH4408DDH', iid='B0016P392O', r_ui=1.0, est=4.062666084355236, details={'was_impossible': True, 'reason': 'User and/or item is unkown.'}),\n",
       " Prediction(uid='A35F0UP0EPCAD3', iid='B0093HMKVI', r_ui=5.0, est=5, details={'actual_k': 1, 'was_impossible': False}),\n",
       " Prediction(uid='A1OKSOH01PS7DS', iid='B002RCLYXG', r_ui=5.0, est=4.062666084355236, details={'was_impossible': True, 'reason': 'User and/or item is unkown.'}),\n",
       " Prediction(uid='A30XPQ0KVT01YD', iid='B000OG4E2U', r_ui=4.0, est=4.062666084355236, details={'was_impossible': True, 'reason': 'User and/or item is unkown.'}),\n",
       " Prediction(uid='A1OUFJSSHNHXKX', iid='B00006I5WJ', r_ui=4.0, est=4.062666084355236, details={'was_impossible': True, 'reason': 'User and/or item is unkown.'}),\n",
       " Prediction(uid='A2WXD21C1N7QOX', iid='B005TI1ILS', r_ui=3.0, est=4.062666084355236, details={'was_impossible': True, 'reason': 'User and/or item is unkown.'}),\n",
       " Prediction(uid='A161JFE7EO7E0R', iid='B0078XHOWO', r_ui=4.0, est=3.663793103448276, details={'actual_k': 0, 'was_impossible': False}),\n",
       " Prediction(uid='A1HPRJ2S7MFE8O', iid='B00140DBRY', r_ui=5.0, est=4.062666084355236, details={'was_impossible': True, 'reason': 'User and/or item is unkown.'}),\n",
       " Prediction(uid='A1BQCH121X7BOJ', iid='B008THTWIW', r_ui=5.0, est=4.062666084355236, details={'was_impossible': True, 'reason': 'User and/or item is unkown.'}),\n",
       " Prediction(uid='A1ME5KAVIQ0UGC', iid='B000RPVGJ2', r_ui=5.0, est=4.062666084355236, details={'was_impossible': True, 'reason': 'User and/or item is unkown.'}),\n",
       " Prediction(uid='A2OHL1AUOHD8NP', iid='B00GZNCP3G', r_ui=3.0, est=4.457142857142857, details={'actual_k': 0, 'was_impossible': False}),\n",
       " Prediction(uid='A27O91OYI9ZZLS', iid='B00946XHI8', r_ui=4.0, est=4.062666084355236, details={'was_impossible': True, 'reason': 'User and/or item is unkown.'}),\n",
       " Prediction(uid='A2WR8F34A8TBO3', iid='B00HWMPSF6', r_ui=5.0, est=4.062666084355236, details={'was_impossible': True, 'reason': 'User and/or item is unkown.'}),\n",
       " Prediction(uid='A2AHVKLKLLA8', iid='B0015EWMX8', r_ui=5.0, est=4.062666084355236, details={'was_impossible': True, 'reason': 'User and/or item is unkown.'}),\n",
       " Prediction(uid='A3DV51V66WXY7H', iid='B000RZDBM2', r_ui=4.0, est=4.221782178217822, details={'actual_k': 0, 'was_impossible': False}),\n",
       " Prediction(uid='ADPWKMXGSXTM1', iid='B001BRPLZU', r_ui=1.0, est=4.062666084355236, details={'was_impossible': True, 'reason': 'User and/or item is unkown.'}),\n",
       " Prediction(uid='A340ECSASO3LQV', iid='B002M3SO0G', r_ui=1.0, est=3.6025641025641026, details={'actual_k': 0, 'was_impossible': False}),\n",
       " Prediction(uid='A3JPDP4JRCART7', iid='B00000J1SC', r_ui=5.0, est=4.062666084355236, details={'was_impossible': True, 'reason': 'User and/or item is unkown.'}),\n",
       " Prediction(uid='A390X8RO7SLS7V', iid='B009LL9VDG', r_ui=3.0, est=4.062666084355236, details={'was_impossible': True, 'reason': 'User and/or item is unkown.'}),\n",
       " Prediction(uid='A1KTF8MYBGA007', iid='B004I43F9C', r_ui=5.0, est=4.062666084355236, details={'was_impossible': True, 'reason': 'User and/or item is unkown.'}),\n",
       " Prediction(uid='A2V7EO331SFUF6', iid='B000S5Q9CA', r_ui=5.0, est=3.732403780256833, details={'actual_k': 4, 'was_impossible': False}),\n",
       " Prediction(uid='A2FU1FSJ3KJKLY', iid='B007LOLVLU', r_ui=1.0, est=3.683257918552036, details={'actual_k': 0, 'was_impossible': False}),\n",
       " Prediction(uid='A3DGEGMISMC54T', iid='B0030MITDK', r_ui=5.0, est=4.062666084355236, details={'was_impossible': True, 'reason': 'User and/or item is unkown.'}),\n",
       " Prediction(uid='A14S8CDRXCS8RP', iid='B00CH643A8', r_ui=5.0, est=4.062666084355236, details={'was_impossible': True, 'reason': 'User and/or item is unkown.'}),\n",
       " Prediction(uid='A3F43PAJZLOE3I', iid='B004CLYEH8', r_ui=5.0, est=5, details={'actual_k': 5, 'was_impossible': False}),\n",
       " Prediction(uid='A368F09W3F90NO', iid='B007L8ZAWC', r_ui=1.0, est=4.062666084355236, details={'was_impossible': True, 'reason': 'User and/or item is unkown.'}),\n",
       " Prediction(uid='A110DWFMAIBNUR', iid='B008RDI0TU', r_ui=5.0, est=5, details={'actual_k': 1, 'was_impossible': False}),\n",
       " Prediction(uid='A28EZO29FPXU1G', iid='B008LSUY7W', r_ui=5.0, est=4.062666084355236, details={'was_impossible': True, 'reason': 'User and/or item is unkown.'}),\n",
       " Prediction(uid='A1JG2IWM8I20Q0', iid='B009OX22B4', r_ui=5.0, est=4.062666084355236, details={'was_impossible': True, 'reason': 'User and/or item is unkown.'}),\n",
       " Prediction(uid='A1RQYQO7CLYV54', iid='B00069ECVI', r_ui=5.0, est=4.238095238095238, details={'actual_k': 0, 'was_impossible': False}),\n",
       " Prediction(uid='A2N0NF2MCITDZ9', iid='B0001YGIB0', r_ui=5.0, est=4.062666084355236, details={'was_impossible': True, 'reason': 'User and/or item is unkown.'}),\n",
       " Prediction(uid='A2HS0HUHVLT9NG', iid='B000YMJ6ZE', r_ui=4.0, est=3.7254901960784315, details={'actual_k': 0, 'was_impossible': False}),\n",
       " Prediction(uid='AR0F3U1SDGPG1', iid='B009RZRIQS', r_ui=5.0, est=3.6222222222222222, details={'actual_k': 0, 'was_impossible': False}),\n",
       " Prediction(uid='A1VZIAUB34LB1J', iid='B007SHJIP6', r_ui=5.0, est=4.319306930693069, details={'actual_k': 0, 'was_impossible': False}),\n",
       " Prediction(uid='A1JMD10TTUPVB4', iid='B001BLV78Q', r_ui=5.0, est=4.897024256064015, details={'actual_k': 1, 'was_impossible': False}),\n",
       " Prediction(uid='A12BDCNJBRAIP1', iid='B00332Z3G8', r_ui=5.0, est=3.7111111111111112, details={'actual_k': 0, 'was_impossible': False}),\n",
       " Prediction(uid='A1OI92E32SOMBJ', iid='B0036RA4M8', r_ui=4.0, est=3.2400932400932403, details={'actual_k': 0, 'was_impossible': False}),\n",
       " Prediction(uid='ATOKCPIXYCTUV', iid='B0011FQUQG', r_ui=3.0, est=3.956043956043956, details={'actual_k': 0, 'was_impossible': False}),\n",
       " Prediction(uid='A124NHAKY7ZRFV', iid='B00426C57O', r_ui=5.0, est=4.017714791851196, details={'actual_k': 0, 'was_impossible': False}),\n",
       " Prediction(uid='A2W22DUZFKQCM8', iid='B002SZEOLG', r_ui=1.0, est=4.64624592967414, details={'actual_k': 1, 'was_impossible': False}),\n",
       " Prediction(uid='A2FU3HUKK4PFM8', iid='B0000E1VRT', r_ui=5.0, est=4.520408163265306, details={'actual_k': 0, 'was_impossible': False}),\n",
       " Prediction(uid='A3B0D8UCDGLCN', iid='B0053OLY9O', r_ui=2.0, est=4.062666084355236, details={'was_impossible': True, 'reason': 'User and/or item is unkown.'}),\n",
       " Prediction(uid='A80GHMOBTTQN9', iid='B00429N18S', r_ui=5.0, est=4.443719412724307, details={'actual_k': 0, 'was_impossible': False}),\n",
       " Prediction(uid='A3HBN4RATCFMNC', iid='B0049SCB2Y', r_ui=5.0, est=4.43404255319149, details={'actual_k': 0, 'was_impossible': False}),\n",
       " Prediction(uid='A1CMWZY9VAG3J7', iid='B007FEAES2', r_ui=4.0, est=3.2241379310344827, details={'actual_k': 0, 'was_impossible': False}),\n",
       " Prediction(uid='A3LRM2UBQHW1K5', iid='B0096T97OG', r_ui=5.0, est=4.367064739157763, details={'actual_k': 0, 'was_impossible': False}),\n",
       " Prediction(uid='A148KVLJ59OIFU', iid='B00FWQ7M2G', r_ui=4.0, est=4.062666084355236, details={'was_impossible': True, 'reason': 'User and/or item is unkown.'}),\n",
       " Prediction(uid='ACH9ZCTDU7JZ3', iid='B00BP5MB56', r_ui=5.0, est=4.062666084355236, details={'was_impossible': True, 'reason': 'User and/or item is unkown.'}),\n",
       " Prediction(uid='AC0A19ADRDAL8', iid='B009DCNP9O', r_ui=5.0, est=4.062666084355236, details={'was_impossible': True, 'reason': 'User and/or item is unkown.'}),\n",
       " Prediction(uid='AO126ANZHBCX0', iid='B0000645C9', r_ui=5.0, est=4.062666084355236, details={'was_impossible': True, 'reason': 'User and/or item is unkown.'}),\n",
       " Prediction(uid='AHX89Y4XKQBGD', iid='B0032FOK56', r_ui=5.0, est=4.062666084355236, details={'was_impossible': True, 'reason': 'User and/or item is unkown.'}),\n",
       " Prediction(uid='A1ZY7LMYVND1LW', iid='B005Y5891S', r_ui=2.0, est=4.426791277258567, details={'actual_k': 0, 'was_impossible': False}),\n",
       " Prediction(uid='A2EW53UQDV48I1', iid='B005KP070I', r_ui=5.0, est=4.062666084355236, details={'was_impossible': True, 'reason': 'User and/or item is unkown.'}),\n",
       " Prediction(uid='A3W56Y7A3FPZ4D', iid='B005DKZTMG', r_ui=5.0, est=4.062666084355236, details={'was_impossible': True, 'reason': 'User and/or item is unkown.'}),\n",
       " Prediction(uid='A2HFSEDSQZB7N5', iid='B000V0GXR8', r_ui=5.0, est=4.062666084355236, details={'was_impossible': True, 'reason': 'User and/or item is unkown.'}),\n",
       " Prediction(uid='A2EJN3GWM6IY3C', iid='B004J1CZ1I', r_ui=2.0, est=4.062666084355236, details={'was_impossible': True, 'reason': 'User and/or item is unkown.'}),\n",
       " Prediction(uid='AW350QAA8OEVP', iid='B000V4S8A4', r_ui=1.0, est=4.062666084355236, details={'was_impossible': True, 'reason': 'User and/or item is unkown.'}),\n",
       " Prediction(uid='AHR56KVTSRSKJ', iid='B003ZSHNGS', r_ui=1.0, est=4.062666084355236, details={'was_impossible': True, 'reason': 'User and/or item is unkown.'}),\n",
       " Prediction(uid='A3LJQ4M60SVDRX', iid='B005CTXWMM', r_ui=5.0, est=4.062666084355236, details={'was_impossible': True, 'reason': 'User and/or item is unkown.'}),\n",
       " Prediction(uid='A1Y4X1NBRRO2JQ', iid='B008KCSPRK', r_ui=1.0, est=3.690058479532164, details={'actual_k': 0, 'was_impossible': False}),\n",
       " Prediction(uid='A3NU36Z9QL85OP', iid='B003LR7ME6', r_ui=5.0, est=4.502271252433485, details={'actual_k': 0, 'was_impossible': False}),\n",
       " Prediction(uid='AIDJMKMOX3MDF', iid='B00622AG6S', r_ui=5.0, est=4.062666084355236, details={'was_impossible': True, 'reason': 'User and/or item is unkown.'}),\n",
       " Prediction(uid='A1TDDQP8TD4LVS', iid='B00CBQEYJ4', r_ui=5.0, est=4.062666084355236, details={'was_impossible': True, 'reason': 'User and/or item is unkown.'}),\n",
       " Prediction(uid='AVPT4Q2E2PK9O', iid='B000093IRC', r_ui=5.0, est=3.4285714285714284, details={'actual_k': 0, 'was_impossible': False}),\n",
       " Prediction(uid='A32IA2TRAX0RUX', iid='B005CT56F8', r_ui=5.0, est=4.062666084355236, details={'was_impossible': True, 'reason': 'User and/or item is unkown.'}),\n",
       " Prediction(uid='AU9151IZYGEE1', iid='B00794RDVY', r_ui=3.0, est=3.493478260869565, details={'actual_k': 0, 'was_impossible': False}),\n",
       " Prediction(uid='A2DVI400P1I3UT', iid='B0097DAT20', r_ui=5.0, est=4.062666084355236, details={'was_impossible': True, 'reason': 'User and/or item is unkown.'}),\n",
       " Prediction(uid='A34C0R89D5AZM3', iid='B004FVDUAW', r_ui=1.0, est=4.062666084355236, details={'was_impossible': True, 'reason': 'User and/or item is unkown.'}),\n",
       " Prediction(uid='A1RHC5NW09Z1EV', iid='B004I5BUSO', r_ui=5.0, est=4.405254777070064, details={'actual_k': 0, 'was_impossible': False}),\n",
       " Prediction(uid='A10HB4JJVMUBYB', iid='B00AV3ZUQA', r_ui=5.0, est=3.488372093023256, details={'actual_k': 0, 'was_impossible': False}),\n",
       " Prediction(uid='A2VH0JYH3O5C98', iid='B002VPE1QG', r_ui=5.0, est=4.481335952848723, details={'actual_k': 0, 'was_impossible': False}),\n",
       " Prediction(uid='AGH84C89KV6VS', iid='B0052WEV6A', r_ui=3.0, est=4.062666084355236, details={'was_impossible': True, 'reason': 'User and/or item is unkown.'}),\n",
       " Prediction(uid='A710JXYWWOO9D', iid='B0000UMLYI', r_ui=4.0, est=4.062666084355236, details={'was_impossible': True, 'reason': 'User and/or item is unkown.'}),\n",
       " Prediction(uid='APFCXOFX0KUPN', iid='B0075814YQ', r_ui=1.0, est=4.333333333333333, details={'actual_k': 0, 'was_impossible': False}),\n",
       " Prediction(uid='AUKA7TOTBOBPI', iid='B001ELJ9Q0', r_ui=3.0, est=3.964788732394366, details={'actual_k': 0, 'was_impossible': False}),\n",
       " Prediction(uid='A1CIX2WDCG2NAQ', iid='B0031GGQC6', r_ui=5.0, est=4.062666084355236, details={'was_impossible': True, 'reason': 'User and/or item is unkown.'}),\n",
       " Prediction(uid='A2XYZQM67U9VAS', iid='B0014HODWE', r_ui=1.0, est=4.062666084355236, details={'was_impossible': True, 'reason': 'User and/or item is unkown.'}),\n",
       " Prediction(uid='A1SCRUWWKGQNO2', iid='B004BUABIG', r_ui=1.0, est=4.062666084355236, details={'was_impossible': True, 'reason': 'User and/or item is unkown.'}),\n",
       " Prediction(uid='AYHN7ZQXLTJYS', iid='B003SQEAY0', r_ui=3.0, est=4.347715736040609, details={'actual_k': 0, 'was_impossible': False}),\n",
       " Prediction(uid='A2U4XZUJKC4UY6', iid='B0056VP0KS', r_ui=5.0, est=4.062666084355236, details={'was_impossible': True, 'reason': 'User and/or item is unkown.'}),\n",
       " Prediction(uid='A36E1MF6W0QHBR', iid='B005HSG3VK', r_ui=5.0, est=4.062666084355236, details={'was_impossible': True, 'reason': 'User and/or item is unkown.'}),\n",
       " Prediction(uid='A1104JFOE9233P', iid='B003ELYQGG', r_ui=4.0, est=4.062666084355236, details={'was_impossible': True, 'reason': 'User and/or item is unkown.'}),\n",
       " Prediction(uid='A3QZJ3SMILUE3M', iid='B001UQ6FT8', r_ui=5.0, est=4.062666084355236, details={'was_impossible': True, 'reason': 'User and/or item is unkown.'}),\n",
       " Prediction(uid='A1WIUGQHD8XYJN', iid='B00004Z7G9', r_ui=5.0, est=4.062666084355236, details={'was_impossible': True, 'reason': 'User and/or item is unkown.'}),\n",
       " Prediction(uid='A3HLN4KAC12Q4T', iid='B00005T3RC', r_ui=5.0, est=4.062666084355236, details={'was_impossible': True, 'reason': 'User and/or item is unkown.'}),\n",
       " Prediction(uid='A2F4IRK7BLZKPR', iid='B007PFMCCW', r_ui=5.0, est=4.062666084355236, details={'was_impossible': True, 'reason': 'User and/or item is unkown.'}),\n",
       " Prediction(uid='A22TEVTE5B26BH', iid='B006CZ0C3W', r_ui=1.0, est=2.4863013698630136, details={'actual_k': 0, 'was_impossible': False}),\n",
       " Prediction(uid='A2HOI48JK8838M', iid='B0058WT2XG', r_ui=4.0, est=4.017699115044247, details={'actual_k': 0, 'was_impossible': False}),\n",
       " Prediction(uid='A7QA1IGE46D1K', iid='B001MQ4JUS', r_ui=1.0, est=4.062666084355236, details={'was_impossible': True, 'reason': 'User and/or item is unkown.'}),\n",
       " Prediction(uid='A3SA1WFODW1M8S', iid='B0098PRKA6', r_ui=5.0, est=4.233576642335766, details={'actual_k': 0, 'was_impossible': False}),\n",
       " Prediction(uid='AFJ0M49B698GA', iid='B0001FTVEK', r_ui=2.0, est=4.062666084355236, details={'was_impossible': True, 'reason': 'User and/or item is unkown.'}),\n",
       " Prediction(uid='A2K85FEBA23D3X', iid='B005J7YA4G', r_ui=2.0, est=4.062666084355236, details={'was_impossible': True, 'reason': 'User and/or item is unkown.'}),\n",
       " Prediction(uid='A1IGTIZ8JBB5AC', iid='B004PNZFZ8', r_ui=5.0, est=4.0128, details={'actual_k': 0, 'was_impossible': False}),\n",
       " Prediction(uid='A31XID20JBFTMZ', iid='B000RHZJN4', r_ui=5.0, est=4.286585365853658, details={'actual_k': 0, 'was_impossible': False}),\n",
       " Prediction(uid='A3MHDHS4CV23KY', iid='B004NBL9WK', r_ui=5.0, est=4.062666084355236, details={'was_impossible': True, 'reason': 'User and/or item is unkown.'}),\n",
       " Prediction(uid='A9D298S52KCPV', iid='B00006I53S', r_ui=5.0, est=4.318996415770609, details={'actual_k': 0, 'was_impossible': False}),\n",
       " Prediction(uid='A1NNN79ZCR1NNY', iid='B0002QYSA0', r_ui=5.0, est=4.062666084355236, details={'was_impossible': True, 'reason': 'User and/or item is unkown.'}),\n",
       " Prediction(uid='A2AI06ZLXAKLY4', iid='B008YRG5JQ', r_ui=3.0, est=4.439862542955327, details={'actual_k': 0, 'was_impossible': False}),\n",
       " Prediction(uid='A23903VT4OBLMT', iid='B002TLTGGM', r_ui=1.0, est=4.062666084355236, details={'was_impossible': True, 'reason': 'User and/or item is unkown.'}),\n",
       " Prediction(uid='A1TSIYBGOTAP63', iid='B0016ARZ9C', r_ui=4.0, est=3.0681818181818183, details={'actual_k': 0, 'was_impossible': False}),\n",
       " Prediction(uid='A1ZAXNIYCEPO79', iid='B001TVAU0E', r_ui=1.0, est=3.466321243523316, details={'actual_k': 0, 'was_impossible': False}),\n",
       " Prediction(uid='A1HT6SEE4KT92A', iid='B000BONJXU', r_ui=5.0, est=4.187363834422658, details={'actual_k': 0, 'was_impossible': False}),\n",
       " Prediction(uid='A3QAVMGKJNRR8M', iid='B009USAJCC', r_ui=5.0, est=4.062666084355236, details={'was_impossible': True, 'reason': 'User and/or item is unkown.'}),\n",
       " Prediction(uid='AXSWENDBSMKIL', iid='B00656U0NK', r_ui=5.0, est=4.062666084355236, details={'was_impossible': True, 'reason': 'User and/or item is unkown.'}),\n",
       " Prediction(uid='A8KGVUNANAUUW', iid='B0007GGZ06', r_ui=5.0, est=3.418918918918919, details={'actual_k': 0, 'was_impossible': False}),\n",
       " Prediction(uid='A3GKS7GIJQX5E3', iid='B000WEFIE2', r_ui=5.0, est=4.52112676056338, details={'actual_k': 0, 'was_impossible': False}),\n",
       " Prediction(uid='A3CLGFONIK1XAV', iid='B003H05MGC', r_ui=5.0, est=4.062666084355236, details={'was_impossible': True, 'reason': 'User and/or item is unkown.'}),\n",
       " Prediction(uid='A2XXZZ3JJ0YP4B', iid='B001FA0AMW', r_ui=3.0, est=4.062666084355236, details={'was_impossible': True, 'reason': 'User and/or item is unkown.'}),\n",
       " Prediction(uid='A3NPZ246PJ158', iid='B005FJ7OF0', r_ui=5.0, est=4.125201938610663, details={'actual_k': 0, 'was_impossible': False}),\n",
       " Prediction(uid='A36QAFMRMFPJQV', iid='B003G4T4P4', r_ui=4.0, est=4.062666084355236, details={'was_impossible': True, 'reason': 'User and/or item is unkown.'}),\n",
       " Prediction(uid='A1KTR6TLKRT7ZP', iid='B005CLPP8E', r_ui=4.0, est=4.062666084355236, details={'was_impossible': True, 'reason': 'User and/or item is unkown.'}),\n",
       " Prediction(uid='A32H3DH2RMD4ZV', iid='B003KPBRRW', r_ui=5.0, est=4.886504520017219, details={'actual_k': 1, 'was_impossible': False}),\n",
       " Prediction(uid='A1RCEY614JZBLY', iid='B003D8GAA0', r_ui=1.0, est=4.062666084355236, details={'was_impossible': True, 'reason': 'User and/or item is unkown.'}),\n",
       " Prediction(uid='A16ER895AZ9KHQ', iid='B00005T3W5', r_ui=4.0, est=4.062666084355236, details={'was_impossible': True, 'reason': 'User and/or item is unkown.'}),\n",
       " Prediction(uid='A3A3OW04Q8HDDO', iid='B0064L8Q1E', r_ui=5.0, est=4.96593660644608, details={'actual_k': 1, 'was_impossible': False}),\n",
       " Prediction(uid='A20JKITXD1PQJJ', iid='B0000E6I1N', r_ui=2.0, est=4.062666084355236, details={'was_impossible': True, 'reason': 'User and/or item is unkown.'}),\n",
       " Prediction(uid='A14UPBKXYXTPBY', iid='B004KA8Y4U', r_ui=5.0, est=4.923015386584552, details={'actual_k': 1, 'was_impossible': False}),\n",
       " Prediction(uid='A23DI6H4JDDQC6', iid='B005OEIY8W', r_ui=1.0, est=4.062666084355236, details={'was_impossible': True, 'reason': 'User and/or item is unkown.'}),\n",
       " Prediction(uid='A8YE80SEFP0XA', iid='B003YKG9D0', r_ui=5.0, est=4.627906976744186, details={'actual_k': 0, 'was_impossible': False}),\n",
       " Prediction(uid='ACTB07WQ7KS54', iid='B0097BEECI', r_ui=5.0, est=4.062666084355236, details={'was_impossible': True, 'reason': 'User and/or item is unkown.'}),\n",
       " Prediction(uid='A1TSDXDM0R03Z0', iid='B002SZEOLG', r_ui=5.0, est=5, details={'actual_k': 1, 'was_impossible': False}),\n",
       " Prediction(uid='A1ZBI73CYQQ2WS', iid='B0073HSIY8', r_ui=4.0, est=4.062666084355236, details={'was_impossible': True, 'reason': 'User and/or item is unkown.'}),\n",
       " Prediction(uid='A2MJC2K4LUC42A', iid='B007XOQ3BQ', r_ui=5.0, est=2.918848413643648, details={'actual_k': 1, 'was_impossible': False}),\n",
       " Prediction(uid='A7ZBKQ2K7CGM3', iid='B001RNNX8K', r_ui=4.0, est=4.062666084355236, details={'was_impossible': True, 'reason': 'User and/or item is unkown.'}),\n",
       " Prediction(uid='A2WZMYI2LP4H52', iid='B005Z4539E', r_ui=5.0, est=4.454545454545454, details={'actual_k': 0, 'was_impossible': False}),\n",
       " Prediction(uid='A1USJ2Y6KACG1D', iid='B003ELYQGG', r_ui=4.0, est=5, details={'actual_k': 3, 'was_impossible': False}),\n",
       " Prediction(uid='A20W0KN9H87ADJ', iid='B005S6XUXA', r_ui=5.0, est=4.117647058823529, details={'actual_k': 0, 'was_impossible': False}),\n",
       " Prediction(uid='A196FEC8NU8WF0', iid='B005P5MISM', r_ui=1.0, est=4.062666084355236, details={'was_impossible': True, 'reason': 'User and/or item is unkown.'}),\n",
       " Prediction(uid='A1DYXOQQDWXLO7', iid='B00DQZNPAS', r_ui=4.0, est=3.4916666666666667, details={'actual_k': 0, 'was_impossible': False}),\n",
       " Prediction(uid='AFRD16TB1JF6T', iid='B004H3US80', r_ui=5.0, est=4.062666084355236, details={'was_impossible': True, 'reason': 'User and/or item is unkown.'}),\n",
       " Prediction(uid='A3BHQ61P4CBN4Y', iid='B009A6CZ26', r_ui=3.0, est=4.062666084355236, details={'was_impossible': True, 'reason': 'User and/or item is unkown.'}),\n",
       " Prediction(uid='A10ZSES2S0RQN3', iid='B0088LYCZC', r_ui=4.0, est=3.932825484764543, details={'actual_k': 0, 'was_impossible': False}),\n",
       " Prediction(uid='A1A8WNSJ7OAVNF', iid='B000BY9F4W', r_ui=4.0, est=4.062666084355236, details={'was_impossible': True, 'reason': 'User and/or item is unkown.'}),\n",
       " Prediction(uid='A1ZVGHLJRTZRMX', iid='B00AQ9RIAA', r_ui=5.0, est=4.062666084355236, details={'was_impossible': True, 'reason': 'User and/or item is unkown.'}),\n",
       " Prediction(uid='A12ASMYCAJ6D4Z', iid='B009D9KOQY', r_ui=4.0, est=4.0896739130434785, details={'actual_k': 0, 'was_impossible': False}),\n",
       " Prediction(uid='A2WA9FNQL2MVGJ', iid='B00800VI0S', r_ui=3.0, est=3.84390243902439, details={'actual_k': 0, 'was_impossible': False}),\n",
       " Prediction(uid='AHRCPZ6FLEZD5', iid='B003ES5ZUU', r_ui=5.0, est=5, details={'actual_k': 3, 'was_impossible': False}),\n",
       " Prediction(uid='A1XSHM0V9HWIW9', iid='B0074BW614', r_ui=5.0, est=4.062666084355236, details={'was_impossible': True, 'reason': 'User and/or item is unkown.'}),\n",
       " Prediction(uid='A2NZ8FF32XGXZO', iid='B00902SFC4', r_ui=4.0, est=4.062666084355236, details={'was_impossible': True, 'reason': 'User and/or item is unkown.'}),\n",
       " Prediction(uid='AINGNE1J86KTH', iid='B00728ZC1K', r_ui=4.0, est=3.6714285714285713, details={'actual_k': 0, 'was_impossible': False}),\n",
       " Prediction(uid='AE2VLNN8PASUG', iid='B00005T39Y', r_ui=5.0, est=4.062666084355236, details={'was_impossible': True, 'reason': 'User and/or item is unkown.'}),\n",
       " Prediction(uid='AETSQYE3QFLS3', iid='B000IN09C8', r_ui=5.0, est=4.062666084355236, details={'was_impossible': True, 'reason': 'User and/or item is unkown.'}),\n",
       " Prediction(uid='A1AM67TCQK1A2P', iid='B006060NR8', r_ui=5.0, est=3.942857142857143, details={'actual_k': 0, 'was_impossible': False}),\n",
       " Prediction(uid='A29PQUWTFITRXG', iid='B00BU1KG4S', r_ui=5.0, est=4.337209302325581, details={'actual_k': 0, 'was_impossible': False}),\n",
       " Prediction(uid='A2TPSMFUVTUOLO', iid='B001TICH08', r_ui=3.0, est=4.062666084355236, details={'was_impossible': True, 'reason': 'User and/or item is unkown.'}),\n",
       " Prediction(uid='A1RJJUUYUY5G28', iid='B000RHZJN4', r_ui=5.0, est=4.286585365853658, details={'actual_k': 0, 'was_impossible': False}),\n",
       " Prediction(uid='A2V5M5EJPOD2IU', iid='B004NHCGJO', r_ui=5.0, est=4.892370378376644, details={'actual_k': 2, 'was_impossible': False}),\n",
       " Prediction(uid='A9JGGSJ68DUH6', iid='B0048HK4IY', r_ui=5.0, est=4.062666084355236, details={'was_impossible': True, 'reason': 'User and/or item is unkown.'}),\n",
       " Prediction(uid='AJHNAO97133KF', iid='B001F51G16', r_ui=4.0, est=4.062666084355236, details={'was_impossible': True, 'reason': 'User and/or item is unkown.'}),\n",
       " Prediction(uid='A3DJ1HI2HJGR23', iid='B0010YWPZ8', r_ui=5.0, est=3.7982456140350878, details={'actual_k': 0, 'was_impossible': False}),\n",
       " Prediction(uid='A3NZVNZ3TG7FZB', iid='B005KDYA44', r_ui=5.0, est=4.306267806267806, details={'actual_k': 0, 'was_impossible': False}),\n",
       " Prediction(uid='A183QI1K5BPFBG', iid='B007KEZMX4', r_ui=3.0, est=4.289808917197452, details={'actual_k': 0, 'was_impossible': False}),\n",
       " Prediction(uid='A2IP491Q0KVBC5', iid='B005IA843W', r_ui=1.0, est=3.217665615141956, details={'actual_k': 0, 'was_impossible': False}),\n",
       " Prediction(uid='AVIQIR9CJ57PH', iid='B002S6537Y', r_ui=5.0, est=4.062666084355236, details={'was_impossible': True, 'reason': 'User and/or item is unkown.'}),\n",
       " Prediction(uid='A2NFB32QCMTPU0', iid='B001G5Z82I', r_ui=4.0, est=3.6583629893238436, details={'actual_k': 0, 'was_impossible': False}),\n",
       " Prediction(uid='A2GGEVD26CPWHV', iid='B000EGQS5G', r_ui=5.0, est=3.9833795013850417, details={'actual_k': 0, 'was_impossible': False}),\n",
       " Prediction(uid='AOYK14SF6FTCF', iid='B006ZH0KVG', r_ui=5.0, est=5, details={'actual_k': 1, 'was_impossible': False}),\n",
       " Prediction(uid='A3FTLR34HIRH0U', iid='B005N3L71K', r_ui=5.0, est=4.062666084355236, details={'was_impossible': True, 'reason': 'User and/or item is unkown.'}),\n",
       " Prediction(uid='A2GTWPLONA8MEQ', iid='B001879OEC', r_ui=5.0, est=4.062666084355236, details={'was_impossible': True, 'reason': 'User and/or item is unkown.'}),\n",
       " Prediction(uid='A27T3MRJ3JEO70', iid='B000FAPY3S', r_ui=4.0, est=3.515151515151515, details={'actual_k': 0, 'was_impossible': False}),\n",
       " Prediction(uid='A2S4RA17IOAJN9', iid='B009K62HQ0', r_ui=5.0, est=3.3300733496332517, details={'actual_k': 0, 'was_impossible': False}),\n",
       " Prediction(uid='A3VALAYZU8PX2I', iid='B0064SBNQM', r_ui=5.0, est=4.062666084355236, details={'was_impossible': True, 'reason': 'User and/or item is unkown.'}),\n",
       " Prediction(uid='A3S5BEQ60KFUWC', iid='B000E8SY5G', r_ui=5.0, est=4.345794392523365, details={'actual_k': 0, 'was_impossible': False}),\n",
       " Prediction(uid='A1NF2NROSOY4OL', iid='B000S5Q9CA', r_ui=5.0, est=4.062666084355236, details={'was_impossible': True, 'reason': 'User and/or item is unkown.'}),\n",
       " Prediction(uid='A20XFO3AT130Z', iid='B003LR7ME6', r_ui=4.0, est=4.062666084355236, details={'was_impossible': True, 'reason': 'User and/or item is unkown.'}),\n",
       " Prediction(uid='A1KVBM5S5Z0ENH', iid='B00006L4F1', r_ui=5.0, est=5, details={'actual_k': 1, 'was_impossible': False}),\n",
       " Prediction(uid='A9UMN7RZFWKYN', iid='B0058AH2US', r_ui=5.0, est=4.062666084355236, details={'was_impossible': True, 'reason': 'User and/or item is unkown.'}),\n",
       " Prediction(uid='AW0I12TEF88HC', iid='B007YKUWN4', r_ui=5.0, est=4.062666084355236, details={'was_impossible': True, 'reason': 'User and/or item is unkown.'}),\n",
       " Prediction(uid='A18D1DQGEFNS8T', iid='B00AYT8H3Y', r_ui=1.0, est=4.062666084355236, details={'was_impossible': True, 'reason': 'User and/or item is unkown.'}),\n",
       " Prediction(uid='A2WSH90FHQAQSR', iid='B0001EZN52', r_ui=3.0, est=4.062666084355236, details={'was_impossible': True, 'reason': 'User and/or item is unkown.'}),\n",
       " Prediction(uid='A3GTGQHIW4WHHO', iid='B000NREQFK', r_ui=5.0, est=4.062666084355236, details={'was_impossible': True, 'reason': 'User and/or item is unkown.'}),\n",
       " Prediction(uid='ACBJD4RSIEMIS', iid='B002IKLJT6', r_ui=4.0, est=4.062666084355236, details={'was_impossible': True, 'reason': 'User and/or item is unkown.'}),\n",
       " Prediction(uid='A3MY4PM8B00TB1', iid='B00004VX39', r_ui=5.0, est=3.7988286884772946, details={'actual_k': 1, 'was_impossible': False}),\n",
       " Prediction(uid='A233BX8N5692C6', iid='B0074H3IU6', r_ui=5.0, est=4.528735632183908, details={'actual_k': 0, 'was_impossible': False}),\n",
       " Prediction(uid='A38Z9ND9DOTUHG', iid='B003OTXBY6', r_ui=1.0, est=4.062666084355236, details={'was_impossible': True, 'reason': 'User and/or item is unkown.'}),\n",
       " Prediction(uid='A2BXRO5CHXZXV4', iid='B005IA843W', r_ui=4.0, est=3.217665615141956, details={'actual_k': 0, 'was_impossible': False}),\n",
       " Prediction(uid='A3VTY9A5WC0V3F', iid='B009W8YQ6K', r_ui=1.0, est=5, details={'actual_k': 1, 'was_impossible': False}),\n",
       " Prediction(uid='A2IDNSV2LZBOY2', iid='B000NO6WOQ', r_ui=5.0, est=4.688888888888889, details={'actual_k': 0, 'was_impossible': False}),\n",
       " Prediction(uid='ACDD03JVAPKQI', iid='B0024JARH6', r_ui=2.0, est=4.062666084355236, details={'was_impossible': True, 'reason': 'User and/or item is unkown.'}),\n",
       " Prediction(uid='A1PTMF5QEI9JA3', iid='B00006B9CR', r_ui=5.0, est=3.867684478371501, details={'actual_k': 0, 'was_impossible': False}),\n",
       " Prediction(uid='ASWQ1KJQFJYWX', iid='B0036VO4M0', r_ui=5.0, est=4.222222222222222, details={'actual_k': 0, 'was_impossible': False}),\n",
       " Prediction(uid='A3CNTEVSBP7VXI', iid='B000QYWQW0', r_ui=5.0, est=4.243243243243243, details={'actual_k': 0, 'was_impossible': False}),\n",
       " Prediction(uid='A81PBXQCSQCZ4', iid='B00FRBPK5W', r_ui=2.0, est=4.062666084355236, details={'was_impossible': True, 'reason': 'User and/or item is unkown.'}),\n",
       " Prediction(uid='A296R19K5GWGWT', iid='B00B2XPOK0', r_ui=5.0, est=4.062666084355236, details={'was_impossible': True, 'reason': 'User and/or item is unkown.'}),\n",
       " Prediction(uid='A3CZBP5EAY2O6U', iid='B0031NF116', r_ui=5.0, est=4.062666084355236, details={'was_impossible': True, 'reason': 'User and/or item is unkown.'}),\n",
       " Prediction(uid='A4PD7MKZPHEQC', iid='B007PP17OQ', r_ui=4.0, est=4.062666084355236, details={'was_impossible': True, 'reason': 'User and/or item is unkown.'}),\n",
       " Prediction(uid='A39L65CZK9WBGF', iid='B002VFWY9M', r_ui=4.0, est=3.7768595041322315, details={'actual_k': 0, 'was_impossible': False}),\n",
       " Prediction(uid='A31CPNHS0PAQJW', iid='B001T6K7G6', r_ui=1.0, est=4.062666084355236, details={'was_impossible': True, 'reason': 'User and/or item is unkown.'}),\n",
       " Prediction(uid='A1865OTNYU2PT2', iid='B00EFILPHA', r_ui=5.0, est=4.062666084355236, details={'was_impossible': True, 'reason': 'User and/or item is unkown.'}),\n",
       " Prediction(uid='A2N0BCCHL12MVH', iid='B00D18U63O', r_ui=4.0, est=3.305268490374874, details={'actual_k': 1, 'was_impossible': False}),\n",
       " Prediction(uid='A3OZMR17CUUSWJ', iid='B008OHNZI0', r_ui=5.0, est=4.062666084355236, details={'was_impossible': True, 'reason': 'User and/or item is unkown.'}),\n",
       " Prediction(uid='A2I4PALH1FVJ5G', iid='B006DUOMAK', r_ui=5.0, est=4.062666084355236, details={'was_impossible': True, 'reason': 'User and/or item is unkown.'}),\n",
       " Prediction(uid='A33VH5WF61WYEB', iid='B000WL0I1I', r_ui=3.0, est=4.062666084355236, details={'was_impossible': True, 'reason': 'User and/or item is unkown.'}),\n",
       " Prediction(uid='A13K1L0JMHT0SJ', iid='B00D5Q75RC', r_ui=5.0, est=4.062666084355236, details={'was_impossible': True, 'reason': 'User and/or item is unkown.'}),\n",
       " Prediction(uid='A74XTPHJ3NS3X', iid='B005CI7V1Q', r_ui=5.0, est=4.062666084355236, details={'was_impossible': True, 'reason': 'User and/or item is unkown.'}),\n",
       " Prediction(uid='A1XP5DAOKV02IU', iid='B008F537KC', r_ui=3.0, est=4.072164948453608, details={'actual_k': 0, 'was_impossible': False}),\n",
       " Prediction(uid='A1YIEDAS4WO5ML', iid='B0019EHU8G', r_ui=5.0, est=4.7542205146117125, details={'actual_k': 0, 'was_impossible': False}),\n",
       " Prediction(uid='A2LRYPW6IC4VS', iid='B004VM1T5S', r_ui=5.0, est=4.335548172757475, details={'actual_k': 0, 'was_impossible': False}),\n",
       " Prediction(uid='A3FYQ7OBBXZJTM', iid='B0046BTK14', r_ui=5.0, est=4.062666084355236, details={'was_impossible': True, 'reason': 'User and/or item is unkown.'}),\n",
       " Prediction(uid='A362FM0FL7GA71', iid='B004NBN5UY', r_ui=5.0, est=4.062666084355236, details={'was_impossible': True, 'reason': 'User and/or item is unkown.'}),\n",
       " Prediction(uid='A1ZXENVCN8K8VQ', iid='B001ROVLX8', r_ui=1.0, est=4.062666084355236, details={'was_impossible': True, 'reason': 'User and/or item is unkown.'}),\n",
       " Prediction(uid='A1V6YXLMD34ZE4', iid='B003HKRVAW', r_ui=2.0, est=4.062666084355236, details={'was_impossible': True, 'reason': 'User and/or item is unkown.'}),\n",
       " Prediction(uid='A1PVJVSR9W36LR', iid='B004AD2EW0', r_ui=5.0, est=3.6258064516129034, details={'actual_k': 0, 'was_impossible': False}),\n",
       " Prediction(uid='A3K6DEB5CSMBVK', iid='B008ER17UI', r_ui=4.0, est=4.062666084355236, details={'was_impossible': True, 'reason': 'User and/or item is unkown.'}),\n",
       " Prediction(uid='A126TEP3I4F76Q', iid='B0007LCLPE', r_ui=1.0, est=4.062666084355236, details={'was_impossible': True, 'reason': 'User and/or item is unkown.'}),\n",
       " Prediction(uid='AZKYWIDER13TQ', iid='B005X1Y7I2', r_ui=3.0, est=4.062666084355236, details={'was_impossible': True, 'reason': 'User and/or item is unkown.'}),\n",
       " Prediction(uid='A3OUGPRQOHQO63', iid='B001TIG36C', r_ui=5.0, est=1.2888919835252817, details={'actual_k': 1, 'was_impossible': False}),\n",
       " Prediction(uid='A1B9Q1Q3TCY5SB', iid='B00488M4TU', r_ui=5.0, est=4.218855218855219, details={'actual_k': 0, 'was_impossible': False}),\n",
       " Prediction(uid='A1J9UXLG1RYHFE', iid='B0042LQWXW', r_ui=4.0, est=4.062666084355236, details={'was_impossible': True, 'reason': 'User and/or item is unkown.'}),\n",
       " Prediction(uid='A2UE3R9GEB9MOM', iid='B002P39DUS', r_ui=5.0, est=4.062666084355236, details={'was_impossible': True, 'reason': 'User and/or item is unkown.'}),\n",
       " Prediction(uid='AA478JQL0UG57', iid='B002M3SOCE', r_ui=2.0, est=4.297142857142857, details={'actual_k': 0, 'was_impossible': False}),\n",
       " Prediction(uid='A2VUMNSQQEELDA', iid='B0031RGKZI', r_ui=3.0, est=4.062666084355236, details={'was_impossible': True, 'reason': 'User and/or item is unkown.'}),\n",
       " Prediction(uid='A30EWBEZJ72JVT', iid='B004XO8DMG', r_ui=5.0, est=5, details={'actual_k': 1, 'was_impossible': False}),\n",
       " Prediction(uid='AC29MEPOKSRHP', iid='B007R5YDYA', r_ui=5.0, est=4.062666084355236, details={'was_impossible': True, 'reason': 'User and/or item is unkown.'}),\n",
       " Prediction(uid='A35I6A08ALN3AF', iid='B008RDI0TU', r_ui=5.0, est=5, details={'actual_k': 1, 'was_impossible': False}),\n",
       " Prediction(uid='A1EV4BK1ANN35Z', iid='B003QKTMI2', r_ui=5.0, est=3.4096385542168677, details={'actual_k': 0, 'was_impossible': False}),\n",
       " Prediction(uid='A2GYX971VETQBV', iid='B000ENRQ3M', r_ui=3.0, est=3.496947496947497, details={'actual_k': 0, 'was_impossible': False}),\n",
       " Prediction(uid='A26XGVMTZ7LNIO', iid='B0077RH91M', r_ui=3.0, est=4.062666084355236, details={'was_impossible': True, 'reason': 'User and/or item is unkown.'}),\n",
       " Prediction(uid='A1NN3FTLDPCYDN', iid='B00008WM9J', r_ui=3.0, est=2.305084745762712, details={'actual_k': 0, 'was_impossible': False}),\n",
       " Prediction(uid='A1SGIEVMQ8NNR4', iid='B00902SFC4', r_ui=5.0, est=4.298694779116466, details={'actual_k': 0, 'was_impossible': False}),\n",
       " Prediction(uid='A1FSHIFKZBFVV1', iid='B00067PWFU', r_ui=1.0, est=4.062666084355236, details={'was_impossible': True, 'reason': 'User and/or item is unkown.'}),\n",
       " Prediction(uid='A3BWQV6B5XB7XH', iid='B006O70ZR6', r_ui=3.0, est=4.062666084355236, details={'was_impossible': True, 'reason': 'User and/or item is unkown.'}),\n",
       " Prediction(uid='A1J965COV6BQYZ', iid='B000FBYSXE', r_ui=1.0, est=4.062666084355236, details={'was_impossible': True, 'reason': 'User and/or item is unkown.'}),\n",
       " Prediction(uid='A17LELPNE5XIYB', iid='B003SGCO3E', r_ui=5.0, est=4.062666084355236, details={'was_impossible': True, 'reason': 'User and/or item is unkown.'}),\n",
       " Prediction(uid='A2PGRQ3JFDTIJQ', iid='B002ZE4TDI', r_ui=4.0, est=4.062666084355236, details={'was_impossible': True, 'reason': 'User and/or item is unkown.'}),\n",
       " Prediction(uid='AGJDSCWDIP08U', iid='B0001FTVEK', r_ui=5.0, est=4.062666084355236, details={'was_impossible': True, 'reason': 'User and/or item is unkown.'}),\n",
       " Prediction(uid='A25TWPRMVV2Q2U', iid='B0001U5LW6', r_ui=5.0, est=4.062666084355236, details={'was_impossible': True, 'reason': 'User and/or item is unkown.'}),\n",
       " Prediction(uid='A2BAPRIM92M9RR', iid='B004FJJ01W', r_ui=4.0, est=4.062666084355236, details={'was_impossible': True, 'reason': 'User and/or item is unkown.'}),\n",
       " Prediction(uid='A3U4G6UKUHB5TQ', iid='B0033QJLQW', r_ui=5.0, est=4.062666084355236, details={'was_impossible': True, 'reason': 'User and/or item is unkown.'}),\n",
       " Prediction(uid='A1IDFR483R23N', iid='B00001P4ZH', r_ui=4.0, est=4.502054794520548, details={'actual_k': 0, 'was_impossible': False}),\n",
       " Prediction(uid='A3T80IAPG2KC45', iid='B004NY9UV4', r_ui=5.0, est=4.281986954340191, details={'actual_k': 0, 'was_impossible': False}),\n",
       " Prediction(uid='A1CY1EAL7AIYH3', iid='B0098F5W0Q', r_ui=3.0, est=4.062666084355236, details={'was_impossible': True, 'reason': 'User and/or item is unkown.'}),\n",
       " Prediction(uid='A84VH83R5H64P', iid='B000RZQZM0', r_ui=4.0, est=4.516104294478527, details={'actual_k': 0, 'was_impossible': False}),\n",
       " Prediction(uid='A1U1C3WB92TNHB', iid='B0015IV1Q8', r_ui=5.0, est=4.062666084355236, details={'was_impossible': True, 'reason': 'User and/or item is unkown.'}),\n",
       " Prediction(uid='A3TPGXRVN4VG2X', iid='B003VANO7C', r_ui=1.0, est=4.062666084355236, details={'was_impossible': True, 'reason': 'User and/or item is unkown.'}),\n",
       " Prediction(uid='A1B0ZVF0EJY1PF', iid='B00025O7LQ', r_ui=5.0, est=4.062666084355236, details={'was_impossible': True, 'reason': 'User and/or item is unkown.'}),\n",
       " Prediction(uid='A3UM0N9F8VUZUS', iid='B000063UZW', r_ui=5.0, est=4.062666084355236, details={'was_impossible': True, 'reason': 'User and/or item is unkown.'}),\n",
       " Prediction(uid='A7U10JCNF8S4T', iid='B003ES5ZUU', r_ui=5.0, est=4.062666084355236, details={'was_impossible': True, 'reason': 'User and/or item is unkown.'}),\n",
       " Prediction(uid='A3MSVQUJKQEZKS', iid='B005PAINXQ', r_ui=5.0, est=4.296296296296297, details={'actual_k': 0, 'was_impossible': False}),\n",
       " Prediction(uid='ARWERRDB9TE3F', iid='B007PP17OQ', r_ui=5.0, est=4.062666084355236, details={'was_impossible': True, 'reason': 'User and/or item is unkown.'}),\n",
       " Prediction(uid='A2ON7XD12HDAWB', iid='B00BJZ6WCK', r_ui=3.0, est=2.84375, details={'actual_k': 0, 'was_impossible': False}),\n",
       " Prediction(uid='A10GJ912JKFPVX', iid='B000FGCUSE', r_ui=1.0, est=4.062666084355236, details={'was_impossible': True, 'reason': 'User and/or item is unkown.'}),\n",
       " Prediction(uid='A3CWESKZKYCQKC', iid='B007LOWIQW', r_ui=3.0, est=4.062666084355236, details={'was_impossible': True, 'reason': 'User and/or item is unkown.'}),\n",
       " Prediction(uid='A34WD8BEHHUBMP', iid='B008U6PQA0', r_ui=4.0, est=4.062666084355236, details={'was_impossible': True, 'reason': 'User and/or item is unkown.'}),\n",
       " Prediction(uid='A2PLG7RBPI5CW3', iid='B00CHHGWZG', r_ui=5.0, est=4.062666084355236, details={'was_impossible': True, 'reason': 'User and/or item is unkown.'}),\n",
       " Prediction(uid='A35OXBIIVIWVIP', iid='B001P3P3LC', r_ui=2.0, est=3.0930232558139537, details={'actual_k': 0, 'was_impossible': False}),\n",
       " Prediction(uid='A2HJ4NDLJOSQCV', iid='B000I2HAVW', r_ui=5.0, est=4.219512195121951, details={'actual_k': 0, 'was_impossible': False}),\n",
       " Prediction(uid='AHXV7STFFY7F', iid='B008D2POAS', r_ui=5.0, est=2.482234887372581, details={'actual_k': 1, 'was_impossible': False}),\n",
       " Prediction(uid='A1JAIMVO5H21N5', iid='B0013CDZDI', r_ui=4.0, est=4.221374045801527, details={'actual_k': 0, 'was_impossible': False}),\n",
       " Prediction(uid='A18MXP7JH4SIXT', iid='B00DE0EPCM', r_ui=5.0, est=4.355056179775281, details={'actual_k': 0, 'was_impossible': False}),\n",
       " Prediction(uid='AQMZNAL9WXGI8', iid='B000I5K4MQ', r_ui=4.0, est=4.062666084355236, details={'was_impossible': True, 'reason': 'User and/or item is unkown.'}),\n",
       " Prediction(uid='AX10SK07KGITK', iid='B005EV1R8Y', r_ui=5.0, est=4.062666084355236, details={'was_impossible': True, 'reason': 'User and/or item is unkown.'}),\n",
       " Prediction(uid='A1B36LI1QTJM2E', iid='B004G8HXXO', r_ui=3.0, est=4.062666084355236, details={'was_impossible': True, 'reason': 'User and/or item is unkown.'}),\n",
       " Prediction(uid='A1D3XQC2DIT', iid='B000TKHGL2', r_ui=4.0, est=4.1415094339622645, details={'actual_k': 0, 'was_impossible': False}),\n",
       " Prediction(uid='A383ZUT1GWTAUV', iid='B00018MSNI', r_ui=5.0, est=4.543046357615894, details={'actual_k': 0, 'was_impossible': False}),\n",
       " Prediction(uid='ACOICYZETC72F', iid='B0045PKK60', r_ui=5.0, est=4.062666084355236, details={'was_impossible': True, 'reason': 'User and/or item is unkown.'}),\n",
       " Prediction(uid='A3B4PWU8B4KL83', iid='B008KEPWMY', r_ui=5.0, est=3.5476190476190474, details={'actual_k': 0, 'was_impossible': False}),\n",
       " Prediction(uid='A1MHXPHFY432N7', iid='B008XCX54U', r_ui=5.0, est=4.062666084355236, details={'was_impossible': True, 'reason': 'User and/or item is unkown.'}),\n",
       " Prediction(uid='AT9BM7G3JGKKM', iid='B006ZBWV0K', r_ui=5.0, est=4.188351208456136, details={'actual_k': 1, 'was_impossible': False}),\n",
       " Prediction(uid='A1JZ84SPR8I2WU', iid='B007X6FC48', r_ui=3.0, est=4.062666084355236, details={'was_impossible': True, 'reason': 'User and/or item is unkown.'}),\n",
       " Prediction(uid='A3IUTVXLGZ23HH', iid='B009QUDLC4', r_ui=5.0, est=4.062666084355236, details={'was_impossible': True, 'reason': 'User and/or item is unkown.'}),\n",
       " Prediction(uid='A1DO3XAWEEIHFX', iid='B002RL8H1Y', r_ui=5.0, est=3.8099547511312215, details={'actual_k': 0, 'was_impossible': False}),\n",
       " Prediction(uid='AVM8YO1O6RYHN', iid='B0007XJSQC', r_ui=5.0, est=4.062666084355236, details={'was_impossible': True, 'reason': 'User and/or item is unkown.'}),\n",
       " Prediction(uid='A4PNCJYR9FT02', iid='B000ACGQI8', r_ui=4.0, est=4.062666084355236, details={'was_impossible': True, 'reason': 'User and/or item is unkown.'}),\n",
       " Prediction(uid='A2C6W9EAZDZK79', iid='B0041G62VU', r_ui=1.0, est=2.754385964912281, details={'actual_k': 0, 'was_impossible': False}),\n",
       " Prediction(uid='A25POBSH15RR74', iid='B001XURPQI', r_ui=5.0, est=4.614035087719298, details={'actual_k': 0, 'was_impossible': False}),\n",
       " Prediction(uid='A02679723BIYH7C3DDA3K', iid='B005M7AVLO', r_ui=4.0, est=4.062666084355236, details={'was_impossible': True, 'reason': 'User and/or item is unkown.'}),\n",
       " Prediction(uid='A10EBLMXX91OCQ', iid='B009613MVS', r_ui=5.0, est=4.40374531835206, details={'actual_k': 0, 'was_impossible': False}),\n",
       " Prediction(uid='A2LV5SA6WZTE3Q', iid='B0027AGK3M', r_ui=3.0, est=4.162921348314606, details={'actual_k': 0, 'was_impossible': False}),\n",
       " Prediction(uid='A1RS4U55CF31SZ', iid='B00G5T8DJ0', r_ui=5.0, est=4.062666084355236, details={'was_impossible': True, 'reason': 'User and/or item is unkown.'}),\n",
       " Prediction(uid='A1JZEPPYFZDRPC', iid='B005JACJ50', r_ui=5.0, est=4.41717791411043, details={'actual_k': 0, 'was_impossible': False}),\n",
       " Prediction(uid='A2AAI4M94GDACN', iid='B000TXZIDM', r_ui=5.0, est=4.062666084355236, details={'was_impossible': True, 'reason': 'User and/or item is unkown.'}),\n",
       " Prediction(uid='A3MKKZP528H68L', iid='B003CY0SR6', r_ui=5.0, est=4.062666084355236, details={'was_impossible': True, 'reason': 'User and/or item is unkown.'}),\n",
       " Prediction(uid='A3IKI2BG9HIO25', iid='B000H02B6O', r_ui=5.0, est=4.062666084355236, details={'was_impossible': True, 'reason': 'User and/or item is unkown.'}),\n",
       " Prediction(uid='A15PQHMMCQ7YNT', iid='B004M9A0M8', r_ui=5.0, est=4.062666084355236, details={'was_impossible': True, 'reason': 'User and/or item is unkown.'}),\n",
       " Prediction(uid='A8G7X42FGTQUM', iid='B007JF85WE', r_ui=4.0, est=4.405063291139241, details={'actual_k': 0, 'was_impossible': False}),\n",
       " Prediction(uid='A32NIFLJ4BFIFO', iid='B0074703CM', r_ui=5.0, est=4.062666084355236, details={'was_impossible': True, 'reason': 'User and/or item is unkown.'}),\n",
       " Prediction(uid='A110Q1QYPW29T7', iid='B002MQLPJ0', r_ui=1.0, est=4.062666084355236, details={'was_impossible': True, 'reason': 'User and/or item is unkown.'}),\n",
       " Prediction(uid='AZOVUA0I4JS2P', iid='B0090SIN8E', r_ui=5.0, est=4.062666084355236, details={'was_impossible': True, 'reason': 'User and/or item is unkown.'}),\n",
       " Prediction(uid='AAU5RWSHVNNNO', iid='B003XM73P2', r_ui=5.0, est=4.062666084355236, details={'was_impossible': True, 'reason': 'User and/or item is unkown.'}),\n",
       " Prediction(uid='A1V5IN43T6PZ3W', iid='B000089GN3', r_ui=4.0, est=4.062666084355236, details={'was_impossible': True, 'reason': 'User and/or item is unkown.'}),\n",
       " Prediction(uid='A2DME3OSHEIKR8', iid='B00C1KMGX6', r_ui=5.0, est=4.1, details={'actual_k': 0, 'was_impossible': False}),\n",
       " Prediction(uid='A380G4J47G2QPH', iid='B003NSBLOK', r_ui=5.0, est=4.086614173228346, details={'actual_k': 0, 'was_impossible': False}),\n",
       " Prediction(uid='AB0E3S70CEGZE', iid='B0096T97OG', r_ui=5.0, est=4.062666084355236, details={'was_impossible': True, 'reason': 'User and/or item is unkown.'}),\n",
       " Prediction(uid='A2TOUMUWSN7FJY', iid='B0011FCV8W', r_ui=1.0, est=2.8987341772151898, details={'actual_k': 0, 'was_impossible': False}),\n",
       " Prediction(uid='A1O81PDTX8LCZC', iid='B003FVVMS0', r_ui=5.0, est=5, details={'actual_k': 1, 'was_impossible': False}),\n",
       " Prediction(uid='A3OSFGFCFOIXLB', iid='B004GGWOSK', r_ui=4.0, est=4.238095238095238, details={'actual_k': 0, 'was_impossible': False}),\n",
       " Prediction(uid='A3R1WR9VYH8NB1', iid='B00519RW1U', r_ui=5.0, est=4.062666084355236, details={'was_impossible': True, 'reason': 'User and/or item is unkown.'}),\n",
       " Prediction(uid='A2BOH92EZ6J1PT', iid='B0012GK3MQ', r_ui=2.0, est=4.062666084355236, details={'was_impossible': True, 'reason': 'User and/or item is unkown.'}),\n",
       " Prediction(uid='A97FIMHTJWUR5', iid='B0061JPXLU', r_ui=5.0, est=4.518518518518518, details={'actual_k': 0, 'was_impossible': False}),\n",
       " Prediction(uid='A3NX2F5VMCX0IS', iid='B00A7VYO90', r_ui=5.0, est=4.062666084355236, details={'was_impossible': True, 'reason': 'User and/or item is unkown.'}),\n",
       " Prediction(uid='A1UX7BS4JII2LX', iid='B004HT6TS2', r_ui=5.0, est=4.179891072362741, details={'actual_k': 1, 'was_impossible': False}),\n",
       " Prediction(uid='A1G953XNO1B69R', iid='B009XN8NKO', r_ui=5.0, est=3.8793103448275863, details={'actual_k': 0, 'was_impossible': False}),\n",
       " Prediction(uid='A2HJD0YHTR8CIU', iid='B009VDPQE2', r_ui=1.0, est=3.336206896551724, details={'actual_k': 0, 'was_impossible': False}),\n",
       " Prediction(uid='A3D84W9A57T0T2', iid='B00007GQLU', r_ui=5.0, est=4.542424242424242, details={'actual_k': 1, 'was_impossible': False}),\n",
       " Prediction(uid='AXF7GCXDYHXHP', iid='B003WJR69E', r_ui=5.0, est=4.48948948948949, details={'actual_k': 0, 'was_impossible': False}),\n",
       " Prediction(uid='A7UUX92R3S3HW', iid='B002RMPASG', r_ui=4.0, est=4.172413793103448, details={'actual_k': 0, 'was_impossible': False}),\n",
       " Prediction(uid='A9DIMKJRT7FBY', iid='B005Z5HT2M', r_ui=5.0, est=4.062666084355236, details={'was_impossible': True, 'reason': 'User and/or item is unkown.'}),\n",
       " Prediction(uid='A3RE4YNIMVXDKV', iid='B003819OGO', r_ui=3.0, est=4.062666084355236, details={'was_impossible': True, 'reason': 'User and/or item is unkown.'}),\n",
       " Prediction(uid='A21YB26ZL19L72', iid='B00CFIDQZG', r_ui=5.0, est=4.392670157068062, details={'actual_k': 0, 'was_impossible': False}),\n",
       " Prediction(uid='AU11M8VMRXH26', iid='B005DD28XG', r_ui=5.0, est=4.354166666666667, details={'actual_k': 0, 'was_impossible': False}),\n",
       " Prediction(uid='A2G6S0HAIS60JP', iid='B00622AG6S', r_ui=5.0, est=4.062666084355236, details={'was_impossible': True, 'reason': 'User and/or item is unkown.'}),\n",
       " Prediction(uid='A1AQDQEEFEEYCV', iid='B0002L5R78', r_ui=5.0, est=4.062666084355236, details={'was_impossible': True, 'reason': 'User and/or item is unkown.'}),\n",
       " Prediction(uid='A3PS63T4626GAK', iid='B005HZZA80', r_ui=1.0, est=4.062666084355236, details={'was_impossible': True, 'reason': 'User and/or item is unkown.'}),\n",
       " Prediction(uid='A395VOSJBEQYKB', iid='B004T9RR6I', r_ui=4.0, est=4.062666084355236, details={'was_impossible': True, 'reason': 'User and/or item is unkown.'}),\n",
       " Prediction(uid='A3UI6TY5A35KPT', iid='B008AST7R6', r_ui=5.0, est=4.314490445859873, details={'actual_k': 0, 'was_impossible': False}),\n",
       " Prediction(uid='A1GSV4GX1SL5TU', iid='B00795A63A', r_ui=5.0, est=4.062666084355236, details={'was_impossible': True, 'reason': 'User and/or item is unkown.'}),\n",
       " Prediction(uid='ADM93Y12TTK8P', iid='B00286JDWU', r_ui=5.0, est=4.062666084355236, details={'was_impossible': True, 'reason': 'User and/or item is unkown.'}),\n",
       " Prediction(uid='A2AYEGLGCGE90Q', iid='B003UTBDLS', r_ui=5.0, est=4.062666084355236, details={'was_impossible': True, 'reason': 'User and/or item is unkown.'}),\n",
       " Prediction(uid='AR8GLPQBWNIRK', iid='B0062IPIPQ', r_ui=5.0, est=4.062666084355236, details={'was_impossible': True, 'reason': 'User and/or item is unkown.'}),\n",
       " Prediction(uid='AH2NTXTEFJOIM', iid='B0071BAU9W', r_ui=5.0, est=4.062666084355236, details={'was_impossible': True, 'reason': 'User and/or item is unkown.'}),\n",
       " Prediction(uid='ALHG7015DTR9I', iid='B004OA6VYQ', r_ui=4.0, est=4.062666084355236, details={'was_impossible': True, 'reason': 'User and/or item is unkown.'}),\n",
       " Prediction(uid='A3CW0ZLUO5X2B1', iid='B0048L62I6', r_ui=4.0, est=4.017788461538461, details={'actual_k': 1, 'was_impossible': False}),\n",
       " Prediction(uid='A28UTWIGSQNNNK', iid='B00E952W12', r_ui=5.0, est=4.062666084355236, details={'was_impossible': True, 'reason': 'User and/or item is unkown.'}),\n",
       " Prediction(uid='A1AR1IVHLS2AXI', iid='B0072FJEA8', r_ui=1.0, est=3.661654135338346, details={'actual_k': 0, 'was_impossible': False}),\n",
       " Prediction(uid='AN5X44WYEZU2W', iid='B00009XVCU', r_ui=5.0, est=4.295918367346939, details={'actual_k': 0, 'was_impossible': False}),\n",
       " Prediction(uid='ACQT14ZN20YQY', iid='B005HFF65C', r_ui=5.0, est=5, details={'actual_k': 1, 'was_impossible': False}),\n",
       " Prediction(uid='A7KDW31GXTZKB', iid='B00752VKW8', r_ui=4.0, est=4.062666084355236, details={'was_impossible': True, 'reason': 'User and/or item is unkown.'}),\n",
       " Prediction(uid='A3PJWR0Q8QVVNQ', iid='B00GWVNK8A', r_ui=5.0, est=4.062666084355236, details={'was_impossible': True, 'reason': 'User and/or item is unkown.'}),\n",
       " Prediction(uid='AOSD9E171QO9', iid='B007I5JT4S', r_ui=5.0, est=4.40343862455018, details={'actual_k': 0, 'was_impossible': False}),\n",
       " Prediction(uid='AXWSWYGBAO816', iid='B0087NZ31S', r_ui=5.0, est=4.062666084355236, details={'was_impossible': True, 'reason': 'User and/or item is unkown.'}),\n",
       " Prediction(uid='A25QOESVIO9XPS', iid='B0013441J8', r_ui=5.0, est=4.062666084355236, details={'was_impossible': True, 'reason': 'User and/or item is unkown.'}),\n",
       " Prediction(uid='A1KT8QQ74E3SVQ', iid='B009KY58FE', r_ui=2.0, est=4.556212783374483, details={'actual_k': 1, 'was_impossible': False}),\n",
       " Prediction(uid='AOVA7Q8EEV76M', iid='B007I6HZXE', r_ui=3.0, est=4.062666084355236, details={'was_impossible': True, 'reason': 'User and/or item is unkown.'}),\n",
       " Prediction(uid='A2D0YUDZEXNO0Z', iid='B0017Q8B70', r_ui=5.0, est=4.062666084355236, details={'was_impossible': True, 'reason': 'User and/or item is unkown.'}),\n",
       " Prediction(uid='AW0YI7NKIF8D8', iid='B005LQ83EI', r_ui=5.0, est=4.794037940379404, details={'actual_k': 0, 'was_impossible': False}),\n",
       " Prediction(uid='A3V0W86UI1JZIB', iid='B000BAX50G', r_ui=3.0, est=4.45662100456621, details={'actual_k': 0, 'was_impossible': False}),\n",
       " Prediction(uid='A2NE38KJIDSYQJ', iid='B00C2P61FO', r_ui=1.0, est=4.096774193548387, details={'actual_k': 0, 'was_impossible': False}),\n",
       " Prediction(uid='A1VSTXA3M2XPMB', iid='B000SMVQK8', r_ui=5.0, est=4.062666084355236, details={'was_impossible': True, 'reason': 'User and/or item is unkown.'}),\n",
       " Prediction(uid='A23LGNFSVK1A7U', iid='B007HBLX8I', r_ui=5.0, est=5, details={'actual_k': 1, 'was_impossible': False}),\n",
       " Prediction(uid='A23K0JBBXWQC6X', iid='B009EA7XKC', r_ui=5.0, est=4.805555555555555, details={'actual_k': 0, 'was_impossible': False}),\n",
       " Prediction(uid='A1DOLX8KILDLXC', iid='B001NIEK3Q', r_ui=5.0, est=4.514450867052023, details={'actual_k': 0, 'was_impossible': False}),\n",
       " Prediction(uid='AXC9VZFZIJ98H', iid='B003DZ165W', r_ui=5.0, est=4.062666084355236, details={'was_impossible': True, 'reason': 'User and/or item is unkown.'}),\n",
       " Prediction(uid='A261YCTK5HIBUV', iid='B00020M1U0', r_ui=4.0, est=4.062666084355236, details={'was_impossible': True, 'reason': 'User and/or item is unkown.'}),\n",
       " Prediction(uid='A1AFDG7S3ARDHW', iid='B001V72S06', r_ui=1.0, est=2.3048780487804876, details={'actual_k': 0, 'was_impossible': False}),\n",
       " Prediction(uid='A25MW9XAMMBMP4', iid='B000O9W74E', r_ui=5.0, est=3.7948717948717947, details={'actual_k': 0, 'was_impossible': False}),\n",
       " Prediction(uid='ATSJFND4NQHIC', iid='B004TJ6JH6', r_ui=4.0, est=4.4392113910186195, details={'actual_k': 0, 'was_impossible': False}),\n",
       " Prediction(uid='A2MX5ZRY2DC06Y', iid='B000E6NGBU', r_ui=1.0, est=4.062666084355236, details={'was_impossible': True, 'reason': 'User and/or item is unkown.'}),\n",
       " Prediction(uid='A1X8Q5EQQF4D0E', iid='B009F1INL8', r_ui=3.0, est=4.4735693123343205, details={'actual_k': 1, 'was_impossible': False}),\n",
       " Prediction(uid='A39LWQZM6WQ5VY', iid='B005FYNSPK', r_ui=1.0, est=4.448721994319975, details={'actual_k': 0, 'was_impossible': False}),\n",
       " Prediction(uid='ASE4KV4MNMU82', iid='B0033WSDY2', r_ui=5.0, est=4.509615384615385, details={'actual_k': 0, 'was_impossible': False}),\n",
       " Prediction(uid='ACUH8VX0UV4G', iid='B000C1Z0HA', r_ui=5.0, est=4.062666084355236, details={'was_impossible': True, 'reason': 'User and/or item is unkown.'}),\n",
       " Prediction(uid='A1CWXRHE644OWS', iid='B003VWZE7S', r_ui=5.0, est=4.062666084355236, details={'was_impossible': True, 'reason': 'User and/or item is unkown.'}),\n",
       " Prediction(uid='AS4H2B5U0AY4J', iid='B008MPVUK4', r_ui=1.0, est=4.062666084355236, details={'was_impossible': True, 'reason': 'User and/or item is unkown.'}),\n",
       " Prediction(uid='A2ICNJCORB3FB', iid='B004SD1ZPY', r_ui=1.0, est=1, details={'actual_k': 1, 'was_impossible': False}),\n",
       " Prediction(uid='A1RW9R3EOJQ5BZ', iid='B005ISNC86', r_ui=4.0, est=3.542713567839196, details={'actual_k': 0, 'was_impossible': False}),\n",
       " Prediction(uid='A2QHA27FF0WBR6', iid='B0036R76R4', r_ui=1.0, est=3.80327868852459, details={'actual_k': 0, 'was_impossible': False}),\n",
       " Prediction(uid='A1TJYGJVKFS9SA', iid='B008JJLW4M', r_ui=5.0, est=4.062666084355236, details={'was_impossible': True, 'reason': 'User and/or item is unkown.'}),\n",
       " Prediction(uid='AD3F5JGMTZQEG', iid='B000OBLARC', r_ui=3.0, est=4.062666084355236, details={'was_impossible': True, 'reason': 'User and/or item is unkown.'}),\n",
       " Prediction(uid='APC8SNF9U2W5W', iid='B00B8L36A6', r_ui=5.0, est=4.44314381270903, details={'actual_k': 0, 'was_impossible': False}),\n",
       " Prediction(uid='AFGZO9GWT02L2', iid='B0049H89F8', r_ui=5.0, est=4.202702702702703, details={'actual_k': 0, 'was_impossible': False}),\n",
       " Prediction(uid='A2997ZAM3JSYHR', iid='B0007N55NM', r_ui=5.0, est=4.062666084355236, details={'was_impossible': True, 'reason': 'User and/or item is unkown.'}),\n",
       " Prediction(uid='A2SMJ3HNV4FQL9', iid='B001LJG102', r_ui=5.0, est=3.6744186046511627, details={'actual_k': 0, 'was_impossible': False}),\n",
       " Prediction(uid='AL0G6JYM1C14K', iid='B005WKKIGO', r_ui=1.0, est=3.88, details={'actual_k': 0, 'was_impossible': False}),\n",
       " Prediction(uid='A1HM8GCNPOGJA', iid='B00A8ER7NG', r_ui=4.0, est=2.5161290322580645, details={'actual_k': 0, 'was_impossible': False}),\n",
       " Prediction(uid='A1VPO9CPZHUBUI', iid='B003CJTQJC', r_ui=5.0, est=2.065960664999281, details={'actual_k': 1, 'was_impossible': False}),\n",
       " Prediction(uid='A10C5CJK1YKGV0', iid='B0013IWYHU', r_ui=1.0, est=3.7594026466144856, details={'actual_k': 4, 'was_impossible': False}),\n",
       " Prediction(uid='A3HVNILZVPH6KT', iid='B000M4J2LM', r_ui=5.0, est=4.177606177606178, details={'actual_k': 0, 'was_impossible': False}),\n",
       " Prediction(uid='A16ZEHAHVU3RF5', iid='B001S2RCXW', r_ui=4.0, est=3.88821752265861, details={'actual_k': 0, 'was_impossible': False}),\n",
       " Prediction(uid='A3FYPI3YMV5NTT', iid='B0016BQS12', r_ui=3.0, est=4.062666084355236, details={'was_impossible': True, 'reason': 'User and/or item is unkown.'}),\n",
       " Prediction(uid='A2HHL7U5HTC003', iid='B003656Q7C', r_ui=4.0, est=4.062666084355236, details={'was_impossible': True, 'reason': 'User and/or item is unkown.'}),\n",
       " Prediction(uid='AN6657N45DW3E', iid='B004286VMW', r_ui=4.0, est=4.062666084355236, details={'was_impossible': True, 'reason': 'User and/or item is unkown.'}),\n",
       " Prediction(uid='A2K4AS24BWT1PN', iid='B00383PB0U', r_ui=4.0, est=4.062666084355236, details={'was_impossible': True, 'reason': 'User and/or item is unkown.'}),\n",
       " Prediction(uid='ACVVI2MEL3BYD', iid='B008VYQLA0', r_ui=5.0, est=4.69, details={'actual_k': 0, 'was_impossible': False}),\n",
       " Prediction(uid='A1JYI7MKONAAYI', iid='B0002Y5WZC', r_ui=5.0, est=4.062666084355236, details={'was_impossible': True, 'reason': 'User and/or item is unkown.'}),\n",
       " Prediction(uid='A2BN9PMF4DK82K', iid='B00AU0HMGA', r_ui=4.0, est=5, details={'actual_k': 1, 'was_impossible': False}),\n",
       " Prediction(uid='A3T6CJY2YZ36QI', iid='B00EL93M3S', r_ui=4.0, est=4.062666084355236, details={'was_impossible': True, 'reason': 'User and/or item is unkown.'}),\n",
       " Prediction(uid='A2U9K7BC0PMSHC', iid='B002AZ3D3E', r_ui=5.0, est=4.062666084355236, details={'was_impossible': True, 'reason': 'User and/or item is unkown.'}),\n",
       " Prediction(uid='A348MPJN6QS6BK', iid='B005FE72Q6', r_ui=4.0, est=4.324675324675325, details={'actual_k': 0, 'was_impossible': False}),\n",
       " Prediction(uid='A7HY1CEDK0204', iid='B007GN0NRO', r_ui=4.0, est=4.441860465116279, details={'actual_k': 0, 'was_impossible': False}),\n",
       " Prediction(uid='A1RXXWA0HPGSU', iid='B00F3SISYO', r_ui=5.0, est=4.062666084355236, details={'was_impossible': True, 'reason': 'User and/or item is unkown.'}),\n",
       " Prediction(uid='ARY4EU7O00E1P', iid='B008OHNZI0', r_ui=2.0, est=4.382698648653572, details={'actual_k': 1, 'was_impossible': False}),\n",
       " Prediction(uid='AW4MLROVU3VN4', iid='B003S4ZJW4', r_ui=5.0, est=3.620879120879121, details={'actual_k': 0, 'was_impossible': False}),\n",
       " Prediction(uid='AW57HGYHJXMKI', iid='B004OT7JMA', r_ui=5.0, est=4.062666084355236, details={'was_impossible': True, 'reason': 'User and/or item is unkown.'}),\n",
       " Prediction(uid='A2TN0U8173HM7A', iid='B0076R7F1M', r_ui=5.0, est=3.758710519871046, details={'actual_k': 1, 'was_impossible': False}),\n",
       " Prediction(uid='A11W3UZTGDSBKR', iid='B00E8HIN78', r_ui=5.0, est=4.062666084355236, details={'was_impossible': True, 'reason': 'User and/or item is unkown.'}),\n",
       " Prediction(uid='A3VQ8US60ERLEY', iid='B001QTXL82', r_ui=5.0, est=4.062666084355236, details={'was_impossible': True, 'reason': 'User and/or item is unkown.'}),\n",
       " Prediction(uid='A13HVMQ8U2RVJT', iid='B009SJR2B4', r_ui=5.0, est=4.0, details={'actual_k': 0, 'was_impossible': False}),\n",
       " Prediction(uid='A329GBFZ8B1XXV', iid='B000FV8P24', r_ui=5.0, est=4.258426966292135, details={'actual_k': 0, 'was_impossible': False}),\n",
       " Prediction(uid='ARJ621IGTUUMF', iid='B0015AARJI', r_ui=3.0, est=3.9370670382951545, details={'actual_k': 1, 'was_impossible': False}),\n",
       " Prediction(uid='A1K9P48LLDOMUZ', iid='B001AAVA08', r_ui=4.0, est=4.435933855582544, details={'actual_k': 1, 'was_impossible': False}),\n",
       " Prediction(uid='A2E96YK38611CR', iid='B0036VO2B8', r_ui=4.0, est=4.062666084355236, details={'was_impossible': True, 'reason': 'User and/or item is unkown.'}),\n",
       " Prediction(uid='A2I2AEBLYQLNQ9', iid='B004I53ZX2', r_ui=1.0, est=4.062666084355236, details={'was_impossible': True, 'reason': 'User and/or item is unkown.'}),\n",
       " Prediction(uid='A3CAFHKUDOT0E2', iid='B00BVUBS36', r_ui=5.0, est=4.062666084355236, details={'was_impossible': True, 'reason': 'User and/or item is unkown.'}),\n",
       " Prediction(uid='AS2XMG92KA2B5', iid='B0043TV8QO', r_ui=5.0, est=4.398058252427185, details={'actual_k': 0, 'was_impossible': False}),\n",
       " Prediction(uid='A13Y3TTF9LNWR', iid='B002BH3Z8E', r_ui=5.0, est=4.062666084355236, details={'was_impossible': True, 'reason': 'User and/or item is unkown.'}),\n",
       " Prediction(uid='A1PVUZICGY7SYX', iid='B000087KY8', r_ui=2.0, est=3.4464285714285716, details={'actual_k': 0, 'was_impossible': False}),\n",
       " Prediction(uid='A2UGQ2G43JUSEK', iid='B00006B9W3', r_ui=5.0, est=3.7333333333333334, details={'actual_k': 0, 'was_impossible': False}),\n",
       " Prediction(uid='A2QCJI9QAH6WJI', iid='B0019SI266', r_ui=4.0, est=3.2410714285714284, details={'actual_k': 0, 'was_impossible': False}),\n",
       " Prediction(uid='A3AEAFSX18SOED', iid='B008XCX54U', r_ui=5.0, est=4.252873563218391, details={'actual_k': 0, 'was_impossible': False}),\n",
       " Prediction(uid='A2CM70PPX1HQ18', iid='B005D91G38', r_ui=5.0, est=4.062666084355236, details={'was_impossible': True, 'reason': 'User and/or item is unkown.'}),\n",
       " Prediction(uid='A323JWG1441WF9', iid='B0015AHRFK', r_ui=2.0, est=4.062666084355236, details={'was_impossible': True, 'reason': 'User and/or item is unkown.'}),\n",
       " Prediction(uid='A35AN1G3HVGV0W', iid='B0053NBLFW', r_ui=4.0, est=4.062666084355236, details={'was_impossible': True, 'reason': 'User and/or item is unkown.'}),\n",
       " Prediction(uid='A2A1A7HWEFN5YZ', iid='B000U0S304', r_ui=5.0, est=4.637931034482759, details={'actual_k': 0, 'was_impossible': False}),\n",
       " Prediction(uid='AOQK9HNGJUP32', iid='B0045FM6SU', r_ui=3.0, est=4.12876254180602, details={'actual_k': 0, 'was_impossible': False}),\n",
       " Prediction(uid='A24F273IRQBY4V', iid='B00FFVYUQY', r_ui=5.0, est=4.062666084355236, details={'was_impossible': True, 'reason': 'User and/or item is unkown.'}),\n",
       " Prediction(uid='A27N884RIHU7T9', iid='B000GK8LVE', r_ui=5.0, est=3.8275862068965516, details={'actual_k': 0, 'was_impossible': False}),\n",
       " Prediction(uid='A1UJTKWNUMO4OK', iid='B000XX4M26', r_ui=5.0, est=4.062666084355236, details={'was_impossible': True, 'reason': 'User and/or item is unkown.'}),\n",
       " Prediction(uid='A2YI3L5L889O72', iid='B0049P6OTI', r_ui=4.0, est=4.328136599851522, details={'actual_k': 0, 'was_impossible': False}),\n",
       " Prediction(uid='A1PI9EQQRGR8DQ', iid='B002MT6SDU', r_ui=5.0, est=4.062666084355236, details={'was_impossible': True, 'reason': 'User and/or item is unkown.'}),\n",
       " Prediction(uid='AVTM6UUAEK7LH', iid='B009BVK1YO', r_ui=5.0, est=4.062666084355236, details={'was_impossible': True, 'reason': 'User and/or item is unkown.'}),\n",
       " Prediction(uid='A2EJ8IO23L6HTE', iid='B000UZN2ZK', r_ui=1.0, est=4.062666084355236, details={'was_impossible': True, 'reason': 'User and/or item is unkown.'}),\n",
       " Prediction(uid='A30W5A638TW52M', iid='B007ZEQFG2', r_ui=1.0, est=3.527027027027027, details={'actual_k': 0, 'was_impossible': False}),\n",
       " Prediction(uid='AMN85MXEQTHG2', iid='B00FB45SI4', r_ui=4.0, est=4.062666084355236, details={'was_impossible': True, 'reason': 'User and/or item is unkown.'}),\n",
       " Prediction(uid='A2YOJ7KO4TWU8Q', iid='B00DR0PDNE', r_ui=4.0, est=4.062666084355236, details={'was_impossible': True, 'reason': 'User and/or item is unkown.'}),\n",
       " Prediction(uid='A4OH3NMJ95P4T', iid='B004PZRO3W', r_ui=2.0, est=4.062666084355236, details={'was_impossible': True, 'reason': 'User and/or item is unkown.'}),\n",
       " Prediction(uid='A1RE69UCS8CYCJ', iid='B00433SORQ', r_ui=3.0, est=4.375, details={'actual_k': 0, 'was_impossible': False}),\n",
       " Prediction(uid='A20L3GLC17ARRN', iid='B009RPDP2Y', r_ui=5.0, est=4.2011494252873565, details={'actual_k': 0, 'was_impossible': False}),\n",
       " Prediction(uid='A1INRRGUBW0UWV', iid='B004SD1ZPY', r_ui=5.0, est=4.062666084355236, details={'was_impossible': True, 'reason': 'User and/or item is unkown.'}),\n",
       " Prediction(uid='A263Z56XN5D4RW', iid='B000QYWQW0', r_ui=5.0, est=4.062666084355236, details={'was_impossible': True, 'reason': 'User and/or item is unkown.'}),\n",
       " Prediction(uid='A1YOW2EB3QH9C4', iid='B009GF0J2Y', r_ui=5.0, est=4.667128060430752, details={'actual_k': 1, 'was_impossible': False}),\n",
       " Prediction(uid='A1CWGFD671F6XF', iid='B008IV9RR0', r_ui=5.0, est=4.062666084355236, details={'was_impossible': True, 'reason': 'User and/or item is unkown.'}),\n",
       " Prediction(uid='A34N4PNV8KBUUZ', iid='B004OB0EBQ', r_ui=2.0, est=4.062666084355236, details={'was_impossible': True, 'reason': 'User and/or item is unkown.'}),\n",
       " Prediction(uid='AFUU9SWMKGYXI', iid='B0041RSPR8', r_ui=5.0, est=4.195121951219512, details={'actual_k': 0, 'was_impossible': False}),\n",
       " Prediction(uid='A3DSVQBUQ9TWT7', iid='B009WU5XUG', r_ui=5.0, est=4.062666084355236, details={'was_impossible': True, 'reason': 'User and/or item is unkown.'}),\n",
       " Prediction(uid='AYUD16180NUCB', iid='B001H9NR2Q', r_ui=4.0, est=4.062666084355236, details={'was_impossible': True, 'reason': 'User and/or item is unkown.'}),\n",
       " Prediction(uid='A16NYOQQ59AXV0', iid='B003ZKG10K', r_ui=3.0, est=4.136, details={'actual_k': 0, 'was_impossible': False}),\n",
       " Prediction(uid='AF283QAIEJXT2', iid='B004OF9XGO', r_ui=1.0, est=2.8941176470588235, details={'actual_k': 0, 'was_impossible': False}),\n",
       " Prediction(uid='A36F7RQL42HBGL', iid='B0096KLPUY', r_ui=1.0, est=1.4324324324324325, details={'actual_k': 0, 'was_impossible': False}),\n",
       " Prediction(uid='ANHH0WT7GBCN8', iid='B002HZW6WQ', r_ui=3.0, est=4.567219152854512, details={'actual_k': 0, 'was_impossible': False}),\n",
       " Prediction(uid='A1JOVHNLZG9XLF', iid='B00HRLP3EI', r_ui=3.0, est=4.062666084355236, details={'was_impossible': True, 'reason': 'User and/or item is unkown.'}),\n",
       " Prediction(uid='A1P5B2FI17W2W2', iid='B0010X0IXU', r_ui=4.0, est=3.859090909090909, details={'actual_k': 0, 'was_impossible': False}),\n",
       " Prediction(uid='A3HU31FDBKH9M9', iid='B00FBYYBZA', r_ui=1.0, est=4.062666084355236, details={'was_impossible': True, 'reason': 'User and/or item is unkown.'}),\n",
       " Prediction(uid='A2SS83QVEV2446', iid='B004HNEPHU', r_ui=5.0, est=4.062666084355236, details={'was_impossible': True, 'reason': 'User and/or item is unkown.'}),\n",
       " Prediction(uid='A344HUZH7I5GFU', iid='B009N8M2P6', r_ui=5.0, est=4.062666084355236, details={'was_impossible': True, 'reason': 'User and/or item is unkown.'}),\n",
       " Prediction(uid='A3UM4VW2E5KEX6', iid='B000V0ETA6', r_ui=1.0, est=4.062666084355236, details={'was_impossible': True, 'reason': 'User and/or item is unkown.'}),\n",
       " Prediction(uid='AZULHLW750LS2', iid='B0085ZIN4W', r_ui=4.0, est=3.028985507246377, details={'actual_k': 0, 'was_impossible': False}),\n",
       " Prediction(uid='A1DOQA0JUZNICW', iid='B002NEG0VO', r_ui=5.0, est=4.062666084355236, details={'was_impossible': True, 'reason': 'User and/or item is unkown.'}),\n",
       " Prediction(uid='A1C1T6NM09CAB4', iid='B000S5Q9CA', r_ui=3.0, est=4.489807460890494, details={'actual_k': 1, 'was_impossible': False}),\n",
       " Prediction(uid='A1J1C60NQZICSH', iid='B003N7P6TC', r_ui=5.0, est=4.062666084355236, details={'was_impossible': True, 'reason': 'User and/or item is unkown.'}),\n",
       " Prediction(uid='A2MEX6VUFTZ5KO', iid='B000P0PF9G', r_ui=5.0, est=4.474226804123711, details={'actual_k': 0, 'was_impossible': False}),\n",
       " Prediction(uid='A390F1F4R9QLEQ', iid='B007TYUUPK', r_ui=5.0, est=5, details={'actual_k': 1, 'was_impossible': False}),\n",
       " Prediction(uid='A1HKJ5RSI8PSTC', iid='B0000633EM', r_ui=4.0, est=4.062666084355236, details={'was_impossible': True, 'reason': 'User and/or item is unkown.'}),\n",
       " Prediction(uid='A1M5FUCYE2N6AQ', iid='B004D4917W', r_ui=4.0, est=4.062666084355236, details={'was_impossible': True, 'reason': 'User and/or item is unkown.'}),\n",
       " Prediction(uid='AUZ6P9NEGN4NL', iid='B00GTGETFG', r_ui=5.0, est=4.062666084355236, details={'was_impossible': True, 'reason': 'User and/or item is unkown.'}),\n",
       " Prediction(uid='A1VRBKVZK82XFD', iid='B000FNKV2Y', r_ui=4.0, est=4.062666084355236, details={'was_impossible': True, 'reason': 'User and/or item is unkown.'}),\n",
       " Prediction(uid='A2UGHD0O07NPMJ', iid='B00A2L3J1Y', r_ui=5.0, est=4.062666084355236, details={'was_impossible': True, 'reason': 'User and/or item is unkown.'}),\n",
       " Prediction(uid='A7XO204OFZ11B', iid='B00007E7JU', r_ui=5.0, est=5, details={'actual_k': 1, 'was_impossible': False}),\n",
       " Prediction(uid='A2BRFA50N8DXI4', iid='B008GVL9YQ', r_ui=3.0, est=4.062666084355236, details={'was_impossible': True, 'reason': 'User and/or item is unkown.'}),\n",
       " Prediction(uid='A17IT9C4CN85BA', iid='B001S4OTS6', r_ui=4.0, est=3.906515580736544, details={'actual_k': 0, 'was_impossible': False}),\n",
       " Prediction(uid='A5T3O82W4VCDH', iid='B005H3I38G', r_ui=5.0, est=3.572289156626506, details={'actual_k': 0, 'was_impossible': False}),\n",
       " Prediction(uid='A1LRRYVZJL8Z54', iid='B0049XGNKK', r_ui=5.0, est=4.059383957046546, details={'actual_k': 1, 'was_impossible': False}),\n",
       " Prediction(uid='A2Q8U4G21LVAUV', iid='B009A4B5VA', r_ui=1.0, est=4.062666084355236, details={'was_impossible': True, 'reason': 'User and/or item is unkown.'}),\n",
       " Prediction(uid='A5MXNEKQSVHEG', iid='B001KVMMJU', r_ui=1.0, est=1.8666666666666667, details={'actual_k': 0, 'was_impossible': False}),\n",
       " Prediction(uid='A2SGINZP4RPCTH', iid='B0035JKJC2', r_ui=5.0, est=3.942857142857143, details={'actual_k': 0, 'was_impossible': False}),\n",
       " Prediction(uid='A3FH5G5CGAC2A', iid='B000T9251O', r_ui=5.0, est=3.985294117647059, details={'actual_k': 0, 'was_impossible': False}),\n",
       " Prediction(uid='A39BYB2M53EXG3', iid='B002669XKY', r_ui=1.0, est=4.062666084355236, details={'was_impossible': True, 'reason': 'User and/or item is unkown.'}),\n",
       " Prediction(uid='A14PHYED5VMPII', iid='B001FA0AMW', r_ui=5.0, est=3.7941176470588234, details={'actual_k': 0, 'was_impossible': False}),\n",
       " Prediction(uid='A20AHH3Z8CCB6S', iid='B003D8I25G', r_ui=5.0, est=4.382978723404255, details={'actual_k': 0, 'was_impossible': False}),\n",
       " Prediction(uid='AVY6FX5XV6IYC', iid='B003ZX8B2S', r_ui=4.0, est=3.987841945288754, details={'actual_k': 0, 'was_impossible': False}),\n",
       " Prediction(uid='A1NS9IQOBF1TCP', iid='B007WTAJTO', r_ui=4.0, est=4.062666084355236, details={'was_impossible': True, 'reason': 'User and/or item is unkown.'}),\n",
       " Prediction(uid='A5SPHCSOCL27U', iid='B0013V6RW0', r_ui=3.0, est=3.4347826086956523, details={'actual_k': 0, 'was_impossible': False}),\n",
       " Prediction(uid='A3LOAP0C1GFKEM', iid='B000ZPIMN2', r_ui=4.0, est=4.062666084355236, details={'was_impossible': True, 'reason': 'User and/or item is unkown.'}),\n",
       " Prediction(uid='A2W78X5AJK8EH4', iid='B00CRY250U', r_ui=4.0, est=4.062666084355236, details={'was_impossible': True, 'reason': 'User and/or item is unkown.'}),\n",
       " Prediction(uid='A30EYCSSNF6CW', iid='B0009NEUO0', r_ui=3.0, est=3.8882730923694777, details={'actual_k': 1, 'was_impossible': False}),\n",
       " Prediction(uid='A11PFFCO58K1P0', iid='B003ZX8B2S', r_ui=1.0, est=4.062666084355236, details={'was_impossible': True, 'reason': 'User and/or item is unkown.'}),\n",
       " Prediction(uid='A17G12XW45CUT3', iid='B009AEPTDA', r_ui=5.0, est=4.062666084355236, details={'was_impossible': True, 'reason': 'User and/or item is unkown.'}),\n",
       " Prediction(uid='A31ICX9MMR0N6Q', iid='B001GGL7Z4', r_ui=5.0, est=4.171794871794872, details={'actual_k': 0, 'was_impossible': False}),\n",
       " Prediction(uid='A3H2LZ7LOYCX9B', iid='B005L38VPC', r_ui=2.0, est=4.062666084355236, details={'was_impossible': True, 'reason': 'User and/or item is unkown.'}),\n",
       " Prediction(uid='A2CGCATJ3T3VHY', iid='B00D6XSRL2', r_ui=5.0, est=5, details={'actual_k': 2, 'was_impossible': False}),\n",
       " Prediction(uid='AJFTP04MWZRU8', iid='B00CEZJT2E', r_ui=5.0, est=4.062666084355236, details={'was_impossible': True, 'reason': 'User and/or item is unkown.'}),\n",
       " Prediction(uid='A1PLT3O4E2USV8', iid='B001MQ8BUM', r_ui=4.0, est=4.062666084355236, details={'was_impossible': True, 'reason': 'User and/or item is unkown.'}),\n",
       " Prediction(uid='A3OSJPNS2S6JRK', iid='B003WGJYCY', r_ui=5.0, est=4.062666084355236, details={'was_impossible': True, 'reason': 'User and/or item is unkown.'}),\n",
       " Prediction(uid='A6GVGVY41CYNV', iid='B00622AG6S', r_ui=5.0, est=4.062666084355236, details={'was_impossible': True, 'reason': 'User and/or item is unkown.'}),\n",
       " Prediction(uid='A3LTHVGDTSY67A', iid='B004BLK24S', r_ui=5.0, est=4.730593607305936, details={'actual_k': 0, 'was_impossible': False}),\n",
       " Prediction(uid='AMGUANS05R4B5', iid='B006GYPQ44', r_ui=5.0, est=3.9814814814814814, details={'actual_k': 0, 'was_impossible': False}),\n",
       " Prediction(uid='A16KLRV5OS5HUX', iid='B002LITI70', r_ui=5.0, est=4.062666084355236, details={'was_impossible': True, 'reason': 'User and/or item is unkown.'}),\n",
       " Prediction(uid='A1MXMS4GWTUIVJ', iid='B005HM8BRU', r_ui=2.0, est=4.062666084355236, details={'was_impossible': True, 'reason': 'User and/or item is unkown.'}),\n",
       " ...]"
      ]
     },
     "execution_count": 35,
     "metadata": {},
     "output_type": "execute_result"
    }
   ],
   "source": [
    "test_pred"
   ]
  },
  {
   "cell_type": "code",
   "execution_count": 36,
   "metadata": {},
   "outputs": [
    {
     "name": "stdout",
     "output_type": "stream",
     "text": [
      "Item-based Model : Test Set\n",
      "RMSE: 1.3335\n"
     ]
    },
    {
     "data": {
      "text/plain": [
       "1.3334560899557941"
      ]
     },
     "execution_count": 36,
     "metadata": {},
     "output_type": "execute_result"
    }
   ],
   "source": [
    "# get RMSE\n",
    "print(\"Item-based Model : Test Set\")\n",
    "accuracy.rmse(test_pred, verbose=True)\n"
   ]
  },
  {
   "cell_type": "code",
   "execution_count": 37,
   "metadata": {},
   "outputs": [],
   "source": [
    "## Model-based collaborative filtering system"
   ]
  },
  {
   "cell_type": "code",
   "execution_count": 38,
   "metadata": {},
   "outputs": [
    {
     "data": {
      "text/html": [
       "<div>\n",
       "<style scoped>\n",
       "    .dataframe tbody tr th:only-of-type {\n",
       "        vertical-align: middle;\n",
       "    }\n",
       "\n",
       "    .dataframe tbody tr th {\n",
       "        vertical-align: top;\n",
       "    }\n",
       "\n",
       "    .dataframe thead th {\n",
       "        text-align: right;\n",
       "    }\n",
       "</style>\n",
       "<table border=\"1\" class=\"dataframe\">\n",
       "  <thead>\n",
       "    <tr style=\"text-align: right;\">\n",
       "      <th>productid</th>\n",
       "      <th>0972683275</th>\n",
       "      <th>1400501466</th>\n",
       "      <th>1400501520</th>\n",
       "      <th>1400501776</th>\n",
       "      <th>1400532620</th>\n",
       "      <th>1400532655</th>\n",
       "      <th>140053271X</th>\n",
       "      <th>1400532736</th>\n",
       "      <th>1400599997</th>\n",
       "      <th>1400698987</th>\n",
       "      <th>...</th>\n",
       "      <th>B00000JFMK</th>\n",
       "      <th>B00000JHWX</th>\n",
       "      <th>B00000JI4F</th>\n",
       "      <th>B00000JII6</th>\n",
       "      <th>B00000JMUG</th>\n",
       "      <th>B00000JPPI</th>\n",
       "      <th>B00000JSGF</th>\n",
       "      <th>B00000JYLO</th>\n",
       "      <th>B00000JYWQ</th>\n",
       "      <th>B00000K135</th>\n",
       "    </tr>\n",
       "    <tr>\n",
       "      <th>userid</th>\n",
       "      <th></th>\n",
       "      <th></th>\n",
       "      <th></th>\n",
       "      <th></th>\n",
       "      <th></th>\n",
       "      <th></th>\n",
       "      <th></th>\n",
       "      <th></th>\n",
       "      <th></th>\n",
       "      <th></th>\n",
       "      <th></th>\n",
       "      <th></th>\n",
       "      <th></th>\n",
       "      <th></th>\n",
       "      <th></th>\n",
       "      <th></th>\n",
       "      <th></th>\n",
       "      <th></th>\n",
       "      <th></th>\n",
       "      <th></th>\n",
       "      <th></th>\n",
       "    </tr>\n",
       "  </thead>\n",
       "  <tbody>\n",
       "    <tr>\n",
       "      <td>A01852072Z7B68UHLI5UG</td>\n",
       "      <td>0</td>\n",
       "      <td>0</td>\n",
       "      <td>0</td>\n",
       "      <td>0</td>\n",
       "      <td>0</td>\n",
       "      <td>0</td>\n",
       "      <td>0</td>\n",
       "      <td>0</td>\n",
       "      <td>0</td>\n",
       "      <td>0</td>\n",
       "      <td>...</td>\n",
       "      <td>0</td>\n",
       "      <td>0</td>\n",
       "      <td>0</td>\n",
       "      <td>0</td>\n",
       "      <td>0</td>\n",
       "      <td>0</td>\n",
       "      <td>0</td>\n",
       "      <td>0</td>\n",
       "      <td>0</td>\n",
       "      <td>0</td>\n",
       "    </tr>\n",
       "    <tr>\n",
       "      <td>A0266076X6KPZ6CCHGVS</td>\n",
       "      <td>0</td>\n",
       "      <td>0</td>\n",
       "      <td>0</td>\n",
       "      <td>0</td>\n",
       "      <td>0</td>\n",
       "      <td>0</td>\n",
       "      <td>0</td>\n",
       "      <td>0</td>\n",
       "      <td>0</td>\n",
       "      <td>0</td>\n",
       "      <td>...</td>\n",
       "      <td>0</td>\n",
       "      <td>0</td>\n",
       "      <td>0</td>\n",
       "      <td>0</td>\n",
       "      <td>0</td>\n",
       "      <td>0</td>\n",
       "      <td>0</td>\n",
       "      <td>0</td>\n",
       "      <td>0</td>\n",
       "      <td>0</td>\n",
       "    </tr>\n",
       "    <tr>\n",
       "      <td>A0293130VTX2ZXA70JQS</td>\n",
       "      <td>5</td>\n",
       "      <td>0</td>\n",
       "      <td>0</td>\n",
       "      <td>0</td>\n",
       "      <td>0</td>\n",
       "      <td>0</td>\n",
       "      <td>0</td>\n",
       "      <td>0</td>\n",
       "      <td>0</td>\n",
       "      <td>0</td>\n",
       "      <td>...</td>\n",
       "      <td>0</td>\n",
       "      <td>0</td>\n",
       "      <td>0</td>\n",
       "      <td>0</td>\n",
       "      <td>0</td>\n",
       "      <td>0</td>\n",
       "      <td>0</td>\n",
       "      <td>0</td>\n",
       "      <td>0</td>\n",
       "      <td>0</td>\n",
       "    </tr>\n",
       "    <tr>\n",
       "      <td>A030530627MK66BD8V4LN</td>\n",
       "      <td>4</td>\n",
       "      <td>0</td>\n",
       "      <td>0</td>\n",
       "      <td>0</td>\n",
       "      <td>0</td>\n",
       "      <td>0</td>\n",
       "      <td>0</td>\n",
       "      <td>0</td>\n",
       "      <td>0</td>\n",
       "      <td>0</td>\n",
       "      <td>...</td>\n",
       "      <td>0</td>\n",
       "      <td>0</td>\n",
       "      <td>0</td>\n",
       "      <td>0</td>\n",
       "      <td>0</td>\n",
       "      <td>0</td>\n",
       "      <td>0</td>\n",
       "      <td>0</td>\n",
       "      <td>0</td>\n",
       "      <td>0</td>\n",
       "    </tr>\n",
       "    <tr>\n",
       "      <td>A0571176384K8RBNKGF8O</td>\n",
       "      <td>0</td>\n",
       "      <td>0</td>\n",
       "      <td>0</td>\n",
       "      <td>0</td>\n",
       "      <td>0</td>\n",
       "      <td>0</td>\n",
       "      <td>0</td>\n",
       "      <td>0</td>\n",
       "      <td>0</td>\n",
       "      <td>0</td>\n",
       "      <td>...</td>\n",
       "      <td>0</td>\n",
       "      <td>0</td>\n",
       "      <td>0</td>\n",
       "      <td>0</td>\n",
       "      <td>0</td>\n",
       "      <td>0</td>\n",
       "      <td>0</td>\n",
       "      <td>0</td>\n",
       "      <td>0</td>\n",
       "      <td>0</td>\n",
       "    </tr>\n",
       "  </tbody>\n",
       "</table>\n",
       "<p>5 rows × 76 columns</p>\n",
       "</div>"
      ],
      "text/plain": [
       "productid              0972683275  1400501466  1400501520  1400501776  \\\n",
       "userid                                                                  \n",
       "A01852072Z7B68UHLI5UG           0           0           0           0   \n",
       "A0266076X6KPZ6CCHGVS            0           0           0           0   \n",
       "A0293130VTX2ZXA70JQS            5           0           0           0   \n",
       "A030530627MK66BD8V4LN           4           0           0           0   \n",
       "A0571176384K8RBNKGF8O           0           0           0           0   \n",
       "\n",
       "productid              1400532620  1400532655  140053271X  1400532736  \\\n",
       "userid                                                                  \n",
       "A01852072Z7B68UHLI5UG           0           0           0           0   \n",
       "A0266076X6KPZ6CCHGVS            0           0           0           0   \n",
       "A0293130VTX2ZXA70JQS            0           0           0           0   \n",
       "A030530627MK66BD8V4LN           0           0           0           0   \n",
       "A0571176384K8RBNKGF8O           0           0           0           0   \n",
       "\n",
       "productid              1400599997  1400698987  ...  B00000JFMK  B00000JHWX  \\\n",
       "userid                                         ...                           \n",
       "A01852072Z7B68UHLI5UG           0           0  ...           0           0   \n",
       "A0266076X6KPZ6CCHGVS            0           0  ...           0           0   \n",
       "A0293130VTX2ZXA70JQS            0           0  ...           0           0   \n",
       "A030530627MK66BD8V4LN           0           0  ...           0           0   \n",
       "A0571176384K8RBNKGF8O           0           0  ...           0           0   \n",
       "\n",
       "productid              B00000JI4F  B00000JII6  B00000JMUG  B00000JPPI  \\\n",
       "userid                                                                  \n",
       "A01852072Z7B68UHLI5UG           0           0           0           0   \n",
       "A0266076X6KPZ6CCHGVS            0           0           0           0   \n",
       "A0293130VTX2ZXA70JQS            0           0           0           0   \n",
       "A030530627MK66BD8V4LN           0           0           0           0   \n",
       "A0571176384K8RBNKGF8O           0           0           0           0   \n",
       "\n",
       "productid              B00000JSGF  B00000JYLO  B00000JYWQ  B00000K135  \n",
       "userid                                                                 \n",
       "A01852072Z7B68UHLI5UG           0           0           0           0  \n",
       "A0266076X6KPZ6CCHGVS            0           0           0           0  \n",
       "A0293130VTX2ZXA70JQS            0           0           0           0  \n",
       "A030530627MK66BD8V4LN           0           0           0           0  \n",
       "A0571176384K8RBNKGF8O           0           0           0           0  \n",
       "\n",
       "[5 rows x 76 columns]"
      ]
     },
     "execution_count": 38,
     "metadata": {},
     "output_type": "execute_result"
    }
   ],
   "source": [
    "new_df1=new_df.head(10000)\n",
    "ratings_matrix = new_df1.pivot_table(values='rating', index='userid', columns='productid', fill_value=0)\n",
    "ratings_matrix.head()"
   ]
  },
  {
   "cell_type": "code",
   "execution_count": 39,
   "metadata": {},
   "outputs": [
    {
     "data": {
      "text/plain": [
       "(9832, 76)"
      ]
     },
     "execution_count": 39,
     "metadata": {},
     "output_type": "execute_result"
    }
   ],
   "source": [
    "ratings_matrix.shape"
   ]
  },
  {
   "cell_type": "code",
   "execution_count": 40,
   "metadata": {},
   "outputs": [
    {
     "data": {
      "text/html": [
       "<div>\n",
       "<style scoped>\n",
       "    .dataframe tbody tr th:only-of-type {\n",
       "        vertical-align: middle;\n",
       "    }\n",
       "\n",
       "    .dataframe tbody tr th {\n",
       "        vertical-align: top;\n",
       "    }\n",
       "\n",
       "    .dataframe thead th {\n",
       "        text-align: right;\n",
       "    }\n",
       "</style>\n",
       "<table border=\"1\" class=\"dataframe\">\n",
       "  <thead>\n",
       "    <tr style=\"text-align: right;\">\n",
       "      <th>userid</th>\n",
       "      <th>A01852072Z7B68UHLI5UG</th>\n",
       "      <th>A0266076X6KPZ6CCHGVS</th>\n",
       "      <th>A0293130VTX2ZXA70JQS</th>\n",
       "      <th>A030530627MK66BD8V4LN</th>\n",
       "      <th>A0571176384K8RBNKGF8O</th>\n",
       "      <th>A0590501PZ7HOWJKBGQ4</th>\n",
       "      <th>A0641581307AKT5MAOU0Q</th>\n",
       "      <th>A076219533YHEV2LJO988</th>\n",
       "      <th>A0821988FXKFYX53V4QG</th>\n",
       "      <th>A099626739FNCRNHIKBCG</th>\n",
       "      <th>...</th>\n",
       "      <th>AZWOPBY75SGAM</th>\n",
       "      <th>AZX0ZDVAFMN78</th>\n",
       "      <th>AZX5LAN9JEAFF</th>\n",
       "      <th>AZX7I110AF0W2</th>\n",
       "      <th>AZXKUK895VGSM</th>\n",
       "      <th>AZXP46IB63PU8</th>\n",
       "      <th>AZYTSU42BZ7TP</th>\n",
       "      <th>AZZGJ2KMWB7R</th>\n",
       "      <th>AZZMV5VT9W7Y8</th>\n",
       "      <th>AZZST8OYL5P4Q</th>\n",
       "    </tr>\n",
       "    <tr>\n",
       "      <th>productid</th>\n",
       "      <th></th>\n",
       "      <th></th>\n",
       "      <th></th>\n",
       "      <th></th>\n",
       "      <th></th>\n",
       "      <th></th>\n",
       "      <th></th>\n",
       "      <th></th>\n",
       "      <th></th>\n",
       "      <th></th>\n",
       "      <th></th>\n",
       "      <th></th>\n",
       "      <th></th>\n",
       "      <th></th>\n",
       "      <th></th>\n",
       "      <th></th>\n",
       "      <th></th>\n",
       "      <th></th>\n",
       "      <th></th>\n",
       "      <th></th>\n",
       "      <th></th>\n",
       "    </tr>\n",
       "  </thead>\n",
       "  <tbody>\n",
       "    <tr>\n",
       "      <td>0972683275</td>\n",
       "      <td>0</td>\n",
       "      <td>0</td>\n",
       "      <td>5</td>\n",
       "      <td>4</td>\n",
       "      <td>0</td>\n",
       "      <td>0</td>\n",
       "      <td>0</td>\n",
       "      <td>0</td>\n",
       "      <td>0</td>\n",
       "      <td>0</td>\n",
       "      <td>...</td>\n",
       "      <td>0</td>\n",
       "      <td>0</td>\n",
       "      <td>0</td>\n",
       "      <td>0</td>\n",
       "      <td>0</td>\n",
       "      <td>0</td>\n",
       "      <td>0</td>\n",
       "      <td>0</td>\n",
       "      <td>0</td>\n",
       "      <td>0</td>\n",
       "    </tr>\n",
       "    <tr>\n",
       "      <td>1400501466</td>\n",
       "      <td>0</td>\n",
       "      <td>0</td>\n",
       "      <td>0</td>\n",
       "      <td>0</td>\n",
       "      <td>0</td>\n",
       "      <td>0</td>\n",
       "      <td>0</td>\n",
       "      <td>0</td>\n",
       "      <td>0</td>\n",
       "      <td>0</td>\n",
       "      <td>...</td>\n",
       "      <td>0</td>\n",
       "      <td>0</td>\n",
       "      <td>0</td>\n",
       "      <td>0</td>\n",
       "      <td>0</td>\n",
       "      <td>0</td>\n",
       "      <td>0</td>\n",
       "      <td>0</td>\n",
       "      <td>0</td>\n",
       "      <td>0</td>\n",
       "    </tr>\n",
       "    <tr>\n",
       "      <td>1400501520</td>\n",
       "      <td>0</td>\n",
       "      <td>0</td>\n",
       "      <td>0</td>\n",
       "      <td>0</td>\n",
       "      <td>0</td>\n",
       "      <td>0</td>\n",
       "      <td>0</td>\n",
       "      <td>0</td>\n",
       "      <td>0</td>\n",
       "      <td>3</td>\n",
       "      <td>...</td>\n",
       "      <td>0</td>\n",
       "      <td>0</td>\n",
       "      <td>0</td>\n",
       "      <td>0</td>\n",
       "      <td>0</td>\n",
       "      <td>0</td>\n",
       "      <td>0</td>\n",
       "      <td>0</td>\n",
       "      <td>0</td>\n",
       "      <td>0</td>\n",
       "    </tr>\n",
       "    <tr>\n",
       "      <td>1400501776</td>\n",
       "      <td>0</td>\n",
       "      <td>0</td>\n",
       "      <td>0</td>\n",
       "      <td>0</td>\n",
       "      <td>0</td>\n",
       "      <td>0</td>\n",
       "      <td>0</td>\n",
       "      <td>0</td>\n",
       "      <td>0</td>\n",
       "      <td>0</td>\n",
       "      <td>...</td>\n",
       "      <td>0</td>\n",
       "      <td>0</td>\n",
       "      <td>0</td>\n",
       "      <td>0</td>\n",
       "      <td>0</td>\n",
       "      <td>0</td>\n",
       "      <td>0</td>\n",
       "      <td>0</td>\n",
       "      <td>1</td>\n",
       "      <td>0</td>\n",
       "    </tr>\n",
       "    <tr>\n",
       "      <td>1400532620</td>\n",
       "      <td>0</td>\n",
       "      <td>0</td>\n",
       "      <td>0</td>\n",
       "      <td>0</td>\n",
       "      <td>0</td>\n",
       "      <td>0</td>\n",
       "      <td>0</td>\n",
       "      <td>0</td>\n",
       "      <td>0</td>\n",
       "      <td>0</td>\n",
       "      <td>...</td>\n",
       "      <td>0</td>\n",
       "      <td>0</td>\n",
       "      <td>0</td>\n",
       "      <td>0</td>\n",
       "      <td>0</td>\n",
       "      <td>0</td>\n",
       "      <td>0</td>\n",
       "      <td>0</td>\n",
       "      <td>0</td>\n",
       "      <td>0</td>\n",
       "    </tr>\n",
       "  </tbody>\n",
       "</table>\n",
       "<p>5 rows × 9832 columns</p>\n",
       "</div>"
      ],
      "text/plain": [
       "userid      A01852072Z7B68UHLI5UG  A0266076X6KPZ6CCHGVS  A0293130VTX2ZXA70JQS  \\\n",
       "productid                                                                       \n",
       "0972683275                      0                     0                     5   \n",
       "1400501466                      0                     0                     0   \n",
       "1400501520                      0                     0                     0   \n",
       "1400501776                      0                     0                     0   \n",
       "1400532620                      0                     0                     0   \n",
       "\n",
       "userid      A030530627MK66BD8V4LN  A0571176384K8RBNKGF8O  \\\n",
       "productid                                                  \n",
       "0972683275                      4                      0   \n",
       "1400501466                      0                      0   \n",
       "1400501520                      0                      0   \n",
       "1400501776                      0                      0   \n",
       "1400532620                      0                      0   \n",
       "\n",
       "userid      A0590501PZ7HOWJKBGQ4  A0641581307AKT5MAOU0Q  \\\n",
       "productid                                                 \n",
       "0972683275                     0                      0   \n",
       "1400501466                     0                      0   \n",
       "1400501520                     0                      0   \n",
       "1400501776                     0                      0   \n",
       "1400532620                     0                      0   \n",
       "\n",
       "userid      A076219533YHEV2LJO988  A0821988FXKFYX53V4QG  \\\n",
       "productid                                                 \n",
       "0972683275                      0                     0   \n",
       "1400501466                      0                     0   \n",
       "1400501520                      0                     0   \n",
       "1400501776                      0                     0   \n",
       "1400532620                      0                     0   \n",
       "\n",
       "userid      A099626739FNCRNHIKBCG  ...  AZWOPBY75SGAM  AZX0ZDVAFMN78  \\\n",
       "productid                          ...                                 \n",
       "0972683275                      0  ...              0              0   \n",
       "1400501466                      0  ...              0              0   \n",
       "1400501520                      3  ...              0              0   \n",
       "1400501776                      0  ...              0              0   \n",
       "1400532620                      0  ...              0              0   \n",
       "\n",
       "userid      AZX5LAN9JEAFF  AZX7I110AF0W2  AZXKUK895VGSM  AZXP46IB63PU8  \\\n",
       "productid                                                                \n",
       "0972683275              0              0              0              0   \n",
       "1400501466              0              0              0              0   \n",
       "1400501520              0              0              0              0   \n",
       "1400501776              0              0              0              0   \n",
       "1400532620              0              0              0              0   \n",
       "\n",
       "userid      AZYTSU42BZ7TP  AZZGJ2KMWB7R  AZZMV5VT9W7Y8  AZZST8OYL5P4Q  \n",
       "productid                                                              \n",
       "0972683275              0             0              0              0  \n",
       "1400501466              0             0              0              0  \n",
       "1400501520              0             0              0              0  \n",
       "1400501776              0             0              1              0  \n",
       "1400532620              0             0              0              0  \n",
       "\n",
       "[5 rows x 9832 columns]"
      ]
     },
     "execution_count": 40,
     "metadata": {},
     "output_type": "execute_result"
    }
   ],
   "source": [
    "X = ratings_matrix.T\n",
    "X.head()"
   ]
  },
  {
   "cell_type": "code",
   "execution_count": 41,
   "metadata": {},
   "outputs": [
    {
     "data": {
      "text/plain": [
       "(76, 9832)"
      ]
     },
     "execution_count": 41,
     "metadata": {},
     "output_type": "execute_result"
    }
   ],
   "source": [
    "X.shape"
   ]
  },
  {
   "cell_type": "code",
   "execution_count": 42,
   "metadata": {},
   "outputs": [],
   "source": [
    "X1 = X"
   ]
  },
  {
   "cell_type": "code",
   "execution_count": 43,
   "metadata": {},
   "outputs": [
    {
     "data": {
      "text/plain": [
       "(76, 10)"
      ]
     },
     "execution_count": 43,
     "metadata": {},
     "output_type": "execute_result"
    }
   ],
   "source": [
    "#Decomposing the Matrix\n",
    "from sklearn.decomposition import TruncatedSVD\n",
    "SVD = TruncatedSVD(n_components=10)\n",
    "decomposed_matrix = SVD.fit_transform(X)\n",
    "decomposed_matrix.shape\n"
   ]
  },
  {
   "cell_type": "code",
   "execution_count": 44,
   "metadata": {},
   "outputs": [
    {
     "data": {
      "text/plain": [
       "(76, 76)"
      ]
     },
     "execution_count": 44,
     "metadata": {},
     "output_type": "execute_result"
    }
   ],
   "source": [
    "#Correlation Matrix\n",
    "\n",
    "correlation_matrix = np.corrcoef(decomposed_matrix)\n",
    "correlation_matrix.shape\n"
   ]
  },
  {
   "cell_type": "code",
   "execution_count": 45,
   "metadata": {},
   "outputs": [
    {
     "data": {
      "text/plain": [
       "'B00000K135'"
      ]
     },
     "execution_count": 45,
     "metadata": {},
     "output_type": "execute_result"
    }
   ],
   "source": [
    "X.index[75]"
   ]
  },
  {
   "cell_type": "code",
   "execution_count": 46,
   "metadata": {},
   "outputs": [
    {
     "data": {
      "text/plain": [
       "75"
      ]
     },
     "execution_count": 46,
     "metadata": {},
     "output_type": "execute_result"
    }
   ],
   "source": [
    "n = \"B00000K135\"\n",
    "\n",
    "product_names = list(X.index)\n",
    "product_ID = product_names.index(n)\n",
    "product_ID\n"
   ]
  },
  {
   "cell_type": "code",
   "execution_count": 47,
   "metadata": {},
   "outputs": [
    {
     "data": {
      "text/plain": [
       "(76,)"
      ]
     },
     "execution_count": 47,
     "metadata": {},
     "output_type": "execute_result"
    }
   ],
   "source": [
    "correlation_product_ID = correlation_matrix[product_ID]\n",
    "correlation_product_ID.shape"
   ]
  },
  {
   "cell_type": "code",
   "execution_count": 48,
   "metadata": {},
   "outputs": [
    {
     "data": {
      "text/plain": [
       "['7214047977', '9573212919', '9625993428', '9983891212', 'B000001OM5']"
      ]
     },
     "execution_count": 48,
     "metadata": {},
     "output_type": "execute_result"
    }
   ],
   "source": [
    "Recommend = list(X.index[correlation_product_ID > 0.65])\n",
    "\n",
    "# Removing the item already bought by the customer\n",
    "Recommend.remove(n) \n",
    "\n",
    "Recommend[0:5]"
   ]
  },
  {
   "cell_type": "code",
   "execution_count": 49,
   "metadata": {},
   "outputs": [],
   "source": [
    "##final we have above recommended items "
   ]
  },
  {
   "cell_type": "code",
   "execution_count": 50,
   "metadata": {},
   "outputs": [],
   "source": [
    "# so far we have done"
   ]
  },
  {
   "cell_type": "code",
   "execution_count": 51,
   "metadata": {},
   "outputs": [],
   "source": [
    "# explored the given dataset by Rename column, plot histograms, find data characteristics\n",
    "# took a subset of the dataset where keep the users only who has given 50 or more number of ratings\n",
    "# Build Popularity Recommender model\n",
    "# Split the data randomly into a train and test dataset\n",
    "# Build Collaborative Filtering model ITEM-ITEM based\n",
    "# Evaluated the model by RMSE \n",
    "# recommending top 5 products --> ['1400501776', '1400599997', '1400698987', '3744295508', '8862935293'] \n"
   ]
  }
 ],
 "metadata": {
  "kernelspec": {
   "display_name": "Python 3",
   "language": "python",
   "name": "python3"
  },
  "language_info": {
   "codemirror_mode": {
    "name": "ipython",
    "version": 3
   },
   "file_extension": ".py",
   "mimetype": "text/x-python",
   "name": "python",
   "nbconvert_exporter": "python",
   "pygments_lexer": "ipython3",
   "version": "3.7.4"
  }
 },
 "nbformat": 4,
 "nbformat_minor": 2
}
